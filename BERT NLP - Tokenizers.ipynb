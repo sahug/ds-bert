{
  "nbformat": 4,
  "nbformat_minor": 0,
  "metadata": {
    "colab": {
      "name": "BERT NLP - Tokenizers.ipynb",
      "provenance": [],
      "collapsed_sections": [],
      "authorship_tag": "ABX9TyNricl89nHIFcEYhp+f1TBg",
      "include_colab_link": true
    },
    "kernelspec": {
      "name": "python3",
      "display_name": "Python 3"
    },
    "language_info": {
      "name": "python"
    },
    "widgets": {
      "application/vnd.jupyter.widget-state+json": {
        "cf457150c601415d8c5935e1e928eef8": {
          "model_module": "@jupyter-widgets/controls",
          "model_name": "HBoxModel",
          "model_module_version": "1.5.0",
          "state": {
            "_dom_classes": [],
            "_model_module": "@jupyter-widgets/controls",
            "_model_module_version": "1.5.0",
            "_model_name": "HBoxModel",
            "_view_count": null,
            "_view_module": "@jupyter-widgets/controls",
            "_view_module_version": "1.5.0",
            "_view_name": "HBoxView",
            "box_style": "",
            "children": [
              "IPY_MODEL_9b982e53ab2045cc84682e04cae91430",
              "IPY_MODEL_c0a4c524219b48f48774b4546b3ac15d",
              "IPY_MODEL_5d4f8b89306141288b0fc7dd43e08ceb"
            ],
            "layout": "IPY_MODEL_2ec9a5d83eca4f02a722b2f7df55e920"
          }
        },
        "9b982e53ab2045cc84682e04cae91430": {
          "model_module": "@jupyter-widgets/controls",
          "model_name": "HTMLModel",
          "model_module_version": "1.5.0",
          "state": {
            "_dom_classes": [],
            "_model_module": "@jupyter-widgets/controls",
            "_model_module_version": "1.5.0",
            "_model_name": "HTMLModel",
            "_view_count": null,
            "_view_module": "@jupyter-widgets/controls",
            "_view_module_version": "1.5.0",
            "_view_name": "HTMLView",
            "description": "",
            "description_tooltip": null,
            "layout": "IPY_MODEL_c86b1a44b0674ead9db747da7a9d8394",
            "placeholder": "​",
            "style": "IPY_MODEL_3278786517b647d0bf9f22f1a1f8682b",
            "value": "Downloading: 100%"
          }
        },
        "c0a4c524219b48f48774b4546b3ac15d": {
          "model_module": "@jupyter-widgets/controls",
          "model_name": "FloatProgressModel",
          "model_module_version": "1.5.0",
          "state": {
            "_dom_classes": [],
            "_model_module": "@jupyter-widgets/controls",
            "_model_module_version": "1.5.0",
            "_model_name": "FloatProgressModel",
            "_view_count": null,
            "_view_module": "@jupyter-widgets/controls",
            "_view_module_version": "1.5.0",
            "_view_name": "ProgressView",
            "bar_style": "success",
            "description": "",
            "description_tooltip": null,
            "layout": "IPY_MODEL_03b75b4ec2904a4c834cd897441235ec",
            "max": 231508,
            "min": 0,
            "orientation": "horizontal",
            "style": "IPY_MODEL_e9d1116be79d43f4977f508ee3fa2b6e",
            "value": 231508
          }
        },
        "5d4f8b89306141288b0fc7dd43e08ceb": {
          "model_module": "@jupyter-widgets/controls",
          "model_name": "HTMLModel",
          "model_module_version": "1.5.0",
          "state": {
            "_dom_classes": [],
            "_model_module": "@jupyter-widgets/controls",
            "_model_module_version": "1.5.0",
            "_model_name": "HTMLModel",
            "_view_count": null,
            "_view_module": "@jupyter-widgets/controls",
            "_view_module_version": "1.5.0",
            "_view_name": "HTMLView",
            "description": "",
            "description_tooltip": null,
            "layout": "IPY_MODEL_5e1cc365c85b4664b471400d3995d289",
            "placeholder": "​",
            "style": "IPY_MODEL_29e31ce759454497bec0ac247443f773",
            "value": " 226k/226k [00:00&lt;00:00, 986kB/s]"
          }
        },
        "2ec9a5d83eca4f02a722b2f7df55e920": {
          "model_module": "@jupyter-widgets/base",
          "model_name": "LayoutModel",
          "model_module_version": "1.2.0",
          "state": {
            "_model_module": "@jupyter-widgets/base",
            "_model_module_version": "1.2.0",
            "_model_name": "LayoutModel",
            "_view_count": null,
            "_view_module": "@jupyter-widgets/base",
            "_view_module_version": "1.2.0",
            "_view_name": "LayoutView",
            "align_content": null,
            "align_items": null,
            "align_self": null,
            "border": null,
            "bottom": null,
            "display": null,
            "flex": null,
            "flex_flow": null,
            "grid_area": null,
            "grid_auto_columns": null,
            "grid_auto_flow": null,
            "grid_auto_rows": null,
            "grid_column": null,
            "grid_gap": null,
            "grid_row": null,
            "grid_template_areas": null,
            "grid_template_columns": null,
            "grid_template_rows": null,
            "height": null,
            "justify_content": null,
            "justify_items": null,
            "left": null,
            "margin": null,
            "max_height": null,
            "max_width": null,
            "min_height": null,
            "min_width": null,
            "object_fit": null,
            "object_position": null,
            "order": null,
            "overflow": null,
            "overflow_x": null,
            "overflow_y": null,
            "padding": null,
            "right": null,
            "top": null,
            "visibility": null,
            "width": null
          }
        },
        "c86b1a44b0674ead9db747da7a9d8394": {
          "model_module": "@jupyter-widgets/base",
          "model_name": "LayoutModel",
          "model_module_version": "1.2.0",
          "state": {
            "_model_module": "@jupyter-widgets/base",
            "_model_module_version": "1.2.0",
            "_model_name": "LayoutModel",
            "_view_count": null,
            "_view_module": "@jupyter-widgets/base",
            "_view_module_version": "1.2.0",
            "_view_name": "LayoutView",
            "align_content": null,
            "align_items": null,
            "align_self": null,
            "border": null,
            "bottom": null,
            "display": null,
            "flex": null,
            "flex_flow": null,
            "grid_area": null,
            "grid_auto_columns": null,
            "grid_auto_flow": null,
            "grid_auto_rows": null,
            "grid_column": null,
            "grid_gap": null,
            "grid_row": null,
            "grid_template_areas": null,
            "grid_template_columns": null,
            "grid_template_rows": null,
            "height": null,
            "justify_content": null,
            "justify_items": null,
            "left": null,
            "margin": null,
            "max_height": null,
            "max_width": null,
            "min_height": null,
            "min_width": null,
            "object_fit": null,
            "object_position": null,
            "order": null,
            "overflow": null,
            "overflow_x": null,
            "overflow_y": null,
            "padding": null,
            "right": null,
            "top": null,
            "visibility": null,
            "width": null
          }
        },
        "3278786517b647d0bf9f22f1a1f8682b": {
          "model_module": "@jupyter-widgets/controls",
          "model_name": "DescriptionStyleModel",
          "model_module_version": "1.5.0",
          "state": {
            "_model_module": "@jupyter-widgets/controls",
            "_model_module_version": "1.5.0",
            "_model_name": "DescriptionStyleModel",
            "_view_count": null,
            "_view_module": "@jupyter-widgets/base",
            "_view_module_version": "1.2.0",
            "_view_name": "StyleView",
            "description_width": ""
          }
        },
        "03b75b4ec2904a4c834cd897441235ec": {
          "model_module": "@jupyter-widgets/base",
          "model_name": "LayoutModel",
          "model_module_version": "1.2.0",
          "state": {
            "_model_module": "@jupyter-widgets/base",
            "_model_module_version": "1.2.0",
            "_model_name": "LayoutModel",
            "_view_count": null,
            "_view_module": "@jupyter-widgets/base",
            "_view_module_version": "1.2.0",
            "_view_name": "LayoutView",
            "align_content": null,
            "align_items": null,
            "align_self": null,
            "border": null,
            "bottom": null,
            "display": null,
            "flex": null,
            "flex_flow": null,
            "grid_area": null,
            "grid_auto_columns": null,
            "grid_auto_flow": null,
            "grid_auto_rows": null,
            "grid_column": null,
            "grid_gap": null,
            "grid_row": null,
            "grid_template_areas": null,
            "grid_template_columns": null,
            "grid_template_rows": null,
            "height": null,
            "justify_content": null,
            "justify_items": null,
            "left": null,
            "margin": null,
            "max_height": null,
            "max_width": null,
            "min_height": null,
            "min_width": null,
            "object_fit": null,
            "object_position": null,
            "order": null,
            "overflow": null,
            "overflow_x": null,
            "overflow_y": null,
            "padding": null,
            "right": null,
            "top": null,
            "visibility": null,
            "width": null
          }
        },
        "e9d1116be79d43f4977f508ee3fa2b6e": {
          "model_module": "@jupyter-widgets/controls",
          "model_name": "ProgressStyleModel",
          "model_module_version": "1.5.0",
          "state": {
            "_model_module": "@jupyter-widgets/controls",
            "_model_module_version": "1.5.0",
            "_model_name": "ProgressStyleModel",
            "_view_count": null,
            "_view_module": "@jupyter-widgets/base",
            "_view_module_version": "1.2.0",
            "_view_name": "StyleView",
            "bar_color": null,
            "description_width": ""
          }
        },
        "5e1cc365c85b4664b471400d3995d289": {
          "model_module": "@jupyter-widgets/base",
          "model_name": "LayoutModel",
          "model_module_version": "1.2.0",
          "state": {
            "_model_module": "@jupyter-widgets/base",
            "_model_module_version": "1.2.0",
            "_model_name": "LayoutModel",
            "_view_count": null,
            "_view_module": "@jupyter-widgets/base",
            "_view_module_version": "1.2.0",
            "_view_name": "LayoutView",
            "align_content": null,
            "align_items": null,
            "align_self": null,
            "border": null,
            "bottom": null,
            "display": null,
            "flex": null,
            "flex_flow": null,
            "grid_area": null,
            "grid_auto_columns": null,
            "grid_auto_flow": null,
            "grid_auto_rows": null,
            "grid_column": null,
            "grid_gap": null,
            "grid_row": null,
            "grid_template_areas": null,
            "grid_template_columns": null,
            "grid_template_rows": null,
            "height": null,
            "justify_content": null,
            "justify_items": null,
            "left": null,
            "margin": null,
            "max_height": null,
            "max_width": null,
            "min_height": null,
            "min_width": null,
            "object_fit": null,
            "object_position": null,
            "order": null,
            "overflow": null,
            "overflow_x": null,
            "overflow_y": null,
            "padding": null,
            "right": null,
            "top": null,
            "visibility": null,
            "width": null
          }
        },
        "29e31ce759454497bec0ac247443f773": {
          "model_module": "@jupyter-widgets/controls",
          "model_name": "DescriptionStyleModel",
          "model_module_version": "1.5.0",
          "state": {
            "_model_module": "@jupyter-widgets/controls",
            "_model_module_version": "1.5.0",
            "_model_name": "DescriptionStyleModel",
            "_view_count": null,
            "_view_module": "@jupyter-widgets/base",
            "_view_module_version": "1.2.0",
            "_view_name": "StyleView",
            "description_width": ""
          }
        },
        "9c8810eb7b9e44e78518806c31af716e": {
          "model_module": "@jupyter-widgets/controls",
          "model_name": "HBoxModel",
          "model_module_version": "1.5.0",
          "state": {
            "_dom_classes": [],
            "_model_module": "@jupyter-widgets/controls",
            "_model_module_version": "1.5.0",
            "_model_name": "HBoxModel",
            "_view_count": null,
            "_view_module": "@jupyter-widgets/controls",
            "_view_module_version": "1.5.0",
            "_view_name": "HBoxView",
            "box_style": "",
            "children": [
              "IPY_MODEL_651d226391284b42bc5fc1d7b6c2f879",
              "IPY_MODEL_8882fdf1b5cd49249dcf27bc2278012f",
              "IPY_MODEL_45ec0f1cc67544ad9e97f5c689fea72e"
            ],
            "layout": "IPY_MODEL_57939792554b4c94ad1cebab0011b781"
          }
        },
        "651d226391284b42bc5fc1d7b6c2f879": {
          "model_module": "@jupyter-widgets/controls",
          "model_name": "HTMLModel",
          "model_module_version": "1.5.0",
          "state": {
            "_dom_classes": [],
            "_model_module": "@jupyter-widgets/controls",
            "_model_module_version": "1.5.0",
            "_model_name": "HTMLModel",
            "_view_count": null,
            "_view_module": "@jupyter-widgets/controls",
            "_view_module_version": "1.5.0",
            "_view_name": "HTMLView",
            "description": "",
            "description_tooltip": null,
            "layout": "IPY_MODEL_e05f114aa36a474eab80a467c58ff3f5",
            "placeholder": "​",
            "style": "IPY_MODEL_8839370007944f3991af67cdf4ad224d",
            "value": "Downloading: 100%"
          }
        },
        "8882fdf1b5cd49249dcf27bc2278012f": {
          "model_module": "@jupyter-widgets/controls",
          "model_name": "FloatProgressModel",
          "model_module_version": "1.5.0",
          "state": {
            "_dom_classes": [],
            "_model_module": "@jupyter-widgets/controls",
            "_model_module_version": "1.5.0",
            "_model_name": "FloatProgressModel",
            "_view_count": null,
            "_view_module": "@jupyter-widgets/controls",
            "_view_module_version": "1.5.0",
            "_view_name": "ProgressView",
            "bar_style": "success",
            "description": "",
            "description_tooltip": null,
            "layout": "IPY_MODEL_a9b0cacd4f1643d0a32cfb8962bbe60b",
            "max": 28,
            "min": 0,
            "orientation": "horizontal",
            "style": "IPY_MODEL_6c408988bd274de69b93609b3a9e6298",
            "value": 28
          }
        },
        "45ec0f1cc67544ad9e97f5c689fea72e": {
          "model_module": "@jupyter-widgets/controls",
          "model_name": "HTMLModel",
          "model_module_version": "1.5.0",
          "state": {
            "_dom_classes": [],
            "_model_module": "@jupyter-widgets/controls",
            "_model_module_version": "1.5.0",
            "_model_name": "HTMLModel",
            "_view_count": null,
            "_view_module": "@jupyter-widgets/controls",
            "_view_module_version": "1.5.0",
            "_view_name": "HTMLView",
            "description": "",
            "description_tooltip": null,
            "layout": "IPY_MODEL_c86691140692445d88ba3e7f9a9ef7c3",
            "placeholder": "​",
            "style": "IPY_MODEL_6dd63d6a51f84beea95f3364be291533",
            "value": " 28.0/28.0 [00:00&lt;00:00, 457B/s]"
          }
        },
        "57939792554b4c94ad1cebab0011b781": {
          "model_module": "@jupyter-widgets/base",
          "model_name": "LayoutModel",
          "model_module_version": "1.2.0",
          "state": {
            "_model_module": "@jupyter-widgets/base",
            "_model_module_version": "1.2.0",
            "_model_name": "LayoutModel",
            "_view_count": null,
            "_view_module": "@jupyter-widgets/base",
            "_view_module_version": "1.2.0",
            "_view_name": "LayoutView",
            "align_content": null,
            "align_items": null,
            "align_self": null,
            "border": null,
            "bottom": null,
            "display": null,
            "flex": null,
            "flex_flow": null,
            "grid_area": null,
            "grid_auto_columns": null,
            "grid_auto_flow": null,
            "grid_auto_rows": null,
            "grid_column": null,
            "grid_gap": null,
            "grid_row": null,
            "grid_template_areas": null,
            "grid_template_columns": null,
            "grid_template_rows": null,
            "height": null,
            "justify_content": null,
            "justify_items": null,
            "left": null,
            "margin": null,
            "max_height": null,
            "max_width": null,
            "min_height": null,
            "min_width": null,
            "object_fit": null,
            "object_position": null,
            "order": null,
            "overflow": null,
            "overflow_x": null,
            "overflow_y": null,
            "padding": null,
            "right": null,
            "top": null,
            "visibility": null,
            "width": null
          }
        },
        "e05f114aa36a474eab80a467c58ff3f5": {
          "model_module": "@jupyter-widgets/base",
          "model_name": "LayoutModel",
          "model_module_version": "1.2.0",
          "state": {
            "_model_module": "@jupyter-widgets/base",
            "_model_module_version": "1.2.0",
            "_model_name": "LayoutModel",
            "_view_count": null,
            "_view_module": "@jupyter-widgets/base",
            "_view_module_version": "1.2.0",
            "_view_name": "LayoutView",
            "align_content": null,
            "align_items": null,
            "align_self": null,
            "border": null,
            "bottom": null,
            "display": null,
            "flex": null,
            "flex_flow": null,
            "grid_area": null,
            "grid_auto_columns": null,
            "grid_auto_flow": null,
            "grid_auto_rows": null,
            "grid_column": null,
            "grid_gap": null,
            "grid_row": null,
            "grid_template_areas": null,
            "grid_template_columns": null,
            "grid_template_rows": null,
            "height": null,
            "justify_content": null,
            "justify_items": null,
            "left": null,
            "margin": null,
            "max_height": null,
            "max_width": null,
            "min_height": null,
            "min_width": null,
            "object_fit": null,
            "object_position": null,
            "order": null,
            "overflow": null,
            "overflow_x": null,
            "overflow_y": null,
            "padding": null,
            "right": null,
            "top": null,
            "visibility": null,
            "width": null
          }
        },
        "8839370007944f3991af67cdf4ad224d": {
          "model_module": "@jupyter-widgets/controls",
          "model_name": "DescriptionStyleModel",
          "model_module_version": "1.5.0",
          "state": {
            "_model_module": "@jupyter-widgets/controls",
            "_model_module_version": "1.5.0",
            "_model_name": "DescriptionStyleModel",
            "_view_count": null,
            "_view_module": "@jupyter-widgets/base",
            "_view_module_version": "1.2.0",
            "_view_name": "StyleView",
            "description_width": ""
          }
        },
        "a9b0cacd4f1643d0a32cfb8962bbe60b": {
          "model_module": "@jupyter-widgets/base",
          "model_name": "LayoutModel",
          "model_module_version": "1.2.0",
          "state": {
            "_model_module": "@jupyter-widgets/base",
            "_model_module_version": "1.2.0",
            "_model_name": "LayoutModel",
            "_view_count": null,
            "_view_module": "@jupyter-widgets/base",
            "_view_module_version": "1.2.0",
            "_view_name": "LayoutView",
            "align_content": null,
            "align_items": null,
            "align_self": null,
            "border": null,
            "bottom": null,
            "display": null,
            "flex": null,
            "flex_flow": null,
            "grid_area": null,
            "grid_auto_columns": null,
            "grid_auto_flow": null,
            "grid_auto_rows": null,
            "grid_column": null,
            "grid_gap": null,
            "grid_row": null,
            "grid_template_areas": null,
            "grid_template_columns": null,
            "grid_template_rows": null,
            "height": null,
            "justify_content": null,
            "justify_items": null,
            "left": null,
            "margin": null,
            "max_height": null,
            "max_width": null,
            "min_height": null,
            "min_width": null,
            "object_fit": null,
            "object_position": null,
            "order": null,
            "overflow": null,
            "overflow_x": null,
            "overflow_y": null,
            "padding": null,
            "right": null,
            "top": null,
            "visibility": null,
            "width": null
          }
        },
        "6c408988bd274de69b93609b3a9e6298": {
          "model_module": "@jupyter-widgets/controls",
          "model_name": "ProgressStyleModel",
          "model_module_version": "1.5.0",
          "state": {
            "_model_module": "@jupyter-widgets/controls",
            "_model_module_version": "1.5.0",
            "_model_name": "ProgressStyleModel",
            "_view_count": null,
            "_view_module": "@jupyter-widgets/base",
            "_view_module_version": "1.2.0",
            "_view_name": "StyleView",
            "bar_color": null,
            "description_width": ""
          }
        },
        "c86691140692445d88ba3e7f9a9ef7c3": {
          "model_module": "@jupyter-widgets/base",
          "model_name": "LayoutModel",
          "model_module_version": "1.2.0",
          "state": {
            "_model_module": "@jupyter-widgets/base",
            "_model_module_version": "1.2.0",
            "_model_name": "LayoutModel",
            "_view_count": null,
            "_view_module": "@jupyter-widgets/base",
            "_view_module_version": "1.2.0",
            "_view_name": "LayoutView",
            "align_content": null,
            "align_items": null,
            "align_self": null,
            "border": null,
            "bottom": null,
            "display": null,
            "flex": null,
            "flex_flow": null,
            "grid_area": null,
            "grid_auto_columns": null,
            "grid_auto_flow": null,
            "grid_auto_rows": null,
            "grid_column": null,
            "grid_gap": null,
            "grid_row": null,
            "grid_template_areas": null,
            "grid_template_columns": null,
            "grid_template_rows": null,
            "height": null,
            "justify_content": null,
            "justify_items": null,
            "left": null,
            "margin": null,
            "max_height": null,
            "max_width": null,
            "min_height": null,
            "min_width": null,
            "object_fit": null,
            "object_position": null,
            "order": null,
            "overflow": null,
            "overflow_x": null,
            "overflow_y": null,
            "padding": null,
            "right": null,
            "top": null,
            "visibility": null,
            "width": null
          }
        },
        "6dd63d6a51f84beea95f3364be291533": {
          "model_module": "@jupyter-widgets/controls",
          "model_name": "DescriptionStyleModel",
          "model_module_version": "1.5.0",
          "state": {
            "_model_module": "@jupyter-widgets/controls",
            "_model_module_version": "1.5.0",
            "_model_name": "DescriptionStyleModel",
            "_view_count": null,
            "_view_module": "@jupyter-widgets/base",
            "_view_module_version": "1.2.0",
            "_view_name": "StyleView",
            "description_width": ""
          }
        },
        "515bbcb82173467793344f46757242e7": {
          "model_module": "@jupyter-widgets/controls",
          "model_name": "HBoxModel",
          "model_module_version": "1.5.0",
          "state": {
            "_dom_classes": [],
            "_model_module": "@jupyter-widgets/controls",
            "_model_module_version": "1.5.0",
            "_model_name": "HBoxModel",
            "_view_count": null,
            "_view_module": "@jupyter-widgets/controls",
            "_view_module_version": "1.5.0",
            "_view_name": "HBoxView",
            "box_style": "",
            "children": [
              "IPY_MODEL_206ee59c164c441585fb10953e20da81",
              "IPY_MODEL_cead62e29a49489ab9aee79c74429264",
              "IPY_MODEL_ea8b2b56c3224ce9bef5ff00678176f1"
            ],
            "layout": "IPY_MODEL_5bc5e5a050e44d80a4f83552216a47a9"
          }
        },
        "206ee59c164c441585fb10953e20da81": {
          "model_module": "@jupyter-widgets/controls",
          "model_name": "HTMLModel",
          "model_module_version": "1.5.0",
          "state": {
            "_dom_classes": [],
            "_model_module": "@jupyter-widgets/controls",
            "_model_module_version": "1.5.0",
            "_model_name": "HTMLModel",
            "_view_count": null,
            "_view_module": "@jupyter-widgets/controls",
            "_view_module_version": "1.5.0",
            "_view_name": "HTMLView",
            "description": "",
            "description_tooltip": null,
            "layout": "IPY_MODEL_d2a7b1d12e2d452b8aea189a52cb92d1",
            "placeholder": "​",
            "style": "IPY_MODEL_99ffb7ba13174979bd49b99183a0cdbf",
            "value": "Downloading: 100%"
          }
        },
        "cead62e29a49489ab9aee79c74429264": {
          "model_module": "@jupyter-widgets/controls",
          "model_name": "FloatProgressModel",
          "model_module_version": "1.5.0",
          "state": {
            "_dom_classes": [],
            "_model_module": "@jupyter-widgets/controls",
            "_model_module_version": "1.5.0",
            "_model_name": "FloatProgressModel",
            "_view_count": null,
            "_view_module": "@jupyter-widgets/controls",
            "_view_module_version": "1.5.0",
            "_view_name": "ProgressView",
            "bar_style": "success",
            "description": "",
            "description_tooltip": null,
            "layout": "IPY_MODEL_916dccb5df7e46f28f4a587952ed3458",
            "max": 570,
            "min": 0,
            "orientation": "horizontal",
            "style": "IPY_MODEL_3157c7b2e5154860b998d351dff06684",
            "value": 570
          }
        },
        "ea8b2b56c3224ce9bef5ff00678176f1": {
          "model_module": "@jupyter-widgets/controls",
          "model_name": "HTMLModel",
          "model_module_version": "1.5.0",
          "state": {
            "_dom_classes": [],
            "_model_module": "@jupyter-widgets/controls",
            "_model_module_version": "1.5.0",
            "_model_name": "HTMLModel",
            "_view_count": null,
            "_view_module": "@jupyter-widgets/controls",
            "_view_module_version": "1.5.0",
            "_view_name": "HTMLView",
            "description": "",
            "description_tooltip": null,
            "layout": "IPY_MODEL_3bbd0323736e4e76bab321c381f13b99",
            "placeholder": "​",
            "style": "IPY_MODEL_8ac0b54e698a4b3e9c20717cde8cbc6a",
            "value": " 570/570 [00:00&lt;00:00, 14.2kB/s]"
          }
        },
        "5bc5e5a050e44d80a4f83552216a47a9": {
          "model_module": "@jupyter-widgets/base",
          "model_name": "LayoutModel",
          "model_module_version": "1.2.0",
          "state": {
            "_model_module": "@jupyter-widgets/base",
            "_model_module_version": "1.2.0",
            "_model_name": "LayoutModel",
            "_view_count": null,
            "_view_module": "@jupyter-widgets/base",
            "_view_module_version": "1.2.0",
            "_view_name": "LayoutView",
            "align_content": null,
            "align_items": null,
            "align_self": null,
            "border": null,
            "bottom": null,
            "display": null,
            "flex": null,
            "flex_flow": null,
            "grid_area": null,
            "grid_auto_columns": null,
            "grid_auto_flow": null,
            "grid_auto_rows": null,
            "grid_column": null,
            "grid_gap": null,
            "grid_row": null,
            "grid_template_areas": null,
            "grid_template_columns": null,
            "grid_template_rows": null,
            "height": null,
            "justify_content": null,
            "justify_items": null,
            "left": null,
            "margin": null,
            "max_height": null,
            "max_width": null,
            "min_height": null,
            "min_width": null,
            "object_fit": null,
            "object_position": null,
            "order": null,
            "overflow": null,
            "overflow_x": null,
            "overflow_y": null,
            "padding": null,
            "right": null,
            "top": null,
            "visibility": null,
            "width": null
          }
        },
        "d2a7b1d12e2d452b8aea189a52cb92d1": {
          "model_module": "@jupyter-widgets/base",
          "model_name": "LayoutModel",
          "model_module_version": "1.2.0",
          "state": {
            "_model_module": "@jupyter-widgets/base",
            "_model_module_version": "1.2.0",
            "_model_name": "LayoutModel",
            "_view_count": null,
            "_view_module": "@jupyter-widgets/base",
            "_view_module_version": "1.2.0",
            "_view_name": "LayoutView",
            "align_content": null,
            "align_items": null,
            "align_self": null,
            "border": null,
            "bottom": null,
            "display": null,
            "flex": null,
            "flex_flow": null,
            "grid_area": null,
            "grid_auto_columns": null,
            "grid_auto_flow": null,
            "grid_auto_rows": null,
            "grid_column": null,
            "grid_gap": null,
            "grid_row": null,
            "grid_template_areas": null,
            "grid_template_columns": null,
            "grid_template_rows": null,
            "height": null,
            "justify_content": null,
            "justify_items": null,
            "left": null,
            "margin": null,
            "max_height": null,
            "max_width": null,
            "min_height": null,
            "min_width": null,
            "object_fit": null,
            "object_position": null,
            "order": null,
            "overflow": null,
            "overflow_x": null,
            "overflow_y": null,
            "padding": null,
            "right": null,
            "top": null,
            "visibility": null,
            "width": null
          }
        },
        "99ffb7ba13174979bd49b99183a0cdbf": {
          "model_module": "@jupyter-widgets/controls",
          "model_name": "DescriptionStyleModel",
          "model_module_version": "1.5.0",
          "state": {
            "_model_module": "@jupyter-widgets/controls",
            "_model_module_version": "1.5.0",
            "_model_name": "DescriptionStyleModel",
            "_view_count": null,
            "_view_module": "@jupyter-widgets/base",
            "_view_module_version": "1.2.0",
            "_view_name": "StyleView",
            "description_width": ""
          }
        },
        "916dccb5df7e46f28f4a587952ed3458": {
          "model_module": "@jupyter-widgets/base",
          "model_name": "LayoutModel",
          "model_module_version": "1.2.0",
          "state": {
            "_model_module": "@jupyter-widgets/base",
            "_model_module_version": "1.2.0",
            "_model_name": "LayoutModel",
            "_view_count": null,
            "_view_module": "@jupyter-widgets/base",
            "_view_module_version": "1.2.0",
            "_view_name": "LayoutView",
            "align_content": null,
            "align_items": null,
            "align_self": null,
            "border": null,
            "bottom": null,
            "display": null,
            "flex": null,
            "flex_flow": null,
            "grid_area": null,
            "grid_auto_columns": null,
            "grid_auto_flow": null,
            "grid_auto_rows": null,
            "grid_column": null,
            "grid_gap": null,
            "grid_row": null,
            "grid_template_areas": null,
            "grid_template_columns": null,
            "grid_template_rows": null,
            "height": null,
            "justify_content": null,
            "justify_items": null,
            "left": null,
            "margin": null,
            "max_height": null,
            "max_width": null,
            "min_height": null,
            "min_width": null,
            "object_fit": null,
            "object_position": null,
            "order": null,
            "overflow": null,
            "overflow_x": null,
            "overflow_y": null,
            "padding": null,
            "right": null,
            "top": null,
            "visibility": null,
            "width": null
          }
        },
        "3157c7b2e5154860b998d351dff06684": {
          "model_module": "@jupyter-widgets/controls",
          "model_name": "ProgressStyleModel",
          "model_module_version": "1.5.0",
          "state": {
            "_model_module": "@jupyter-widgets/controls",
            "_model_module_version": "1.5.0",
            "_model_name": "ProgressStyleModel",
            "_view_count": null,
            "_view_module": "@jupyter-widgets/base",
            "_view_module_version": "1.2.0",
            "_view_name": "StyleView",
            "bar_color": null,
            "description_width": ""
          }
        },
        "3bbd0323736e4e76bab321c381f13b99": {
          "model_module": "@jupyter-widgets/base",
          "model_name": "LayoutModel",
          "model_module_version": "1.2.0",
          "state": {
            "_model_module": "@jupyter-widgets/base",
            "_model_module_version": "1.2.0",
            "_model_name": "LayoutModel",
            "_view_count": null,
            "_view_module": "@jupyter-widgets/base",
            "_view_module_version": "1.2.0",
            "_view_name": "LayoutView",
            "align_content": null,
            "align_items": null,
            "align_self": null,
            "border": null,
            "bottom": null,
            "display": null,
            "flex": null,
            "flex_flow": null,
            "grid_area": null,
            "grid_auto_columns": null,
            "grid_auto_flow": null,
            "grid_auto_rows": null,
            "grid_column": null,
            "grid_gap": null,
            "grid_row": null,
            "grid_template_areas": null,
            "grid_template_columns": null,
            "grid_template_rows": null,
            "height": null,
            "justify_content": null,
            "justify_items": null,
            "left": null,
            "margin": null,
            "max_height": null,
            "max_width": null,
            "min_height": null,
            "min_width": null,
            "object_fit": null,
            "object_position": null,
            "order": null,
            "overflow": null,
            "overflow_x": null,
            "overflow_y": null,
            "padding": null,
            "right": null,
            "top": null,
            "visibility": null,
            "width": null
          }
        },
        "8ac0b54e698a4b3e9c20717cde8cbc6a": {
          "model_module": "@jupyter-widgets/controls",
          "model_name": "DescriptionStyleModel",
          "model_module_version": "1.5.0",
          "state": {
            "_model_module": "@jupyter-widgets/controls",
            "_model_module_version": "1.5.0",
            "_model_name": "DescriptionStyleModel",
            "_view_count": null,
            "_view_module": "@jupyter-widgets/base",
            "_view_module_version": "1.2.0",
            "_view_name": "StyleView",
            "description_width": ""
          }
        }
      }
    }
  },
  "cells": [
    {
      "cell_type": "markdown",
      "metadata": {
        "id": "view-in-github",
        "colab_type": "text"
      },
      "source": [
        "<a href=\"https://colab.research.google.com/github/sahug/ds-bert/blob/main/BERT%20NLP%20-%20Tokenizers.ipynb\" target=\"_parent\"><img src=\"https://colab.research.google.com/assets/colab-badge.svg\" alt=\"Open In Colab\"/></a>"
      ]
    },
    {
      "cell_type": "markdown",
      "source": [
        "**BERT NLP - Tokenizers**"
      ],
      "metadata": {
        "id": "cb2q3xX_7wEB"
      }
    },
    {
      "cell_type": "markdown",
      "source": [
        "A tokenizer is in charge of preparing the inputs for a model. The library contains tokenizers for all the models. Most of the tokenizers are available in two flavors: a full python implementation and a “Fast” implementation based on the Rust library."
      ],
      "metadata": {
        "id": "XPxHTYd7-fd1"
      }
    },
    {
      "cell_type": "markdown",
      "source": [
        "**Install Transformers**"
      ],
      "metadata": {
        "id": "X-l_VZTR73iT"
      }
    },
    {
      "cell_type": "code",
      "execution_count": 2,
      "metadata": {
        "id": "IgezeVBd62Wb"
      },
      "outputs": [],
      "source": [
        "%pip install -qq transformers"
      ]
    },
    {
      "cell_type": "markdown",
      "source": [
        "**Import Tokenizer**"
      ],
      "metadata": {
        "id": "p5xhGGP87-Fl"
      }
    },
    {
      "cell_type": "code",
      "source": [
        "from transformers import BertTokenizer"
      ],
      "metadata": {
        "id": "UCFboaMJ8C34"
      },
      "execution_count": 3,
      "outputs": []
    },
    {
      "cell_type": "markdown",
      "source": [
        "**Tokenizer**\n"
      ],
      "metadata": {
        "id": "hOsFOSM4Eyb0"
      }
    },
    {
      "cell_type": "code",
      "source": [
        "tokenizer = BertTokenizer.from_pretrained(\"bert-base-uncased\")"
      ],
      "metadata": {
        "colab": {
          "base_uri": "https://localhost:8080/",
          "height": 113,
          "referenced_widgets": [
            "cf457150c601415d8c5935e1e928eef8",
            "9b982e53ab2045cc84682e04cae91430",
            "c0a4c524219b48f48774b4546b3ac15d",
            "5d4f8b89306141288b0fc7dd43e08ceb",
            "2ec9a5d83eca4f02a722b2f7df55e920",
            "c86b1a44b0674ead9db747da7a9d8394",
            "3278786517b647d0bf9f22f1a1f8682b",
            "03b75b4ec2904a4c834cd897441235ec",
            "e9d1116be79d43f4977f508ee3fa2b6e",
            "5e1cc365c85b4664b471400d3995d289",
            "29e31ce759454497bec0ac247443f773",
            "9c8810eb7b9e44e78518806c31af716e",
            "651d226391284b42bc5fc1d7b6c2f879",
            "8882fdf1b5cd49249dcf27bc2278012f",
            "45ec0f1cc67544ad9e97f5c689fea72e",
            "57939792554b4c94ad1cebab0011b781",
            "e05f114aa36a474eab80a467c58ff3f5",
            "8839370007944f3991af67cdf4ad224d",
            "a9b0cacd4f1643d0a32cfb8962bbe60b",
            "6c408988bd274de69b93609b3a9e6298",
            "c86691140692445d88ba3e7f9a9ef7c3",
            "6dd63d6a51f84beea95f3364be291533",
            "515bbcb82173467793344f46757242e7",
            "206ee59c164c441585fb10953e20da81",
            "cead62e29a49489ab9aee79c74429264",
            "ea8b2b56c3224ce9bef5ff00678176f1",
            "5bc5e5a050e44d80a4f83552216a47a9",
            "d2a7b1d12e2d452b8aea189a52cb92d1",
            "99ffb7ba13174979bd49b99183a0cdbf",
            "916dccb5df7e46f28f4a587952ed3458",
            "3157c7b2e5154860b998d351dff06684",
            "3bbd0323736e4e76bab321c381f13b99",
            "8ac0b54e698a4b3e9c20717cde8cbc6a"
          ]
        },
        "id": "0qVjauBj8Uk3",
        "outputId": "2cb52024-aef1-499f-f3b6-9740ce240372"
      },
      "execution_count": 4,
      "outputs": [
        {
          "output_type": "display_data",
          "data": {
            "text/plain": [
              "Downloading:   0%|          | 0.00/226k [00:00<?, ?B/s]"
            ],
            "application/vnd.jupyter.widget-view+json": {
              "version_major": 2,
              "version_minor": 0,
              "model_id": "cf457150c601415d8c5935e1e928eef8"
            }
          },
          "metadata": {}
        },
        {
          "output_type": "display_data",
          "data": {
            "text/plain": [
              "Downloading:   0%|          | 0.00/28.0 [00:00<?, ?B/s]"
            ],
            "application/vnd.jupyter.widget-view+json": {
              "version_major": 2,
              "version_minor": 0,
              "model_id": "9c8810eb7b9e44e78518806c31af716e"
            }
          },
          "metadata": {}
        },
        {
          "output_type": "display_data",
          "data": {
            "text/plain": [
              "Downloading:   0%|          | 0.00/570 [00:00<?, ?B/s]"
            ],
            "application/vnd.jupyter.widget-view+json": {
              "version_major": 2,
              "version_minor": 0,
              "model_id": "515bbcb82173467793344f46757242e7"
            }
          },
          "metadata": {}
        }
      ]
    },
    {
      "cell_type": "markdown",
      "source": [
        "Apart from tokens for each words the tokenizer also returns 2 additional tokens to represents **start**, `[CLS]`, **101**, and **end**, `[SEP]`, **102**,  of each sentences. \n",
        "\n",
        "**Returns**\n",
        "- **input_ids:** The input ids are often the only required parameters to be passed to the model as input. They are token indices, numerical representations of tokens building the sequences that will be used as input by the model.\n",
        "\n",
        "- **attention_mask:** This argument indicates to the model which tokens should be attended to, and which should not. Mask to avoid performing attention on padding token indices. Mask values selected in [0, 1]. *1 for tokens that are not masked, 0 for tokens that are masked.*\n",
        "\n",
        "- **token_type_ids:** These require two different sequences to be joined in a single “input_ids” entry, which usually is performed with the help of special tokens, such as the classifier ([CLS]) and separator ([SEP]) tokens. For example, the BERT model builds its two sequence input as such: `[CLS] SEQUENCE_A [SEP] SEQUENCE_B [SEP]`"
      ],
      "metadata": {
        "id": "hd_PmJ9bEQnm"
      }
    },
    {
      "cell_type": "code",
      "source": [
        "texts = [\"This is a sentence.\", \"Here is another sentence. This is a little longer.\", \"This is short.\"]\n",
        "tokenizer_ = tokenizer(texts)\n",
        "print(tokenizer_)\n",
        "print(\"input_ids: \", tokenizer_.input_ids)\n",
        "print(\"token_type_ids: \", tokenizer_.token_type_ids)\n",
        "print(\"attention_mask: \", tokenizer_.attention_mask)\n",
        "print(\"decode: \", tokenizer.decode(tokenizer_[\"input_ids\"][0]))\n",
        "print(\"decode: \", tokenizer.decode(tokenizer_[\"input_ids\"][1]))\n",
        "print(\"decode: \", tokenizer.decode(tokenizer_[\"input_ids\"][2]))"
      ],
      "metadata": {
        "colab": {
          "base_uri": "https://localhost:8080/"
        },
        "id": "f2Acy5SuEU5f",
        "outputId": "be5e19b5-a6ea-45cc-8037-8ccfb0a86673"
      },
      "execution_count": 59,
      "outputs": [
        {
          "output_type": "stream",
          "name": "stdout",
          "text": [
            "{'input_ids': [[101, 2023, 2003, 1037, 6251, 1012, 102], [101, 2182, 2003, 2178, 6251, 1012, 2023, 2003, 1037, 2210, 2936, 1012, 102], [101, 2023, 2003, 2460, 1012, 102]], 'token_type_ids': [[0, 0, 0, 0, 0, 0, 0], [0, 0, 0, 0, 0, 0, 0, 0, 0, 0, 0, 0, 0], [0, 0, 0, 0, 0, 0]], 'attention_mask': [[1, 1, 1, 1, 1, 1, 1], [1, 1, 1, 1, 1, 1, 1, 1, 1, 1, 1, 1, 1], [1, 1, 1, 1, 1, 1]]}\n",
            "input_ids:  [[101, 2023, 2003, 1037, 6251, 1012, 102], [101, 2182, 2003, 2178, 6251, 1012, 2023, 2003, 1037, 2210, 2936, 1012, 102], [101, 2023, 2003, 2460, 1012, 102]]\n",
            "token_type_ids:  [[0, 0, 0, 0, 0, 0, 0], [0, 0, 0, 0, 0, 0, 0, 0, 0, 0, 0, 0, 0], [0, 0, 0, 0, 0, 0]]\n",
            "attention_mask:  [[1, 1, 1, 1, 1, 1, 1], [1, 1, 1, 1, 1, 1, 1, 1, 1, 1, 1, 1, 1], [1, 1, 1, 1, 1, 1]]\n",
            "decode:  [CLS] this is a sentence. [SEP]\n",
            "decode:  [CLS] here is another sentence. this is a little longer. [SEP]\n",
            "decode:  [CLS] this is short. [SEP]\n"
          ]
        }
      ]
    },
    {
      "cell_type": "markdown",
      "source": [
        "**Tokenizer Functions**\n",
        "- **tokenize** - Converts a string in a sequence of tokens, using the tokenizer. Returns list of tokens.\n",
        "- **convert_tokens_to_ids** - Return ids of the tokens.\n",
        "- **convert_ids_to_tokens** -  Convert token ids to token or word.\n",
        "- **convert_tokens_to_string** - Returns string from the tokens."
      ],
      "metadata": {
        "id": "xwWxeU6B9BK2"
      }
    },
    {
      "cell_type": "code",
      "source": [
        "def tokenize_(text):\n",
        "  tokens = tokenizer.tokenize(text)\n",
        "  token_ids = tokenizer.convert_tokens_to_ids(tokens)\n",
        "  words = tokenizer.convert_ids_to_tokens(token_ids)\n",
        "  string = tokenizer.convert_tokens_to_string(tokens)\n",
        "  print(\"tokenize: \", tokens, \"\\t\", \"Length\", len(tokens))\n",
        "  print(\"convert_tokens_to_ids: \", token_ids, \"\\t\", \"Length\", len(token_ids))\n",
        "  print(\"convert_ids_to_tokens: \", words, \"\\t\", \"Length\", len(words))\n",
        "  print(\"convert_tokens_to_string: \", string)"
      ],
      "metadata": {
        "id": "2KJdAqX_AX_F"
      },
      "execution_count": 29,
      "outputs": []
    },
    {
      "cell_type": "markdown",
      "source": [
        "**Example 1:** Plain Text"
      ],
      "metadata": {
        "id": "7d4Zh8YZ_ezE"
      }
    },
    {
      "cell_type": "code",
      "source": [
        "text = \"this is a simple text example\"\n",
        "tokenize_(text)"
      ],
      "metadata": {
        "colab": {
          "base_uri": "https://localhost:8080/"
        },
        "id": "HXALJkCw_hkh",
        "outputId": "4ab43d0f-a379-4c0d-e84d-9883fabeb987"
      },
      "execution_count": 30,
      "outputs": [
        {
          "output_type": "stream",
          "name": "stdout",
          "text": [
            "tokenize:  ['this', 'is', 'a', 'simple', 'text', 'example'] \t Length 6\n",
            "convert_tokens_to_ids:  [2023, 2003, 1037, 3722, 3793, 2742] \t Length 6\n",
            "convert_ids_to_tokens:  ['this', 'is', 'a', 'simple', 'text', 'example'] \t Length 6\n",
            "convert_tokens_to_string:  this is a simple text example\n"
          ]
        }
      ]
    },
    {
      "cell_type": "markdown",
      "source": [
        "**Example 2:** Comma Seperated"
      ],
      "metadata": {
        "id": "MWOFdva4BXK3"
      }
    },
    {
      "cell_type": "code",
      "source": [
        "text = \"this is a simple text example, this is alos an example\"\n",
        "tokenize_(text)"
      ],
      "metadata": {
        "colab": {
          "base_uri": "https://localhost:8080/"
        },
        "id": "OXslyMUQBY_z",
        "outputId": "e095dfc8-7861-49ee-94a2-69fb08ee31fa"
      },
      "execution_count": 31,
      "outputs": [
        {
          "output_type": "stream",
          "name": "stdout",
          "text": [
            "tokenize:  ['this', 'is', 'a', 'simple', 'text', 'example', ',', 'this', 'is', 'al', '##os', 'an', 'example'] \t Length 13\n",
            "convert_tokens_to_ids:  [2023, 2003, 1037, 3722, 3793, 2742, 1010, 2023, 2003, 2632, 2891, 2019, 2742] \t Length 13\n",
            "convert_ids_to_tokens:  ['this', 'is', 'a', 'simple', 'text', 'example', ',', 'this', 'is', 'al', '##os', 'an', 'example'] \t Length 13\n",
            "convert_tokens_to_string:  this is a simple text example , this is alos an example\n"
          ]
        }
      ]
    },
    {
      "cell_type": "markdown",
      "source": [
        "**Example 3:** Special Characters"
      ],
      "metadata": {
        "id": "xL2tDkgZBnDz"
      }
    },
    {
      "cell_type": "code",
      "source": [
        "text = \"this is a simple text example, (this is alos an example)\"\n",
        "tokenize_(text)"
      ],
      "metadata": {
        "colab": {
          "base_uri": "https://localhost:8080/"
        },
        "id": "ZdbZh07yBoqt",
        "outputId": "82167631-6673-4f1c-f2d3-016aef337ac2"
      },
      "execution_count": 32,
      "outputs": [
        {
          "output_type": "stream",
          "name": "stdout",
          "text": [
            "tokenize:  ['this', 'is', 'a', 'simple', 'text', 'example', ',', '(', 'this', 'is', 'al', '##os', 'an', 'example', ')'] \t Length 15\n",
            "convert_tokens_to_ids:  [2023, 2003, 1037, 3722, 3793, 2742, 1010, 1006, 2023, 2003, 2632, 2891, 2019, 2742, 1007] \t Length 15\n",
            "convert_ids_to_tokens:  ['this', 'is', 'a', 'simple', 'text', 'example', ',', '(', 'this', 'is', 'al', '##os', 'an', 'example', ')'] \t Length 15\n",
            "convert_tokens_to_string:  this is a simple text example , ( this is alos an example )\n"
          ]
        }
      ]
    },
    {
      "cell_type": "markdown",
      "source": [
        "**Example 4:** Two Sentences."
      ],
      "metadata": {
        "id": "mqwu4saBCOUt"
      }
    },
    {
      "cell_type": "code",
      "source": [
        "text = \"this is a simple text example. (This is alos an example)\"\n",
        "tokenize_(text)"
      ],
      "metadata": {
        "colab": {
          "base_uri": "https://localhost:8080/"
        },
        "id": "wq_LAVdUCV95",
        "outputId": "72b978cb-b54b-48a0-f062-9291fe5d9af2"
      },
      "execution_count": 33,
      "outputs": [
        {
          "output_type": "stream",
          "name": "stdout",
          "text": [
            "tokenize:  ['this', 'is', 'a', 'simple', 'text', 'example', '.', '(', 'this', 'is', 'al', '##os', 'an', 'example', ')'] \t Length 15\n",
            "convert_tokens_to_ids:  [2023, 2003, 1037, 3722, 3793, 2742, 1012, 1006, 2023, 2003, 2632, 2891, 2019, 2742, 1007] \t Length 15\n",
            "convert_ids_to_tokens:  ['this', 'is', 'a', 'simple', 'text', 'example', '.', '(', 'this', 'is', 'al', '##os', 'an', 'example', ')'] \t Length 15\n",
            "convert_tokens_to_string:  this is a simple text example . ( this is alos an example )\n"
          ]
        }
      ]
    },
    {
      "cell_type": "markdown",
      "source": [
        "**encode**\n",
        "\n",
        "Converts a string to a sequence of ids (integer), using the tokenizer and vocabulary. Same as doing `self.convert_tokens_to_ids(self.tokenize(text))`.\n",
        "\n",
        "While this function is indeed useful, it does have a limitation: it can only process one string. In other words, it does not support batches. Therefore, to see the result of the function, we need to employ a for loop. As we can see above we can pass a list to **tokenizer** without using any loops unlike **encode** which will need loops.\n",
        "\n",
        "**max_length, padding, truncation:** Optional Parameters"
      ],
      "metadata": {
        "id": "KIj3aHaDC6zf"
      }
    },
    {
      "cell_type": "code",
      "source": [
        "sentences = [\"This is a sentence.\", \"Here is another sentence. This is a little longer.\", \"This is short.\"]\n",
        "for sentence in sentences:\n",
        "  print(tokenizer.encode(sentence))\n",
        "  print(tokenizer.encode(sentence, max_length=12, padding=\"max_length\", truncation=True))"
      ],
      "metadata": {
        "colab": {
          "base_uri": "https://localhost:8080/"
        },
        "id": "TAXVrPyqLr1j",
        "outputId": "a09cf8e1-bd04-4ee0-85f6-e0d31e0fbad8"
      },
      "execution_count": 64,
      "outputs": [
        {
          "output_type": "stream",
          "name": "stdout",
          "text": [
            "[101, 2023, 2003, 1037, 6251, 1012, 102]\n",
            "[101, 2023, 2003, 1037, 6251, 1012, 102, 0, 0, 0, 0, 0]\n",
            "[101, 2182, 2003, 2178, 6251, 1012, 2023, 2003, 1037, 2210, 2936, 1012, 102]\n",
            "[101, 2182, 2003, 2178, 6251, 1012, 2023, 2003, 1037, 2210, 2936, 102]\n",
            "[101, 2023, 2003, 2460, 1012, 102]\n",
            "[101, 2023, 2003, 2460, 1012, 102, 0, 0, 0, 0, 0, 0]\n"
          ]
        }
      ]
    },
    {
      "cell_type": "code",
      "source": [
        "def encode_(text):\n",
        "  tokens = tokenizer.encode(text)\n",
        "  tokens_op = tokenizer.encode(text, max_length=12, padding=\"max_length\", truncation=True)\n",
        "  print(tokens)\n",
        "  print(tokens_op)"
      ],
      "metadata": {
        "id": "paKpqgsJC8p2"
      },
      "execution_count": 65,
      "outputs": []
    },
    {
      "cell_type": "markdown",
      "source": [
        "**Example 1:** Plain Text"
      ],
      "metadata": {
        "id": "iu-WQrzGDiWm"
      }
    },
    {
      "cell_type": "code",
      "source": [
        "text = \"this is a simple text example\"\n",
        "encode_(text)"
      ],
      "metadata": {
        "colab": {
          "base_uri": "https://localhost:8080/"
        },
        "outputId": "a55241bf-5498-479e-cbe2-8cbaaa5b5f1c",
        "id": "Lq7XBKYlDiWn"
      },
      "execution_count": 66,
      "outputs": [
        {
          "output_type": "stream",
          "name": "stdout",
          "text": [
            "[101, 2023, 2003, 1037, 3722, 3793, 2742, 102]\n",
            "[101, 2023, 2003, 1037, 3722, 3793, 2742, 102, 0, 0, 0, 0]\n"
          ]
        }
      ]
    },
    {
      "cell_type": "markdown",
      "source": [
        "**Example 2:** Comma Seperated"
      ],
      "metadata": {
        "id": "8BLF58ubDiWn"
      }
    },
    {
      "cell_type": "code",
      "source": [
        "text = \"this is a simple text example, this is alos an example\"\n",
        "encode_(text)"
      ],
      "metadata": {
        "colab": {
          "base_uri": "https://localhost:8080/"
        },
        "outputId": "35d5c090-11cd-438f-fced-36930c214e39",
        "id": "yaCssbkFDiWo"
      },
      "execution_count": 37,
      "outputs": [
        {
          "output_type": "stream",
          "name": "stdout",
          "text": [
            "[101, 2023, 2003, 1037, 3722, 3793, 2742, 1010, 2023, 2003, 2632, 2891, 2019, 2742, 102]\n"
          ]
        }
      ]
    },
    {
      "cell_type": "markdown",
      "source": [
        "**Example 3:** Special Characters"
      ],
      "metadata": {
        "id": "7_rMQBEtDiWo"
      }
    },
    {
      "cell_type": "code",
      "source": [
        "text = \"this is a simple text example, (this is alos an example)\"\n",
        "encode_(text)"
      ],
      "metadata": {
        "colab": {
          "base_uri": "https://localhost:8080/"
        },
        "outputId": "d34ec274-6b76-4ca7-e746-ec3b8c546b8c",
        "id": "3zARscOpDiWo"
      },
      "execution_count": 38,
      "outputs": [
        {
          "output_type": "stream",
          "name": "stdout",
          "text": [
            "[101, 2023, 2003, 1037, 3722, 3793, 2742, 1010, 1006, 2023, 2003, 2632, 2891, 2019, 2742, 1007, 102]\n"
          ]
        }
      ]
    },
    {
      "cell_type": "markdown",
      "source": [
        "**Example 4:** Two Sentences."
      ],
      "metadata": {
        "id": "Rd6iY8HEDiWo"
      }
    },
    {
      "cell_type": "code",
      "source": [
        "text = \"this is a simple text example. (This is alos an example)\"\n",
        "encode_(text)"
      ],
      "metadata": {
        "colab": {
          "base_uri": "https://localhost:8080/"
        },
        "outputId": "4405b345-48e7-4761-c1dd-d5cec4fd3209",
        "id": "olo63wvCDiWo"
      },
      "execution_count": 39,
      "outputs": [
        {
          "output_type": "stream",
          "name": "stdout",
          "text": [
            "[101, 2023, 2003, 1037, 3722, 3793, 2742, 1012, 1006, 2023, 2003, 2632, 2891, 2019, 2742, 1007, 102]\n"
          ]
        }
      ]
    },
    {
      "cell_type": "markdown",
      "source": [
        "**encode_plus**\n",
        "\n",
        "`tokenizer.encode_plus()` is actually quite similar to the regular encode function, except that it returns a dictionary that includes all the keys that we’ve discussed above: **input_ids**, **token_type_ids**, and **attention_mask**.\n",
        "\n",
        "Much like ``tokenizer.encode()``, the same arguments, **maximum length, padding, and truncation**, equally apply."
      ],
      "metadata": {
        "id": "3qb7oJdALctl"
      }
    },
    {
      "cell_type": "code",
      "source": [
        "sentences = [\"This is a sentence.\", \"Here is another sentence. This is a little longer.\", \"This is short.\"]\n",
        "for sentence in sentences:\n",
        "    print(tokenizer.encode_plus(sentence))\n",
        "    print(tokenizer.encode_plus(sentence, max_length=12, padding=\"max_length\", truncation=True))"
      ],
      "metadata": {
        "colab": {
          "base_uri": "https://localhost:8080/"
        },
        "id": "9UX7TmCzMm0r",
        "outputId": "de690b22-2ceb-4e59-d7b9-73c923f520ef"
      },
      "execution_count": 68,
      "outputs": [
        {
          "output_type": "stream",
          "name": "stdout",
          "text": [
            "{'input_ids': [101, 2023, 2003, 1037, 6251, 1012, 102], 'token_type_ids': [0, 0, 0, 0, 0, 0, 0], 'attention_mask': [1, 1, 1, 1, 1, 1, 1]}\n",
            "{'input_ids': [101, 2023, 2003, 1037, 6251, 1012, 102, 0, 0, 0, 0, 0], 'token_type_ids': [0, 0, 0, 0, 0, 0, 0, 0, 0, 0, 0, 0], 'attention_mask': [1, 1, 1, 1, 1, 1, 1, 0, 0, 0, 0, 0]}\n",
            "{'input_ids': [101, 2182, 2003, 2178, 6251, 1012, 2023, 2003, 1037, 2210, 2936, 1012, 102], 'token_type_ids': [0, 0, 0, 0, 0, 0, 0, 0, 0, 0, 0, 0, 0], 'attention_mask': [1, 1, 1, 1, 1, 1, 1, 1, 1, 1, 1, 1, 1]}\n",
            "{'input_ids': [101, 2182, 2003, 2178, 6251, 1012, 2023, 2003, 1037, 2210, 2936, 102], 'token_type_ids': [0, 0, 0, 0, 0, 0, 0, 0, 0, 0, 0, 0], 'attention_mask': [1, 1, 1, 1, 1, 1, 1, 1, 1, 1, 1, 1]}\n",
            "{'input_ids': [101, 2023, 2003, 2460, 1012, 102], 'token_type_ids': [0, 0, 0, 0, 0, 0], 'attention_mask': [1, 1, 1, 1, 1, 1]}\n",
            "{'input_ids': [101, 2023, 2003, 2460, 1012, 102, 0, 0, 0, 0, 0, 0], 'token_type_ids': [0, 0, 0, 0, 0, 0, 0, 0, 0, 0, 0, 0], 'attention_mask': [1, 1, 1, 1, 1, 1, 0, 0, 0, 0, 0, 0]}\n"
          ]
        }
      ]
    },
    {
      "cell_type": "markdown",
      "source": [
        "**batch_encode_plus**\n",
        "\n",
        "The encoding functions we have looked so far all expected a string as input. But normally, the input would come in batches, and we don’t want to use a for loop to encode each, append them to some result list, and et cetera. `tokenizer.batch_encode_plus()`, as the name implies, is a function that can handle batch inputs."
      ],
      "metadata": {
        "id": "KJJbKO5cNTwt"
      }
    },
    {
      "cell_type": "code",
      "source": [
        "sentences = [\"This is a sentence.\", \"Here is another sentence. This is a little longer.\", \"This is short.\"]\n",
        "print(tokenizer.batch_encode_plus(sentence))\n",
        "print(tokenizer.batch_encode_plus(sentence, max_length=12, padding=\"max_length\", truncation=True))"
      ],
      "metadata": {
        "colab": {
          "base_uri": "https://localhost:8080/"
        },
        "id": "GD0mEomMNrIy",
        "outputId": "16f8ef5d-ee07-4ce5-8594-c05986dd3481"
      },
      "execution_count": 67,
      "outputs": [
        {
          "output_type": "stream",
          "name": "stdout",
          "text": [
            "{'input_ids': [[101, 1056, 102], [101, 1044, 102], [101, 1045, 102], [101, 1055, 102], [101, 102], [101, 1045, 102], [101, 1055, 102], [101, 102], [101, 1055, 102], [101, 1044, 102], [101, 1051, 102], [101, 1054, 102], [101, 1056, 102], [101, 1012, 102]], 'token_type_ids': [[0, 0, 0], [0, 0, 0], [0, 0, 0], [0, 0, 0], [0, 0], [0, 0, 0], [0, 0, 0], [0, 0], [0, 0, 0], [0, 0, 0], [0, 0, 0], [0, 0, 0], [0, 0, 0], [0, 0, 0]], 'attention_mask': [[1, 1, 1], [1, 1, 1], [1, 1, 1], [1, 1, 1], [1, 1], [1, 1, 1], [1, 1, 1], [1, 1], [1, 1, 1], [1, 1, 1], [1, 1, 1], [1, 1, 1], [1, 1, 1], [1, 1, 1]]}\n",
            "{'input_ids': [[101, 1056, 102, 0, 0, 0, 0, 0, 0, 0, 0, 0], [101, 1044, 102, 0, 0, 0, 0, 0, 0, 0, 0, 0], [101, 1045, 102, 0, 0, 0, 0, 0, 0, 0, 0, 0], [101, 1055, 102, 0, 0, 0, 0, 0, 0, 0, 0, 0], [101, 102, 0, 0, 0, 0, 0, 0, 0, 0, 0, 0], [101, 1045, 102, 0, 0, 0, 0, 0, 0, 0, 0, 0], [101, 1055, 102, 0, 0, 0, 0, 0, 0, 0, 0, 0], [101, 102, 0, 0, 0, 0, 0, 0, 0, 0, 0, 0], [101, 1055, 102, 0, 0, 0, 0, 0, 0, 0, 0, 0], [101, 1044, 102, 0, 0, 0, 0, 0, 0, 0, 0, 0], [101, 1051, 102, 0, 0, 0, 0, 0, 0, 0, 0, 0], [101, 1054, 102, 0, 0, 0, 0, 0, 0, 0, 0, 0], [101, 1056, 102, 0, 0, 0, 0, 0, 0, 0, 0, 0], [101, 1012, 102, 0, 0, 0, 0, 0, 0, 0, 0, 0]], 'token_type_ids': [[0, 0, 0, 0, 0, 0, 0, 0, 0, 0, 0, 0], [0, 0, 0, 0, 0, 0, 0, 0, 0, 0, 0, 0], [0, 0, 0, 0, 0, 0, 0, 0, 0, 0, 0, 0], [0, 0, 0, 0, 0, 0, 0, 0, 0, 0, 0, 0], [0, 0, 0, 0, 0, 0, 0, 0, 0, 0, 0, 0], [0, 0, 0, 0, 0, 0, 0, 0, 0, 0, 0, 0], [0, 0, 0, 0, 0, 0, 0, 0, 0, 0, 0, 0], [0, 0, 0, 0, 0, 0, 0, 0, 0, 0, 0, 0], [0, 0, 0, 0, 0, 0, 0, 0, 0, 0, 0, 0], [0, 0, 0, 0, 0, 0, 0, 0, 0, 0, 0, 0], [0, 0, 0, 0, 0, 0, 0, 0, 0, 0, 0, 0], [0, 0, 0, 0, 0, 0, 0, 0, 0, 0, 0, 0], [0, 0, 0, 0, 0, 0, 0, 0, 0, 0, 0, 0], [0, 0, 0, 0, 0, 0, 0, 0, 0, 0, 0, 0]], 'attention_mask': [[1, 1, 1, 0, 0, 0, 0, 0, 0, 0, 0, 0], [1, 1, 1, 0, 0, 0, 0, 0, 0, 0, 0, 0], [1, 1, 1, 0, 0, 0, 0, 0, 0, 0, 0, 0], [1, 1, 1, 0, 0, 0, 0, 0, 0, 0, 0, 0], [1, 1, 0, 0, 0, 0, 0, 0, 0, 0, 0, 0], [1, 1, 1, 0, 0, 0, 0, 0, 0, 0, 0, 0], [1, 1, 1, 0, 0, 0, 0, 0, 0, 0, 0, 0], [1, 1, 0, 0, 0, 0, 0, 0, 0, 0, 0, 0], [1, 1, 1, 0, 0, 0, 0, 0, 0, 0, 0, 0], [1, 1, 1, 0, 0, 0, 0, 0, 0, 0, 0, 0], [1, 1, 1, 0, 0, 0, 0, 0, 0, 0, 0, 0], [1, 1, 1, 0, 0, 0, 0, 0, 0, 0, 0, 0], [1, 1, 1, 0, 0, 0, 0, 0, 0, 0, 0, 0], [1, 1, 1, 0, 0, 0, 0, 0, 0, 0, 0, 0]]}\n"
          ]
        }
      ]
    },
    {
      "cell_type": "markdown",
      "source": [
        "**Special Tokens**\n",
        "\n",
        "For our experiment, we need to know what BERT’s special tokens are. Specifically, we have to know what the mask token looks like in order to conduct some basic masked language modeling task."
      ],
      "metadata": {
        "id": "eyjb2DcWO1V6"
      }
    },
    {
      "cell_type": "code",
      "source": [
        "tokenizer.special_tokens_map"
      ],
      "metadata": {
        "colab": {
          "base_uri": "https://localhost:8080/"
        },
        "id": "OZesgXIIO7vz",
        "outputId": "6770de0b-9258-429e-8140-a5c62097f431"
      },
      "execution_count": 69,
      "outputs": [
        {
          "output_type": "execute_result",
          "data": {
            "text/plain": [
              "{'cls_token': '[CLS]',\n",
              " 'mask_token': '[MASK]',\n",
              " 'pad_token': '[PAD]',\n",
              " 'sep_token': '[SEP]',\n",
              " 'unk_token': '[UNK]'}"
            ]
          },
          "metadata": {},
          "execution_count": 69
        }
      ]
    }
  ]
}