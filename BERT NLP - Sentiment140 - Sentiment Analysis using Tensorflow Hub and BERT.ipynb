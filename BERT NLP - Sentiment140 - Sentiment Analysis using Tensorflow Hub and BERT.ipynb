{
  "nbformat": 4,
  "nbformat_minor": 0,
  "metadata": {
    "colab": {
      "name": "BERT NLP - Sentiment140 - Sentiment Analysis using Tensorflow Hub and BERT.ipynb",
      "provenance": [],
      "collapsed_sections": [],
      "authorship_tag": "ABX9TyO/b3WODamYCBD6SE59qVTa",
      "include_colab_link": true
    },
    "kernelspec": {
      "name": "python3",
      "display_name": "Python 3"
    },
    "language_info": {
      "name": "python"
    }
  },
  "cells": [
    {
      "cell_type": "markdown",
      "metadata": {
        "id": "view-in-github",
        "colab_type": "text"
      },
      "source": [
        "<a href=\"https://colab.research.google.com/github/sahug/ds-bert/blob/main/BERT%20NLP%20-%20Sentiment140%20-%20Sentiment%20Analysis%20using%20Tensorflow%20Hub%20and%20BERT.ipynb\" target=\"_parent\"><img src=\"https://colab.research.google.com/assets/colab-badge.svg\" alt=\"Open In Colab\"/></a>"
      ]
    },
    {
      "cell_type": "markdown",
      "source": [
        "**BERT NLP - Sentiment140 - Sentiment Analysis using BERT**"
      ],
      "metadata": {
        "id": "fDCpY7yfBN2v"
      }
    },
    {
      "cell_type": "markdown",
      "source": [
        "**Dataset**\n",
        "\n",
        "- URL - http://cs.stanford.edu/people/alecmgo/trainingandtestdata.zip\n",
        "\n",
        "The data is a CSV with emoticons removed. Data file format has 6 fields:\n",
        "\n",
        "- 0 - the polarity of the tweet (0 = negative, 2 = neutral, 4 = positive)\n",
        "- 1 - the id of the tweet (2087)\n",
        "- 2 - the date of the tweet (Sat May 16 23:58:44 UTC 2009)\n",
        "- 3 - the query (lyx). If there is no query, then this value is NO_QUERY.\n",
        "- 4 - the user that tweeted (robotickilldozr)\n",
        "- 5 - the text of the tweet (Lyx is cool)\n",
        "\n",
        "Rename File to **sentiment140** to remove \".\" in filepath."
      ],
      "metadata": {
        "id": "Aia94YSRBQaA"
      }
    },
    {
      "cell_type": "markdown",
      "source": [
        "**Load Dataset**"
      ],
      "metadata": {
        "id": "t0AFXKuqBqc4"
      }
    },
    {
      "cell_type": "code",
      "source": [
        "import tensorflow as tf\n",
        "from tensorflow import keras\n",
        "import pandas as pd\n",
        "import numpy as np"
      ],
      "metadata": {
        "id": "Qt-4BbTQBoip"
      },
      "execution_count": 2,
      "outputs": []
    },
    {
      "cell_type": "code",
      "execution_count": 3,
      "metadata": {
        "id": "i0UCsq9r8Ty5"
      },
      "outputs": [],
      "source": [
        "ds = pd.read_csv(\"/content/training.1600000.processed.noemoticon.csv\", encoding = \"ISO-8859-1\")"
      ]
    },
    {
      "cell_type": "code",
      "source": [
        "ds.columns\n",
        "\n",
        "# Here we can see we don;t have columns labeled in dataset. We will use index to drop columns we don't want."
      ],
      "metadata": {
        "colab": {
          "base_uri": "https://localhost:8080/"
        },
        "id": "RjXp7tHhEpmi",
        "outputId": "6c45b8fc-fd3b-4053-fe37-14b7528543a7"
      },
      "execution_count": 4,
      "outputs": [
        {
          "output_type": "execute_result",
          "data": {
            "text/plain": [
              "Index(['0', '1467810369', 'Mon Apr 06 22:19:45 PDT 2009', 'NO_QUERY',\n",
              "       '_TheSpecialOne_',\n",
              "       '@switchfoot http://twitpic.com/2y1zl - Awww, that's a bummer.  You shoulda got David Carr of Third Day to do it. ;D'],\n",
              "      dtype='object')"
            ]
          },
          "metadata": {},
          "execution_count": 4
        }
      ]
    },
    {
      "cell_type": "code",
      "source": [
        "ds.head()"
      ],
      "metadata": {
        "colab": {
          "base_uri": "https://localhost:8080/",
          "height": 250
        },
        "id": "mMhS0h8B94py",
        "outputId": "0c58dc93-761d-4b42-9c4a-725db56d08ce"
      },
      "execution_count": 5,
      "outputs": [
        {
          "output_type": "execute_result",
          "data": {
            "text/plain": [
              "   0  1467810369  Mon Apr 06 22:19:45 PDT 2009  NO_QUERY _TheSpecialOne_  \\\n",
              "0  0  1467810672  Mon Apr 06 22:19:49 PDT 2009  NO_QUERY   scotthamilton   \n",
              "1  0  1467810917  Mon Apr 06 22:19:53 PDT 2009  NO_QUERY        mattycus   \n",
              "2  0  1467811184  Mon Apr 06 22:19:57 PDT 2009  NO_QUERY         ElleCTF   \n",
              "3  0  1467811193  Mon Apr 06 22:19:57 PDT 2009  NO_QUERY          Karoli   \n",
              "4  0  1467811372  Mon Apr 06 22:20:00 PDT 2009  NO_QUERY        joy_wolf   \n",
              "\n",
              "  @switchfoot http://twitpic.com/2y1zl - Awww, that's a bummer.  You shoulda got David Carr of Third Day to do it. ;D  \n",
              "0  is upset that he can't update his Facebook by ...                                                                   \n",
              "1  @Kenichan I dived many times for the ball. Man...                                                                   \n",
              "2    my whole body feels itchy and like its on fire                                                                    \n",
              "3  @nationwideclass no, it's not behaving at all....                                                                   \n",
              "4                      @Kwesidei not the whole crew                                                                    "
            ],
            "text/html": [
              "\n",
              "  <div id=\"df-9bd02055-04fa-4c90-bc36-9b731e4d3491\">\n",
              "    <div class=\"colab-df-container\">\n",
              "      <div>\n",
              "<style scoped>\n",
              "    .dataframe tbody tr th:only-of-type {\n",
              "        vertical-align: middle;\n",
              "    }\n",
              "\n",
              "    .dataframe tbody tr th {\n",
              "        vertical-align: top;\n",
              "    }\n",
              "\n",
              "    .dataframe thead th {\n",
              "        text-align: right;\n",
              "    }\n",
              "</style>\n",
              "<table border=\"1\" class=\"dataframe\">\n",
              "  <thead>\n",
              "    <tr style=\"text-align: right;\">\n",
              "      <th></th>\n",
              "      <th>0</th>\n",
              "      <th>1467810369</th>\n",
              "      <th>Mon Apr 06 22:19:45 PDT 2009</th>\n",
              "      <th>NO_QUERY</th>\n",
              "      <th>_TheSpecialOne_</th>\n",
              "      <th>@switchfoot http://twitpic.com/2y1zl - Awww, that's a bummer.  You shoulda got David Carr of Third Day to do it. ;D</th>\n",
              "    </tr>\n",
              "  </thead>\n",
              "  <tbody>\n",
              "    <tr>\n",
              "      <th>0</th>\n",
              "      <td>0</td>\n",
              "      <td>1467810672</td>\n",
              "      <td>Mon Apr 06 22:19:49 PDT 2009</td>\n",
              "      <td>NO_QUERY</td>\n",
              "      <td>scotthamilton</td>\n",
              "      <td>is upset that he can't update his Facebook by ...</td>\n",
              "    </tr>\n",
              "    <tr>\n",
              "      <th>1</th>\n",
              "      <td>0</td>\n",
              "      <td>1467810917</td>\n",
              "      <td>Mon Apr 06 22:19:53 PDT 2009</td>\n",
              "      <td>NO_QUERY</td>\n",
              "      <td>mattycus</td>\n",
              "      <td>@Kenichan I dived many times for the ball. Man...</td>\n",
              "    </tr>\n",
              "    <tr>\n",
              "      <th>2</th>\n",
              "      <td>0</td>\n",
              "      <td>1467811184</td>\n",
              "      <td>Mon Apr 06 22:19:57 PDT 2009</td>\n",
              "      <td>NO_QUERY</td>\n",
              "      <td>ElleCTF</td>\n",
              "      <td>my whole body feels itchy and like its on fire</td>\n",
              "    </tr>\n",
              "    <tr>\n",
              "      <th>3</th>\n",
              "      <td>0</td>\n",
              "      <td>1467811193</td>\n",
              "      <td>Mon Apr 06 22:19:57 PDT 2009</td>\n",
              "      <td>NO_QUERY</td>\n",
              "      <td>Karoli</td>\n",
              "      <td>@nationwideclass no, it's not behaving at all....</td>\n",
              "    </tr>\n",
              "    <tr>\n",
              "      <th>4</th>\n",
              "      <td>0</td>\n",
              "      <td>1467811372</td>\n",
              "      <td>Mon Apr 06 22:20:00 PDT 2009</td>\n",
              "      <td>NO_QUERY</td>\n",
              "      <td>joy_wolf</td>\n",
              "      <td>@Kwesidei not the whole crew</td>\n",
              "    </tr>\n",
              "  </tbody>\n",
              "</table>\n",
              "</div>\n",
              "      <button class=\"colab-df-convert\" onclick=\"convertToInteractive('df-9bd02055-04fa-4c90-bc36-9b731e4d3491')\"\n",
              "              title=\"Convert this dataframe to an interactive table.\"\n",
              "              style=\"display:none;\">\n",
              "        \n",
              "  <svg xmlns=\"http://www.w3.org/2000/svg\" height=\"24px\"viewBox=\"0 0 24 24\"\n",
              "       width=\"24px\">\n",
              "    <path d=\"M0 0h24v24H0V0z\" fill=\"none\"/>\n",
              "    <path d=\"M18.56 5.44l.94 2.06.94-2.06 2.06-.94-2.06-.94-.94-2.06-.94 2.06-2.06.94zm-11 1L8.5 8.5l.94-2.06 2.06-.94-2.06-.94L8.5 2.5l-.94 2.06-2.06.94zm10 10l.94 2.06.94-2.06 2.06-.94-2.06-.94-.94-2.06-.94 2.06-2.06.94z\"/><path d=\"M17.41 7.96l-1.37-1.37c-.4-.4-.92-.59-1.43-.59-.52 0-1.04.2-1.43.59L10.3 9.45l-7.72 7.72c-.78.78-.78 2.05 0 2.83L4 21.41c.39.39.9.59 1.41.59.51 0 1.02-.2 1.41-.59l7.78-7.78 2.81-2.81c.8-.78.8-2.07 0-2.86zM5.41 20L4 18.59l7.72-7.72 1.47 1.35L5.41 20z\"/>\n",
              "  </svg>\n",
              "      </button>\n",
              "      \n",
              "  <style>\n",
              "    .colab-df-container {\n",
              "      display:flex;\n",
              "      flex-wrap:wrap;\n",
              "      gap: 12px;\n",
              "    }\n",
              "\n",
              "    .colab-df-convert {\n",
              "      background-color: #E8F0FE;\n",
              "      border: none;\n",
              "      border-radius: 50%;\n",
              "      cursor: pointer;\n",
              "      display: none;\n",
              "      fill: #1967D2;\n",
              "      height: 32px;\n",
              "      padding: 0 0 0 0;\n",
              "      width: 32px;\n",
              "    }\n",
              "\n",
              "    .colab-df-convert:hover {\n",
              "      background-color: #E2EBFA;\n",
              "      box-shadow: 0px 1px 2px rgba(60, 64, 67, 0.3), 0px 1px 3px 1px rgba(60, 64, 67, 0.15);\n",
              "      fill: #174EA6;\n",
              "    }\n",
              "\n",
              "    [theme=dark] .colab-df-convert {\n",
              "      background-color: #3B4455;\n",
              "      fill: #D2E3FC;\n",
              "    }\n",
              "\n",
              "    [theme=dark] .colab-df-convert:hover {\n",
              "      background-color: #434B5C;\n",
              "      box-shadow: 0px 1px 3px 1px rgba(0, 0, 0, 0.15);\n",
              "      filter: drop-shadow(0px 1px 2px rgba(0, 0, 0, 0.3));\n",
              "      fill: #FFFFFF;\n",
              "    }\n",
              "  </style>\n",
              "\n",
              "      <script>\n",
              "        const buttonEl =\n",
              "          document.querySelector('#df-9bd02055-04fa-4c90-bc36-9b731e4d3491 button.colab-df-convert');\n",
              "        buttonEl.style.display =\n",
              "          google.colab.kernel.accessAllowed ? 'block' : 'none';\n",
              "\n",
              "        async function convertToInteractive(key) {\n",
              "          const element = document.querySelector('#df-9bd02055-04fa-4c90-bc36-9b731e4d3491');\n",
              "          const dataTable =\n",
              "            await google.colab.kernel.invokeFunction('convertToInteractive',\n",
              "                                                     [key], {});\n",
              "          if (!dataTable) return;\n",
              "\n",
              "          const docLinkHtml = 'Like what you see? Visit the ' +\n",
              "            '<a target=\"_blank\" href=https://colab.research.google.com/notebooks/data_table.ipynb>data table notebook</a>'\n",
              "            + ' to learn more about interactive tables.';\n",
              "          element.innerHTML = '';\n",
              "          dataTable['output_type'] = 'display_data';\n",
              "          await google.colab.output.renderOutput(dataTable, element);\n",
              "          const docLink = document.createElement('div');\n",
              "          docLink.innerHTML = docLinkHtml;\n",
              "          element.appendChild(docLink);\n",
              "        }\n",
              "      </script>\n",
              "    </div>\n",
              "  </div>\n",
              "  "
            ]
          },
          "metadata": {},
          "execution_count": 5
        }
      ]
    },
    {
      "cell_type": "markdown",
      "source": [
        "**Data Preprocesssing**"
      ],
      "metadata": {
        "id": "oOtA5k1fEUzX"
      }
    },
    {
      "cell_type": "code",
      "source": [
        "df = ds.copy()"
      ],
      "metadata": {
        "id": "NcKwXRoyEezv"
      },
      "execution_count": 17,
      "outputs": []
    },
    {
      "cell_type": "markdown",
      "source": [
        "Since the dataset is too big. Lets randomly select first 10K records."
      ],
      "metadata": {
        "id": "X8IIB0I0irwo"
      }
    },
    {
      "cell_type": "code",
      "source": [
        "df = df.sample(n=10000)"
      ],
      "metadata": {
        "id": "xNP36filixaF"
      },
      "execution_count": 18,
      "outputs": []
    },
    {
      "cell_type": "markdown",
      "source": [
        "Remove Unwanted Features"
      ],
      "metadata": {
        "id": "NZtJpOuiEX2M"
      }
    },
    {
      "cell_type": "code",
      "source": [
        "polarity = df[df.columns[0]]\n",
        "tweets = df[df.columns[-1]]\n",
        "\n",
        "df = pd.DataFrame({\"polarity\": polarity, \"tweets\": tweets})\n",
        "df"
      ],
      "metadata": {
        "colab": {
          "base_uri": "https://localhost:8080/",
          "height": 424
        },
        "id": "9Qms1B7QEbSo",
        "outputId": "5d38fb47-a54b-48b8-c2c7-a9c57fc6b4f7"
      },
      "execution_count": 19,
      "outputs": [
        {
          "output_type": "execute_result",
          "data": {
            "text/plain": [
              "         polarity                                             tweets\n",
              "1118973         4  Might get called back to my job   crosses fing...\n",
              "1324315         4  @syzygy it will be live on 42 inches of hd in ...\n",
              "868721          4  it's tobi's wedding day and the 1 week till ou...\n",
              "634104          0  @arifandi bu2? Huh? Iseeennnggg yahhh mrn!! Da...\n",
              "862862          4  Heading To Sleep With A Cottonball Drenched In...\n",
              "...           ...                                                ...\n",
              "1042861         4  so much fun at the beach today!  and delicious...\n",
              "1168970         4  I had an awesome day today!!!!! Thanks rach &l...\n",
              "743356          0  As the Sunday night grows each one of us becom...\n",
              "104222          0  @nicolerichie you need to replace your track b...\n",
              "1221398         4  @Kurty4lyf - did you lose your legal foundatio...\n",
              "\n",
              "[10000 rows x 2 columns]"
            ],
            "text/html": [
              "\n",
              "  <div id=\"df-deb84b45-5abe-404a-828c-dc84d9110463\">\n",
              "    <div class=\"colab-df-container\">\n",
              "      <div>\n",
              "<style scoped>\n",
              "    .dataframe tbody tr th:only-of-type {\n",
              "        vertical-align: middle;\n",
              "    }\n",
              "\n",
              "    .dataframe tbody tr th {\n",
              "        vertical-align: top;\n",
              "    }\n",
              "\n",
              "    .dataframe thead th {\n",
              "        text-align: right;\n",
              "    }\n",
              "</style>\n",
              "<table border=\"1\" class=\"dataframe\">\n",
              "  <thead>\n",
              "    <tr style=\"text-align: right;\">\n",
              "      <th></th>\n",
              "      <th>polarity</th>\n",
              "      <th>tweets</th>\n",
              "    </tr>\n",
              "  </thead>\n",
              "  <tbody>\n",
              "    <tr>\n",
              "      <th>1118973</th>\n",
              "      <td>4</td>\n",
              "      <td>Might get called back to my job   crosses fing...</td>\n",
              "    </tr>\n",
              "    <tr>\n",
              "      <th>1324315</th>\n",
              "      <td>4</td>\n",
              "      <td>@syzygy it will be live on 42 inches of hd in ...</td>\n",
              "    </tr>\n",
              "    <tr>\n",
              "      <th>868721</th>\n",
              "      <td>4</td>\n",
              "      <td>it's tobi's wedding day and the 1 week till ou...</td>\n",
              "    </tr>\n",
              "    <tr>\n",
              "      <th>634104</th>\n",
              "      <td>0</td>\n",
              "      <td>@arifandi bu2? Huh? Iseeennnggg yahhh mrn!! Da...</td>\n",
              "    </tr>\n",
              "    <tr>\n",
              "      <th>862862</th>\n",
              "      <td>4</td>\n",
              "      <td>Heading To Sleep With A Cottonball Drenched In...</td>\n",
              "    </tr>\n",
              "    <tr>\n",
              "      <th>...</th>\n",
              "      <td>...</td>\n",
              "      <td>...</td>\n",
              "    </tr>\n",
              "    <tr>\n",
              "      <th>1042861</th>\n",
              "      <td>4</td>\n",
              "      <td>so much fun at the beach today!  and delicious...</td>\n",
              "    </tr>\n",
              "    <tr>\n",
              "      <th>1168970</th>\n",
              "      <td>4</td>\n",
              "      <td>I had an awesome day today!!!!! Thanks rach &amp;l...</td>\n",
              "    </tr>\n",
              "    <tr>\n",
              "      <th>743356</th>\n",
              "      <td>0</td>\n",
              "      <td>As the Sunday night grows each one of us becom...</td>\n",
              "    </tr>\n",
              "    <tr>\n",
              "      <th>104222</th>\n",
              "      <td>0</td>\n",
              "      <td>@nicolerichie you need to replace your track b...</td>\n",
              "    </tr>\n",
              "    <tr>\n",
              "      <th>1221398</th>\n",
              "      <td>4</td>\n",
              "      <td>@Kurty4lyf - did you lose your legal foundatio...</td>\n",
              "    </tr>\n",
              "  </tbody>\n",
              "</table>\n",
              "<p>10000 rows × 2 columns</p>\n",
              "</div>\n",
              "      <button class=\"colab-df-convert\" onclick=\"convertToInteractive('df-deb84b45-5abe-404a-828c-dc84d9110463')\"\n",
              "              title=\"Convert this dataframe to an interactive table.\"\n",
              "              style=\"display:none;\">\n",
              "        \n",
              "  <svg xmlns=\"http://www.w3.org/2000/svg\" height=\"24px\"viewBox=\"0 0 24 24\"\n",
              "       width=\"24px\">\n",
              "    <path d=\"M0 0h24v24H0V0z\" fill=\"none\"/>\n",
              "    <path d=\"M18.56 5.44l.94 2.06.94-2.06 2.06-.94-2.06-.94-.94-2.06-.94 2.06-2.06.94zm-11 1L8.5 8.5l.94-2.06 2.06-.94-2.06-.94L8.5 2.5l-.94 2.06-2.06.94zm10 10l.94 2.06.94-2.06 2.06-.94-2.06-.94-.94-2.06-.94 2.06-2.06.94z\"/><path d=\"M17.41 7.96l-1.37-1.37c-.4-.4-.92-.59-1.43-.59-.52 0-1.04.2-1.43.59L10.3 9.45l-7.72 7.72c-.78.78-.78 2.05 0 2.83L4 21.41c.39.39.9.59 1.41.59.51 0 1.02-.2 1.41-.59l7.78-7.78 2.81-2.81c.8-.78.8-2.07 0-2.86zM5.41 20L4 18.59l7.72-7.72 1.47 1.35L5.41 20z\"/>\n",
              "  </svg>\n",
              "      </button>\n",
              "      \n",
              "  <style>\n",
              "    .colab-df-container {\n",
              "      display:flex;\n",
              "      flex-wrap:wrap;\n",
              "      gap: 12px;\n",
              "    }\n",
              "\n",
              "    .colab-df-convert {\n",
              "      background-color: #E8F0FE;\n",
              "      border: none;\n",
              "      border-radius: 50%;\n",
              "      cursor: pointer;\n",
              "      display: none;\n",
              "      fill: #1967D2;\n",
              "      height: 32px;\n",
              "      padding: 0 0 0 0;\n",
              "      width: 32px;\n",
              "    }\n",
              "\n",
              "    .colab-df-convert:hover {\n",
              "      background-color: #E2EBFA;\n",
              "      box-shadow: 0px 1px 2px rgba(60, 64, 67, 0.3), 0px 1px 3px 1px rgba(60, 64, 67, 0.15);\n",
              "      fill: #174EA6;\n",
              "    }\n",
              "\n",
              "    [theme=dark] .colab-df-convert {\n",
              "      background-color: #3B4455;\n",
              "      fill: #D2E3FC;\n",
              "    }\n",
              "\n",
              "    [theme=dark] .colab-df-convert:hover {\n",
              "      background-color: #434B5C;\n",
              "      box-shadow: 0px 1px 3px 1px rgba(0, 0, 0, 0.15);\n",
              "      filter: drop-shadow(0px 1px 2px rgba(0, 0, 0, 0.3));\n",
              "      fill: #FFFFFF;\n",
              "    }\n",
              "  </style>\n",
              "\n",
              "      <script>\n",
              "        const buttonEl =\n",
              "          document.querySelector('#df-deb84b45-5abe-404a-828c-dc84d9110463 button.colab-df-convert');\n",
              "        buttonEl.style.display =\n",
              "          google.colab.kernel.accessAllowed ? 'block' : 'none';\n",
              "\n",
              "        async function convertToInteractive(key) {\n",
              "          const element = document.querySelector('#df-deb84b45-5abe-404a-828c-dc84d9110463');\n",
              "          const dataTable =\n",
              "            await google.colab.kernel.invokeFunction('convertToInteractive',\n",
              "                                                     [key], {});\n",
              "          if (!dataTable) return;\n",
              "\n",
              "          const docLinkHtml = 'Like what you see? Visit the ' +\n",
              "            '<a target=\"_blank\" href=https://colab.research.google.com/notebooks/data_table.ipynb>data table notebook</a>'\n",
              "            + ' to learn more about interactive tables.';\n",
              "          element.innerHTML = '';\n",
              "          dataTable['output_type'] = 'display_data';\n",
              "          await google.colab.output.renderOutput(dataTable, element);\n",
              "          const docLink = document.createElement('div');\n",
              "          docLink.innerHTML = docLinkHtml;\n",
              "          element.appendChild(docLink);\n",
              "        }\n",
              "      </script>\n",
              "    </div>\n",
              "  </div>\n",
              "  "
            ]
          },
          "metadata": {},
          "execution_count": 19
        }
      ]
    },
    {
      "cell_type": "markdown",
      "source": [
        "**Train and Test Split**"
      ],
      "metadata": {
        "id": "WaodgSGYc6ss"
      }
    },
    {
      "cell_type": "code",
      "source": [
        "from sklearn.model_selection  import train_test_split\n",
        "x_train, x_test, y_train, y_test = train_test_split(df[\"tweets\"], df[\"polarity\"], test_size=0.2, stratify=df[\"polarity\"])"
      ],
      "metadata": {
        "id": "6kfurtCldABo"
      },
      "execution_count": 20,
      "outputs": []
    },
    {
      "cell_type": "code",
      "source": [
        "x_train.head(), y_train.head()"
      ],
      "metadata": {
        "colab": {
          "base_uri": "https://localhost:8080/"
        },
        "id": "vYX9sncOeqXr",
        "outputId": "55d86aa0-8d1d-4091-b1e3-2ed3aa7199cc"
      },
      "execution_count": 10,
      "outputs": [
        {
          "output_type": "execute_result",
          "data": {
            "text/plain": [
              "(1073246                @AshlyJBew you bet your bippy i am!  \n",
              " 1589469    @Blade21292 Illustration Friday? On Tuesday? O...\n",
              " 685333                   @CrazyCamel123 what about Christy  \n",
              " 162226                 @TylerHarrell do you really smoke??? \n",
              " 707333     so jealous of every fan going to the jonas bro...\n",
              " Name: tweets, dtype: object, 1073246    4\n",
              " 1589469    4\n",
              " 685333     0\n",
              " 162226     0\n",
              " 707333     0\n",
              " Name: polarity, dtype: int64)"
            ]
          },
          "metadata": {},
          "execution_count": 10
        }
      ]
    },
    {
      "cell_type": "code",
      "source": [
        "# x_test = tf.one_hot(x_test, depth=x_test.shape[0])\n",
        "y_train = pd.Series(y_train, dtype='int32')\n",
        "y_test = pd.Series(y_test, dtype='int32')\n",
        "y_train, y_test"
      ],
      "metadata": {
        "colab": {
          "base_uri": "https://localhost:8080/"
        },
        "id": "_7vSlrDOgY5H",
        "outputId": "6de48377-5400-4a29-c961-a30a11db0e84"
      },
      "execution_count": 21,
      "outputs": [
        {
          "output_type": "execute_result",
          "data": {
            "text/plain": [
              "(31707      0\n",
              " 1495769    4\n",
              " 764428     0\n",
              " 38009      0\n",
              " 662163     0\n",
              "           ..\n",
              " 1588356    4\n",
              " 1287433    4\n",
              " 991887     4\n",
              " 677162     0\n",
              " 1511858    4\n",
              " Name: polarity, Length: 8000, dtype: int32, 1001146    4\n",
              " 326847     0\n",
              " 1458671    4\n",
              " 1517974    4\n",
              " 237866     0\n",
              "           ..\n",
              " 584021     0\n",
              " 404208     0\n",
              " 1005907    4\n",
              " 235019     0\n",
              " 396296     0\n",
              " Name: polarity, Length: 2000, dtype: int32)"
            ]
          },
          "metadata": {},
          "execution_count": 21
        }
      ]
    },
    {
      "cell_type": "markdown",
      "source": [
        "**OHE**"
      ],
      "metadata": {
        "id": "xiDMvLT3iEhU"
      }
    },
    {
      "cell_type": "code",
      "source": [
        "y_train = tf.one_hot(y_train, depth=3)\n",
        "y_test = tf.one_hot(y_test, depth=3)"
      ],
      "metadata": {
        "id": "-4cJVGZsiGPo"
      },
      "execution_count": 22,
      "outputs": []
    },
    {
      "cell_type": "code",
      "source": [
        "y_train"
      ],
      "metadata": {
        "colab": {
          "base_uri": "https://localhost:8080/"
        },
        "id": "MVgDhr3giSYO",
        "outputId": "aa60f8a0-4d8b-4565-a99a-a75eb012c2ea"
      },
      "execution_count": 24,
      "outputs": [
        {
          "output_type": "execute_result",
          "data": {
            "text/plain": [
              "<tf.Tensor: shape=(8000, 3), dtype=float32, numpy=\n",
              "array([[1., 0., 0.],\n",
              "       [0., 0., 0.],\n",
              "       [1., 0., 0.],\n",
              "       ...,\n",
              "       [0., 0., 0.],\n",
              "       [1., 0., 0.],\n",
              "       [0., 0., 0.]], dtype=float32)>"
            ]
          },
          "metadata": {},
          "execution_count": 24
        }
      ]
    },
    {
      "cell_type": "markdown",
      "source": [
        "**Preprocessing using Tensorflow Hub**"
      ],
      "metadata": {
        "id": "BsfAHxlkNC5N"
      }
    },
    {
      "cell_type": "code",
      "source": [
        "%pip install -U -qq tensorflow_text"
      ],
      "metadata": {
        "id": "AW9PQ9I_PqkO"
      },
      "execution_count": 25,
      "outputs": []
    },
    {
      "cell_type": "code",
      "source": [
        "import tensorflow_hub as hub\n",
        "import tensorflow_text as text\n",
        "tf_preprocess = hub.KerasLayer( \"https://tfhub.dev/tensorflow/bert_en_uncased_preprocess/3\")"
      ],
      "metadata": {
        "id": "1dWhy_I9NLEN"
      },
      "execution_count": 26,
      "outputs": []
    },
    {
      "cell_type": "code",
      "source": [
        "def preprocess_text(sentences):\n",
        "  return tf_preprocess(sentences)\n",
        "\n",
        "preprocess_text([\"This is an example of preprocessing\"])  "
      ],
      "metadata": {
        "colab": {
          "base_uri": "https://localhost:8080/"
        },
        "id": "ucvNjy4cUUaa",
        "outputId": "fa3e5b78-731e-48c7-e3d3-5132176b6574"
      },
      "execution_count": 27,
      "outputs": [
        {
          "output_type": "execute_result",
          "data": {
            "text/plain": [
              "{'input_mask': <tf.Tensor: shape=(1, 128), dtype=int32, numpy=\n",
              " array([[1, 1, 1, 1, 1, 1, 1, 1, 1, 1, 1, 0, 0, 0, 0, 0, 0, 0, 0, 0, 0, 0,\n",
              "         0, 0, 0, 0, 0, 0, 0, 0, 0, 0, 0, 0, 0, 0, 0, 0, 0, 0, 0, 0, 0, 0,\n",
              "         0, 0, 0, 0, 0, 0, 0, 0, 0, 0, 0, 0, 0, 0, 0, 0, 0, 0, 0, 0, 0, 0,\n",
              "         0, 0, 0, 0, 0, 0, 0, 0, 0, 0, 0, 0, 0, 0, 0, 0, 0, 0, 0, 0, 0, 0,\n",
              "         0, 0, 0, 0, 0, 0, 0, 0, 0, 0, 0, 0, 0, 0, 0, 0, 0, 0, 0, 0, 0, 0,\n",
              "         0, 0, 0, 0, 0, 0, 0, 0, 0, 0, 0, 0, 0, 0, 0, 0, 0, 0]],\n",
              "       dtype=int32)>,\n",
              " 'input_type_ids': <tf.Tensor: shape=(1, 128), dtype=int32, numpy=\n",
              " array([[0, 0, 0, 0, 0, 0, 0, 0, 0, 0, 0, 0, 0, 0, 0, 0, 0, 0, 0, 0, 0, 0,\n",
              "         0, 0, 0, 0, 0, 0, 0, 0, 0, 0, 0, 0, 0, 0, 0, 0, 0, 0, 0, 0, 0, 0,\n",
              "         0, 0, 0, 0, 0, 0, 0, 0, 0, 0, 0, 0, 0, 0, 0, 0, 0, 0, 0, 0, 0, 0,\n",
              "         0, 0, 0, 0, 0, 0, 0, 0, 0, 0, 0, 0, 0, 0, 0, 0, 0, 0, 0, 0, 0, 0,\n",
              "         0, 0, 0, 0, 0, 0, 0, 0, 0, 0, 0, 0, 0, 0, 0, 0, 0, 0, 0, 0, 0, 0,\n",
              "         0, 0, 0, 0, 0, 0, 0, 0, 0, 0, 0, 0, 0, 0, 0, 0, 0, 0]],\n",
              "       dtype=int32)>,\n",
              " 'input_word_ids': <tf.Tensor: shape=(1, 128), dtype=int32, numpy=\n",
              " array([[  101,  2023,  2003,  2019,  2742,  1997, 17463,  3217,  9623,\n",
              "          7741,   102,     0,     0,     0,     0,     0,     0,     0,\n",
              "             0,     0,     0,     0,     0,     0,     0,     0,     0,\n",
              "             0,     0,     0,     0,     0,     0,     0,     0,     0,\n",
              "             0,     0,     0,     0,     0,     0,     0,     0,     0,\n",
              "             0,     0,     0,     0,     0,     0,     0,     0,     0,\n",
              "             0,     0,     0,     0,     0,     0,     0,     0,     0,\n",
              "             0,     0,     0,     0,     0,     0,     0,     0,     0,\n",
              "             0,     0,     0,     0,     0,     0,     0,     0,     0,\n",
              "             0,     0,     0,     0,     0,     0,     0,     0,     0,\n",
              "             0,     0,     0,     0,     0,     0,     0,     0,     0,\n",
              "             0,     0,     0,     0,     0,     0,     0,     0,     0,\n",
              "             0,     0,     0,     0,     0,     0,     0,     0,     0,\n",
              "             0,     0,     0,     0,     0,     0,     0,     0,     0,\n",
              "             0,     0]], dtype=int32)>}"
            ]
          },
          "metadata": {},
          "execution_count": 27
        }
      ]
    },
    {
      "cell_type": "markdown",
      "source": [
        "**Encoding using Tensorflow Hub**"
      ],
      "metadata": {
        "id": "MRecSeMpZSG1"
      }
    },
    {
      "cell_type": "code",
      "source": [
        "tf_encoder = hub.KerasLayer(\"https://tfhub.dev/tensorflow/bert_en_uncased_L-12_H-768_A-12/4\")"
      ],
      "metadata": {
        "id": "Kw1h1UUFaSyA"
      },
      "execution_count": 28,
      "outputs": []
    },
    {
      "cell_type": "code",
      "source": [
        "def encode_inputs(preprocess_text):\n",
        "  return tf_encoder(preprocess_text)\n",
        "\n",
        "prep_text = preprocess_text([\"This is an example of preprocessing\"])  \n",
        "encode_inputs(prep_text)[\"pooled_output\"]"
      ],
      "metadata": {
        "colab": {
          "base_uri": "https://localhost:8080/"
        },
        "id": "GJ4kNy8sZVIt",
        "outputId": "8afff31f-3010-4a62-87b5-dac84e976c5e"
      },
      "execution_count": 29,
      "outputs": [
        {
          "output_type": "execute_result",
          "data": {
            "text/plain": [
              "<tf.Tensor: shape=(1, 768), dtype=float32, numpy=\n",
              "array([[-9.14899647e-01, -3.51275384e-01, -3.77727330e-01,\n",
              "         6.53948069e-01,  5.14929831e-01, -2.83837289e-01,\n",
              "         8.55841339e-01,  1.37585402e-01, -1.67199478e-01,\n",
              "        -9.99985635e-01, -2.43355542e-01,  7.03699648e-01,\n",
              "         9.87010181e-01, -3.57761830e-01,  9.07458663e-01,\n",
              "        -6.02542102e-01, -6.13499023e-02, -4.69316512e-01,\n",
              "         3.09828222e-01, -4.74200100e-01,  5.66560566e-01,\n",
              "         9.99737382e-01,  5.50420046e-01,  1.48632824e-01,\n",
              "         2.93268114e-01,  8.26646328e-01, -6.14027441e-01,\n",
              "         9.41486061e-01,  9.61444438e-01,  8.02598476e-01,\n",
              "        -6.44454241e-01,  1.90562084e-01, -9.92072225e-01,\n",
              "        -1.81639388e-01, -6.21678174e-01, -9.89679754e-01,\n",
              "         3.47001135e-01, -7.99247146e-01,  4.16931957e-02,\n",
              "        -1.04804583e-01, -9.31580842e-01,  3.57742071e-01,\n",
              "         9.99939561e-01, -5.04451096e-01,  3.62645864e-01,\n",
              "        -2.56940871e-01, -9.99998868e-01,  2.00827181e-01,\n",
              "        -9.07331586e-01,  4.21097100e-01,  4.26934570e-01,\n",
              "         5.29295921e-01,  1.73091784e-01,  4.02696162e-01,\n",
              "         4.64971304e-01, -1.96684390e-01, -1.16508767e-01,\n",
              "         2.03288078e-01, -2.22614706e-01, -5.47838390e-01,\n",
              "        -4.89201248e-01,  2.65164137e-01, -4.00859863e-01,\n",
              "        -9.20740545e-01,  4.74743813e-01, -5.03476895e-03,\n",
              "        -4.65062410e-02, -2.82979339e-01, -1.12196445e-01,\n",
              "        -5.08500412e-02,  8.30596447e-01,  2.68127292e-01,\n",
              "         5.73810153e-02, -7.49600351e-01,  7.49441907e-02,\n",
              "         2.13249549e-01, -4.48145211e-01,  1.00000000e+00,\n",
              "        -3.93010408e-01, -9.85042155e-01,  3.97157490e-01,\n",
              "         2.09357068e-02,  3.27071011e-01,  5.02718389e-01,\n",
              "        -1.84357762e-01, -1.00000000e+00,  5.19243240e-01,\n",
              "        -1.03611998e-01, -9.89312232e-01,  1.37667209e-01,\n",
              "         5.39976478e-01, -1.84385538e-01, -1.90963279e-02,\n",
              "         3.70181680e-01, -1.40918955e-01, -3.35906118e-01,\n",
              "        -3.73101920e-01, -5.93882918e-01, -1.04349017e-01,\n",
              "        -3.33973676e-01,  1.22710630e-01, -2.69365847e-01,\n",
              "        -2.51603156e-01, -2.72047579e-01,  2.89224237e-01,\n",
              "        -2.21823126e-01, -4.04366910e-01,  4.71738935e-01,\n",
              "        -3.33678365e-01,  7.02749848e-01,  3.01886916e-01,\n",
              "        -2.97444344e-01,  3.57923150e-01, -9.46743071e-01,\n",
              "         5.41803181e-01, -3.00891310e-01, -9.91035521e-01,\n",
              "        -4.01811987e-01, -9.89206076e-01,  7.74444401e-01,\n",
              "        -9.39192101e-02, -2.22079098e-01,  9.50728416e-01,\n",
              "         2.49106139e-01,  2.75357693e-01,  3.53449844e-02,\n",
              "        -4.75184441e-01, -1.00000000e+00, -2.67245114e-01,\n",
              "        -5.99085093e-01,  7.32376426e-02, -1.99015498e-01,\n",
              "        -9.85705733e-01, -9.65127051e-01,  6.90252304e-01,\n",
              "         9.69054818e-01,  1.57780856e-01,  9.99756038e-01,\n",
              "        -1.61091030e-01,  9.41379726e-01,  3.56886476e-01,\n",
              "        -3.57173949e-01, -1.42437324e-01, -2.44918689e-01,\n",
              "         6.64569139e-01,  2.79784173e-01, -7.68691897e-01,\n",
              "         1.35140449e-01, -1.16441615e-01, -1.64583903e-02,\n",
              "        -5.28546572e-01, -2.64232576e-01, -2.88105220e-01,\n",
              "        -9.16235209e-01, -2.67481714e-01,  9.49419439e-01,\n",
              "        -2.47795749e-02, -3.18153977e-01,  6.79366946e-01,\n",
              "        -5.82347475e-02, -3.86881679e-01,  8.51771235e-01,\n",
              "         6.07840121e-01,  1.97829798e-01,  9.89194289e-02,\n",
              "         3.51142913e-01, -1.94612563e-01,  5.19235373e-01,\n",
              "        -9.17404771e-01,  2.90151894e-01,  3.55287969e-01,\n",
              "        -2.39294127e-01, -2.48115152e-01, -9.84705508e-01,\n",
              "        -3.47496539e-01,  5.48885584e-01,  9.87298250e-01,\n",
              "         7.80729949e-01,  3.28881621e-01,  3.28154385e-01,\n",
              "        -2.92900264e-01,  3.61498833e-01, -9.51591134e-01,\n",
              "         9.85753596e-01, -7.10593462e-02,  6.13591336e-02,\n",
              "        -3.02332103e-01,  3.22997808e-01, -9.25430000e-01,\n",
              "        -3.70126486e-01,  8.24490964e-01, -2.80050784e-01,\n",
              "        -9.16050434e-01,  4.60806787e-02, -4.81261045e-01,\n",
              "        -4.20146972e-01, -5.57685792e-01,  6.50191128e-01,\n",
              "        -3.22111547e-01, -3.21711004e-01,  6.06756881e-02,\n",
              "         9.37944829e-01,  9.64759052e-01,  7.59845614e-01,\n",
              "        -3.07933688e-01,  5.71244538e-01, -8.79817426e-01,\n",
              "        -1.67419940e-01,  1.98876485e-02,  2.74437755e-01,\n",
              "         1.31933661e-02,  9.94074821e-01, -5.72120667e-01,\n",
              "        -1.45080701e-01, -9.07762289e-01, -9.76699114e-01,\n",
              "        -4.95273583e-02, -8.42980742e-01,  3.14085111e-02,\n",
              "        -7.31935859e-01,  5.12979567e-01, -2.36584932e-01,\n",
              "        -2.36873269e-01,  2.14396060e-01, -9.53590512e-01,\n",
              "        -7.74736524e-01,  3.07136834e-01, -3.99793655e-01,\n",
              "         4.65508223e-01, -2.27730274e-01,  9.02665555e-01,\n",
              "         6.54135644e-01, -6.53678715e-01,  6.13951147e-01,\n",
              "         9.63710010e-01, -4.56061870e-01, -8.02083194e-01,\n",
              "         6.80237830e-01, -2.10067749e-01,  8.68687749e-01,\n",
              "        -5.48585594e-01,  9.92419899e-01,  6.22391045e-01,\n",
              "         4.82059807e-01, -9.43653226e-01, -1.86868384e-01,\n",
              "        -8.97696018e-01,  1.54712811e-01, -1.30130023e-01,\n",
              "        -5.40985167e-01,  2.73177475e-01,  4.62963581e-01,\n",
              "         2.96963841e-01,  6.51932418e-01, -5.24671555e-01,\n",
              "         9.93013620e-01, -8.87835801e-01, -9.63654160e-01,\n",
              "        -5.20075858e-01,  1.23642556e-01, -9.92104709e-01,\n",
              "         5.93532085e-01,  9.81967822e-02,  4.63237852e-01,\n",
              "        -4.35175836e-01, -5.53651929e-01, -9.74119484e-01,\n",
              "         8.71212304e-01,  3.25060748e-02,  9.82783973e-01,\n",
              "        -4.56045330e-01, -8.94178450e-01, -4.78469640e-01,\n",
              "        -9.51641619e-01, -1.97940350e-01, -2.42249057e-01,\n",
              "         4.36268061e-01, -7.12447092e-02, -9.37442124e-01,\n",
              "         4.05894756e-01,  6.39310718e-01,  3.37632895e-01,\n",
              "        -1.86732590e-01,  9.96092558e-01,  9.99997318e-01,\n",
              "         9.78150547e-01,  8.78509164e-01,  8.46309245e-01,\n",
              "        -9.98601675e-01, -7.62389839e-01,  9.99988139e-01,\n",
              "        -9.55972075e-01, -1.00000000e+00, -9.55789149e-01,\n",
              "        -5.76712847e-01,  4.06018406e-01, -1.00000000e+00,\n",
              "        -5.42525537e-02,  1.42190782e-02, -9.20375943e-01,\n",
              "        -7.17135444e-02,  9.86234546e-01,  9.81957257e-01,\n",
              "        -1.00000000e+00,  9.48133588e-01,  9.42107499e-01,\n",
              "        -4.09207582e-01,  6.72955513e-01, -3.79679799e-01,\n",
              "         9.82815206e-01,  4.85916287e-01,  5.43841064e-01,\n",
              "        -1.66328520e-01,  3.21049780e-01, -6.14758492e-01,\n",
              "        -8.38555396e-01, -6.70654625e-02, -3.12637717e-01,\n",
              "         9.91588891e-01,  1.40392259e-02, -7.49607086e-01,\n",
              "        -8.88530910e-01,  3.56105953e-01,  1.88478604e-02,\n",
              "        -1.79432869e-01, -9.65827048e-01, -1.85317740e-01,\n",
              "        -1.32165253e-01,  6.92614853e-01,  1.97461918e-01,\n",
              "         1.66161299e-01, -7.25404680e-01,  3.01002502e-01,\n",
              "        -3.40364277e-01,  3.13139766e-01,  4.66077805e-01,\n",
              "        -9.40048993e-01, -5.80071688e-01,  3.32092531e-02,\n",
              "        -3.34044456e-01,  1.92657277e-01, -9.78139877e-01,\n",
              "         9.67198789e-01, -2.24470839e-01,  5.51447392e-01,\n",
              "         1.00000000e+00,  5.81441522e-01, -8.79721820e-01,\n",
              "         5.13922334e-01,  1.84080660e-01, -4.50061053e-01,\n",
              "         1.00000000e+00,  5.62809050e-01, -9.88398790e-01,\n",
              "        -3.52488428e-01,  4.01417613e-01, -4.63932455e-01,\n",
              "        -4.35163856e-01,  9.99361753e-01, -2.29552642e-01,\n",
              "        -1.20840460e-01, -1.52493685e-01,  9.85325634e-01,\n",
              "        -9.94451582e-01,  9.69526827e-01, -8.00825775e-01,\n",
              "        -9.63882744e-01,  9.60417569e-01,  9.39208210e-01,\n",
              "        -3.59038532e-01, -8.57147157e-01, -6.88074380e-02,\n",
              "        -2.19473660e-01,  2.95462549e-01, -9.47498143e-01,\n",
              "         5.73379934e-01,  4.57685769e-01, -1.62364170e-02,\n",
              "         8.82384419e-01, -7.65605390e-01, -3.93350840e-01,\n",
              "         4.00231421e-01, -2.67500252e-01,  2.31774688e-01,\n",
              "         7.72606611e-01,  4.53746170e-01, -2.48667166e-01,\n",
              "        -7.98016414e-02, -1.44053251e-01, -6.36892617e-01,\n",
              "        -9.59137022e-01,  3.83846313e-01,  1.00000000e+00,\n",
              "        -1.60485562e-02,  4.89942670e-01,  1.30365103e-01,\n",
              "        -7.42176995e-02, -1.83438435e-01,  5.04177034e-01,\n",
              "         5.55649400e-01, -2.82885551e-01, -8.75351310e-01,\n",
              "         4.99019235e-01, -8.86841476e-01, -9.91435468e-01,\n",
              "         5.87869823e-01,  1.31311163e-01, -2.72513032e-01,\n",
              "         9.99943972e-01,  3.61755431e-01,  1.82697132e-01,\n",
              "         2.11085454e-01,  9.02332485e-01,  3.71850058e-02,\n",
              "         4.92716730e-01,  1.52701139e-02,  9.86866057e-01,\n",
              "        -2.34962493e-01,  3.56727898e-01,  8.45770240e-01,\n",
              "        -3.16489547e-01, -1.96604341e-01, -6.88174248e-01,\n",
              "        -1.51990037e-02, -9.58271265e-01,  1.59046948e-02,\n",
              "        -9.64957595e-01,  9.72714901e-01,  4.89043593e-01,\n",
              "         3.36229384e-01,  1.24778941e-01,  6.54961228e-01,\n",
              "         1.00000000e+00, -6.99456573e-01,  6.31209970e-01,\n",
              "        -4.39874858e-01,  6.74042284e-01, -9.97794509e-01,\n",
              "        -6.84324026e-01, -3.27610940e-01, -9.53171551e-02,\n",
              "         2.70845145e-02, -1.51473001e-01,  1.99715734e-01,\n",
              "        -9.78642523e-01,  8.74128863e-02,  2.78620094e-01,\n",
              "        -9.57454562e-01, -9.87001598e-01,  9.12866667e-02,\n",
              "         7.54753411e-01,  8.99968017e-03, -9.56708789e-01,\n",
              "        -5.68121672e-01, -5.91118455e-01,  2.94930398e-01,\n",
              "        -2.43768215e-01, -9.27918017e-01,  5.59345841e-01,\n",
              "        -2.46791825e-01,  3.78734231e-01, -3.23771119e-01,\n",
              "         4.55833226e-01,  2.45797053e-01,  8.52654696e-01,\n",
              "        -7.64858246e-01, -9.23066586e-02, -4.98023927e-02,\n",
              "        -8.08400869e-01,  7.61211991e-01, -7.95531511e-01,\n",
              "        -3.91700596e-01, -1.35363489e-01,  1.00000000e+00,\n",
              "        -5.40646613e-01,  5.26317418e-01,  7.47473359e-01,\n",
              "         7.30709732e-01, -2.06338838e-01,  1.15527913e-01,\n",
              "         7.06223607e-01,  1.15429580e-01,  2.35401019e-01,\n",
              "        -2.71504730e-01, -5.30362725e-01, -2.27603614e-01,\n",
              "         6.37586415e-01,  3.58881325e-01, -1.28501281e-02,\n",
              "         7.78758645e-01,  8.10714960e-01,  1.61302686e-01,\n",
              "        -2.00186651e-02, -9.11127124e-03,  9.97724354e-01,\n",
              "        -9.81098041e-02, -1.84239462e-01, -4.83030289e-01,\n",
              "        -9.70525444e-02, -1.95132941e-01, -3.07693928e-01,\n",
              "         1.00000000e+00,  3.06210011e-01,  3.36131006e-01,\n",
              "        -9.92370725e-01, -5.16045153e-01, -9.10045862e-01,\n",
              "         9.99992192e-01,  8.17071974e-01, -8.79490793e-01,\n",
              "         7.06059873e-01,  2.94643104e-01, -8.11011568e-02,\n",
              "         7.09775090e-01, -2.06542417e-01, -2.00133353e-01,\n",
              "         7.80024603e-02,  5.53996600e-02,  9.58047509e-01,\n",
              "        -4.49200064e-01, -9.79330122e-01, -7.09443390e-01,\n",
              "         3.53468925e-01, -9.66973007e-01,  9.98936415e-01,\n",
              "        -6.04418635e-01, -1.24624163e-01, -4.73811984e-01,\n",
              "        -8.05050805e-02,  4.95600581e-01, -5.23226857e-02,\n",
              "        -9.77769136e-01, -5.22240400e-02,  1.32549554e-01,\n",
              "         9.75730240e-01,  2.34122097e-01, -3.58825862e-01,\n",
              "        -9.20308948e-01,  4.90776449e-01,  5.35950303e-01,\n",
              "        -3.52626145e-01, -9.17313099e-01,  9.77855504e-01,\n",
              "        -9.57759917e-01,  3.19410831e-01,  1.00000000e+00,\n",
              "         4.19328690e-01, -2.54736811e-01,  1.77059978e-01,\n",
              "        -4.98713732e-01,  2.48209953e-01, -3.92952830e-01,\n",
              "         5.57686388e-01, -9.59944010e-01, -2.44293213e-01,\n",
              "        -1.91007689e-01,  2.58389413e-01, -1.94843307e-01,\n",
              "        -3.68709981e-01,  6.54415488e-01,  1.87834725e-01,\n",
              "        -3.16794246e-01, -4.19480085e-01, -2.24150777e-01,\n",
              "         3.61138523e-01,  7.49827206e-01, -1.30223393e-01,\n",
              "        -1.32848427e-01,  8.41704756e-02, -1.00977607e-01,\n",
              "        -8.36548209e-01, -3.30493718e-01, -3.99430811e-01,\n",
              "        -9.99867558e-01,  6.37333930e-01, -1.00000000e+00,\n",
              "         2.85378188e-01, -4.65928376e-01, -1.41259626e-01,\n",
              "         8.64856064e-01,  6.26658440e-01,  4.55573589e-01,\n",
              "        -8.01989734e-01, -7.19446018e-02,  7.23731935e-01,\n",
              "         7.07107306e-01, -2.37651199e-01,  1.29582390e-01,\n",
              "        -7.29211450e-01,  1.75673470e-01, -7.50818625e-02,\n",
              "         1.74144328e-01,  1.25715984e-02,  7.73388267e-01,\n",
              "        -1.71771944e-01,  1.00000000e+00,  1.90376621e-02,\n",
              "        -6.15844548e-01, -9.34535682e-01,  2.17293710e-01,\n",
              "        -2.26245955e-01,  9.99999523e-01, -9.14858222e-01,\n",
              "        -9.71775889e-01,  1.34662911e-01, -7.02447414e-01,\n",
              "        -8.38050008e-01,  2.00628176e-01,  6.20672256e-02,\n",
              "        -7.33536899e-01, -8.25182736e-01,  9.39158618e-01,\n",
              "         8.63195121e-01, -3.99766266e-01,  4.17798489e-01,\n",
              "        -2.53353685e-01, -4.48437423e-01, -7.10846856e-02,\n",
              "         4.48766470e-01,  9.89833653e-01,  5.80992401e-01,\n",
              "         9.33548033e-01, -2.32919808e-02, -1.25769779e-01,\n",
              "         9.74647522e-01,  3.66791785e-01,  4.74641889e-01,\n",
              "        -3.20598222e-02,  1.00000000e+00,  3.51550251e-01,\n",
              "        -9.49026108e-01,  9.93384868e-02, -9.84280527e-01,\n",
              "        -8.15202445e-02, -9.54456389e-01,  1.18388519e-01,\n",
              "         1.14536941e-01,  9.20533240e-01, -3.10221285e-01,\n",
              "         9.66219723e-01, -4.05343145e-01,  2.01025438e-02,\n",
              "        -1.40474647e-01,  2.93972641e-01,  2.34051123e-01,\n",
              "        -9.44207549e-01, -9.88668799e-01, -9.89748836e-01,\n",
              "         5.34104347e-01, -3.80279303e-01, -6.87581897e-02,\n",
              "         2.11712509e-01,  1.18295260e-01,  3.75169724e-01,\n",
              "         2.81333655e-01, -1.00000000e+00,  9.53985274e-01,\n",
              "         3.93118262e-01,  3.00097317e-01,  9.72024858e-01,\n",
              "         3.71243536e-01,  5.45551360e-01,  2.35535532e-01,\n",
              "        -9.90185738e-01, -9.36652124e-01, -3.13836843e-01,\n",
              "        -3.30737144e-01,  7.90749609e-01,  6.37133956e-01,\n",
              "         8.41667533e-01,  3.39281917e-01, -4.02273744e-01,\n",
              "        -5.49939334e-01,  8.16289485e-02, -7.98009813e-01,\n",
              "        -9.92738307e-01,  3.33341062e-01,  1.85829386e-01,\n",
              "        -9.47488546e-01,  9.66354311e-01, -4.16989625e-01,\n",
              "        -5.08549511e-02,  6.13310397e-01, -5.84313571e-01,\n",
              "         8.66133392e-01,  8.10029984e-01,  4.68824208e-01,\n",
              "        -2.63592403e-04,  6.08551681e-01,  8.94736350e-01,\n",
              "         9.42800343e-01,  9.89336610e-01, -3.05505544e-01,\n",
              "         7.58774996e-01, -3.39667276e-02,  5.62810540e-01,\n",
              "         8.14612627e-01, -9.59562659e-01,  2.40751863e-01,\n",
              "         4.45512801e-01, -1.39944151e-03,  1.72506377e-01,\n",
              "        -1.18029445e-01, -9.37215269e-01,  7.42732406e-01,\n",
              "        -2.26213768e-01,  5.77845871e-01, -3.44349682e-01,\n",
              "         1.61943555e-01, -3.85638356e-01, -1.07963987e-01,\n",
              "        -8.33837688e-01, -4.92493510e-01,  4.17242110e-01,\n",
              "         2.97484815e-01,  9.34076548e-01,  6.98219001e-01,\n",
              "         2.32016831e-03, -5.73059678e-01, -1.90387890e-01,\n",
              "         6.42721951e-02, -9.50038493e-01,  9.00316477e-01,\n",
              "         4.30725664e-02,  3.71150166e-01,  6.22743368e-01,\n",
              "        -1.09749578e-01,  8.71112347e-01, -1.50287390e-01,\n",
              "        -4.06856865e-01, -2.95925558e-01, -8.34070981e-01,\n",
              "         8.03897023e-01, -5.79238236e-01, -5.12411833e-01,\n",
              "        -4.92368877e-01,  6.50828660e-01,  3.00901085e-01,\n",
              "         9.99824047e-01, -1.58126429e-01, -1.73325077e-01,\n",
              "        -4.86631721e-01, -3.19533408e-01,  2.68657863e-01,\n",
              "        -2.77172029e-01, -1.00000000e+00,  3.99195462e-01,\n",
              "        -2.82089761e-03,  1.44774407e-01, -4.10200238e-01,\n",
              "         2.82453895e-01, -5.12963310e-02, -9.73180532e-01,\n",
              "        -1.39203131e-01,  7.13777423e-01,  4.16429371e-01,\n",
              "        -4.14301068e-01, -4.43000287e-01,  3.48359019e-01,\n",
              "         4.80495095e-01,  8.61810088e-01,  8.68943751e-01,\n",
              "        -2.32815132e-01,  5.49284697e-01,  4.63174641e-01,\n",
              "        -7.67774522e-01, -6.09540880e-01,  9.02512074e-01]], dtype=float32)>"
            ]
          },
          "metadata": {},
          "execution_count": 29
        }
      ]
    },
    {
      "cell_type": "markdown",
      "source": [
        "**Build Model**"
      ],
      "metadata": {
        "id": "qIAOoImFd-98"
      }
    },
    {
      "cell_type": "code",
      "source": [
        "# Input and Preprocess\n",
        "input = keras.layers.Input(shape=(), dtype=tf.string, name=\"input\")\n",
        "preprocess = preprocess_text(input)\n",
        "encoder = encode_inputs(preprocess)\n",
        "\n",
        "# NNL\n",
        "nnl = tf.keras.layers.Dropout(0.1, name=\"dropout\")(encoder[\"pooled_output\"])\n",
        "nnl = tf.keras.layers.Dense(3, activation=\"softmax\", name=\"output\")(nnl)\n",
        "\n",
        "# Construct Final Model\n",
        "model = tf.keras.Model(inputs=[input], outputs=[nnl])"
      ],
      "metadata": {
        "id": "X8_5o41ReG5Q"
      },
      "execution_count": 30,
      "outputs": []
    },
    {
      "cell_type": "code",
      "source": [
        "model.summary()"
      ],
      "metadata": {
        "colab": {
          "base_uri": "https://localhost:8080/"
        },
        "id": "zFPRO0S-fym7",
        "outputId": "b37d7270-0b6d-457b-f929-107e72436f41"
      },
      "execution_count": 32,
      "outputs": [
        {
          "output_type": "stream",
          "name": "stdout",
          "text": [
            "Model: \"model\"\n",
            "__________________________________________________________________________________________________\n",
            " Layer (type)                   Output Shape         Param #     Connected to                     \n",
            "==================================================================================================\n",
            " input (InputLayer)             [(None,)]            0           []                               \n",
            "                                                                                                  \n",
            " keras_layer (KerasLayer)       {'input_mask': (Non  0           ['input[0][0]']                  \n",
            "                                e, 128),                                                          \n",
            "                                 'input_word_ids':                                                \n",
            "                                (None, 128),                                                      \n",
            "                                 'input_type_ids':                                                \n",
            "                                (None, 128)}                                                      \n",
            "                                                                                                  \n",
            " keras_layer_1 (KerasLayer)     {'default': (None,   109482241   ['keras_layer[1][0]',            \n",
            "                                768),                             'keras_layer[1][1]',            \n",
            "                                 'sequence_output':               'keras_layer[1][2]']            \n",
            "                                 (None, 128, 768),                                                \n",
            "                                 'encoder_outputs':                                               \n",
            "                                 [(None, 128, 768),                                               \n",
            "                                 (None, 128, 768),                                                \n",
            "                                 (None, 128, 768),                                                \n",
            "                                 (None, 128, 768),                                                \n",
            "                                 (None, 128, 768),                                                \n",
            "                                 (None, 128, 768),                                                \n",
            "                                 (None, 128, 768),                                                \n",
            "                                 (None, 128, 768),                                                \n",
            "                                 (None, 128, 768),                                                \n",
            "                                 (None, 128, 768),                                                \n",
            "                                 (None, 128, 768),                                                \n",
            "                                 (None, 128, 768)],                                               \n",
            "                                 'pooled_output': (                                               \n",
            "                                None, 768)}                                                       \n",
            "                                                                                                  \n",
            " dropout (Dropout)              (None, 768)          0           ['keras_layer_1[0][13]']         \n",
            "                                                                                                  \n",
            " output (Dense)                 (None, 3)            2307        ['dropout[0][0]']                \n",
            "                                                                                                  \n",
            "==================================================================================================\n",
            "Total params: 109,484,548\n",
            "Trainable params: 2,307\n",
            "Non-trainable params: 109,482,241\n",
            "__________________________________________________________________________________________________\n"
          ]
        }
      ]
    },
    {
      "cell_type": "code",
      "source": [
        "#Compile Model\n",
        "METRICS = [\n",
        "           tf.keras.metrics.BinaryAccuracy(name=\"accuracy\"),\n",
        "           tf.keras.metrics.Precision(name=\"precision\"),\n",
        "           tf.keras.metrics.Recall(name=\"recall\"),\n",
        "]\n",
        "\n",
        "model.compile(optimizer=tf.keras.optimizers.Adam(learning_rate=0.001), \n",
        "              loss=tf.keras.losses.BinaryCrossentropy(),\n",
        "              metrics=METRICS)"
      ],
      "metadata": {
        "id": "53jz_j7Vf20G"
      },
      "execution_count": 31,
      "outputs": []
    },
    {
      "cell_type": "code",
      "source": [
        "model.fit(x_train, y_train, validation_data=(x_test, y_test), epochs=5)"
      ],
      "metadata": {
        "colab": {
          "base_uri": "https://localhost:8080/"
        },
        "id": "HJJGQpfIf4v4",
        "outputId": "b94caacb-9622-4887-e959-b44acddbb253"
      },
      "execution_count": null,
      "outputs": [
        {
          "metadata": {
            "tags": null
          },
          "name": "stdout",
          "output_type": "stream",
          "text": [
            "Epoch 1/5\n",
            "250/250 [==============================] - 4607s 18s/step - loss: 0.2389 - accuracy: 0.8321 - precision: 0.4971 - recall: 0.9854 - val_loss: 0.2150 - val_accuracy: 0.8323 - val_precision: 0.4975 - val_recall: 0.9990\n",
            "Epoch 2/5\n",
            "250/250 [==============================] - 4627s 19s/step - loss: 0.2127 - accuracy: 0.8326 - precision: 0.4979 - recall: 1.0000 - val_loss: 0.2033 - val_accuracy: 0.8325 - val_precision: 0.4977 - val_recall: 0.9990\n",
            "Epoch 3/5\n",
            "250/250 [==============================] - ETA: 0s - loss: 0.2052 - accuracy: 0.8326 - precision: 0.4979 - recall: 1.0000 "
          ]
        }
      ]
    }
  ]
}