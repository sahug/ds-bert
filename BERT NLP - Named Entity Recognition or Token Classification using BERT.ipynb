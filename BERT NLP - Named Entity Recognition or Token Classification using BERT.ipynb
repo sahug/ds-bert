{
  "nbformat": 4,
  "nbformat_minor": 0,
  "metadata": {
    "colab": {
      "name": "BERT NLP - Named Entity Recognition or Token Classification using BERT.ipynb",
      "provenance": [],
      "collapsed_sections": [],
      "include_colab_link": true
    },
    "kernelspec": {
      "name": "python3",
      "display_name": "Python 3"
    },
    "language_info": {
      "name": "python"
    },
    "widgets": {
      "application/vnd.jupyter.widget-state+json": {
        "4eb519b083ed40309943802dc3c47f28": {
          "model_module": "@jupyter-widgets/controls",
          "model_name": "HBoxModel",
          "model_module_version": "1.5.0",
          "state": {
            "_dom_classes": [],
            "_model_module": "@jupyter-widgets/controls",
            "_model_module_version": "1.5.0",
            "_model_name": "HBoxModel",
            "_view_count": null,
            "_view_module": "@jupyter-widgets/controls",
            "_view_module_version": "1.5.0",
            "_view_name": "HBoxView",
            "box_style": "",
            "children": [
              "IPY_MODEL_15c77095498345f695d1180b47dfead9",
              "IPY_MODEL_a64a057fc7454e8987cde3ee626a2a8d",
              "IPY_MODEL_ee897d0132374358b44f40b60ee6a8f4"
            ],
            "layout": "IPY_MODEL_1c0515df20e84d3fbc61de5051388360"
          }
        },
        "15c77095498345f695d1180b47dfead9": {
          "model_module": "@jupyter-widgets/controls",
          "model_name": "HTMLModel",
          "model_module_version": "1.5.0",
          "state": {
            "_dom_classes": [],
            "_model_module": "@jupyter-widgets/controls",
            "_model_module_version": "1.5.0",
            "_model_name": "HTMLModel",
            "_view_count": null,
            "_view_module": "@jupyter-widgets/controls",
            "_view_module_version": "1.5.0",
            "_view_name": "HTMLView",
            "description": "",
            "description_tooltip": null,
            "layout": "IPY_MODEL_160318c830aa41f580efe9401f293de3",
            "placeholder": "​",
            "style": "IPY_MODEL_582c1ad239d347cba33ba555bed37fd7",
            "value": "100%"
          }
        },
        "a64a057fc7454e8987cde3ee626a2a8d": {
          "model_module": "@jupyter-widgets/controls",
          "model_name": "FloatProgressModel",
          "model_module_version": "1.5.0",
          "state": {
            "_dom_classes": [],
            "_model_module": "@jupyter-widgets/controls",
            "_model_module_version": "1.5.0",
            "_model_name": "FloatProgressModel",
            "_view_count": null,
            "_view_module": "@jupyter-widgets/controls",
            "_view_module_version": "1.5.0",
            "_view_name": "ProgressView",
            "bar_style": "success",
            "description": "",
            "description_tooltip": null,
            "layout": "IPY_MODEL_df394b769816429e9710674a93c98eef",
            "max": 3,
            "min": 0,
            "orientation": "horizontal",
            "style": "IPY_MODEL_9dd96d109a624a6998f61ad90cce5978",
            "value": 3
          }
        },
        "ee897d0132374358b44f40b60ee6a8f4": {
          "model_module": "@jupyter-widgets/controls",
          "model_name": "HTMLModel",
          "model_module_version": "1.5.0",
          "state": {
            "_dom_classes": [],
            "_model_module": "@jupyter-widgets/controls",
            "_model_module_version": "1.5.0",
            "_model_name": "HTMLModel",
            "_view_count": null,
            "_view_module": "@jupyter-widgets/controls",
            "_view_module_version": "1.5.0",
            "_view_name": "HTMLView",
            "description": "",
            "description_tooltip": null,
            "layout": "IPY_MODEL_0164d207e3204358bdd5c6095aa103cb",
            "placeholder": "​",
            "style": "IPY_MODEL_beac1805ea464ee6a84eba779ada523a",
            "value": " 3/3 [00:00&lt;00:00, 30.35it/s]"
          }
        },
        "1c0515df20e84d3fbc61de5051388360": {
          "model_module": "@jupyter-widgets/base",
          "model_name": "LayoutModel",
          "model_module_version": "1.2.0",
          "state": {
            "_model_module": "@jupyter-widgets/base",
            "_model_module_version": "1.2.0",
            "_model_name": "LayoutModel",
            "_view_count": null,
            "_view_module": "@jupyter-widgets/base",
            "_view_module_version": "1.2.0",
            "_view_name": "LayoutView",
            "align_content": null,
            "align_items": null,
            "align_self": null,
            "border": null,
            "bottom": null,
            "display": null,
            "flex": null,
            "flex_flow": null,
            "grid_area": null,
            "grid_auto_columns": null,
            "grid_auto_flow": null,
            "grid_auto_rows": null,
            "grid_column": null,
            "grid_gap": null,
            "grid_row": null,
            "grid_template_areas": null,
            "grid_template_columns": null,
            "grid_template_rows": null,
            "height": null,
            "justify_content": null,
            "justify_items": null,
            "left": null,
            "margin": null,
            "max_height": null,
            "max_width": null,
            "min_height": null,
            "min_width": null,
            "object_fit": null,
            "object_position": null,
            "order": null,
            "overflow": null,
            "overflow_x": null,
            "overflow_y": null,
            "padding": null,
            "right": null,
            "top": null,
            "visibility": null,
            "width": null
          }
        },
        "160318c830aa41f580efe9401f293de3": {
          "model_module": "@jupyter-widgets/base",
          "model_name": "LayoutModel",
          "model_module_version": "1.2.0",
          "state": {
            "_model_module": "@jupyter-widgets/base",
            "_model_module_version": "1.2.0",
            "_model_name": "LayoutModel",
            "_view_count": null,
            "_view_module": "@jupyter-widgets/base",
            "_view_module_version": "1.2.0",
            "_view_name": "LayoutView",
            "align_content": null,
            "align_items": null,
            "align_self": null,
            "border": null,
            "bottom": null,
            "display": null,
            "flex": null,
            "flex_flow": null,
            "grid_area": null,
            "grid_auto_columns": null,
            "grid_auto_flow": null,
            "grid_auto_rows": null,
            "grid_column": null,
            "grid_gap": null,
            "grid_row": null,
            "grid_template_areas": null,
            "grid_template_columns": null,
            "grid_template_rows": null,
            "height": null,
            "justify_content": null,
            "justify_items": null,
            "left": null,
            "margin": null,
            "max_height": null,
            "max_width": null,
            "min_height": null,
            "min_width": null,
            "object_fit": null,
            "object_position": null,
            "order": null,
            "overflow": null,
            "overflow_x": null,
            "overflow_y": null,
            "padding": null,
            "right": null,
            "top": null,
            "visibility": null,
            "width": null
          }
        },
        "582c1ad239d347cba33ba555bed37fd7": {
          "model_module": "@jupyter-widgets/controls",
          "model_name": "DescriptionStyleModel",
          "model_module_version": "1.5.0",
          "state": {
            "_model_module": "@jupyter-widgets/controls",
            "_model_module_version": "1.5.0",
            "_model_name": "DescriptionStyleModel",
            "_view_count": null,
            "_view_module": "@jupyter-widgets/base",
            "_view_module_version": "1.2.0",
            "_view_name": "StyleView",
            "description_width": ""
          }
        },
        "df394b769816429e9710674a93c98eef": {
          "model_module": "@jupyter-widgets/base",
          "model_name": "LayoutModel",
          "model_module_version": "1.2.0",
          "state": {
            "_model_module": "@jupyter-widgets/base",
            "_model_module_version": "1.2.0",
            "_model_name": "LayoutModel",
            "_view_count": null,
            "_view_module": "@jupyter-widgets/base",
            "_view_module_version": "1.2.0",
            "_view_name": "LayoutView",
            "align_content": null,
            "align_items": null,
            "align_self": null,
            "border": null,
            "bottom": null,
            "display": null,
            "flex": null,
            "flex_flow": null,
            "grid_area": null,
            "grid_auto_columns": null,
            "grid_auto_flow": null,
            "grid_auto_rows": null,
            "grid_column": null,
            "grid_gap": null,
            "grid_row": null,
            "grid_template_areas": null,
            "grid_template_columns": null,
            "grid_template_rows": null,
            "height": null,
            "justify_content": null,
            "justify_items": null,
            "left": null,
            "margin": null,
            "max_height": null,
            "max_width": null,
            "min_height": null,
            "min_width": null,
            "object_fit": null,
            "object_position": null,
            "order": null,
            "overflow": null,
            "overflow_x": null,
            "overflow_y": null,
            "padding": null,
            "right": null,
            "top": null,
            "visibility": null,
            "width": null
          }
        },
        "9dd96d109a624a6998f61ad90cce5978": {
          "model_module": "@jupyter-widgets/controls",
          "model_name": "ProgressStyleModel",
          "model_module_version": "1.5.0",
          "state": {
            "_model_module": "@jupyter-widgets/controls",
            "_model_module_version": "1.5.0",
            "_model_name": "ProgressStyleModel",
            "_view_count": null,
            "_view_module": "@jupyter-widgets/base",
            "_view_module_version": "1.2.0",
            "_view_name": "StyleView",
            "bar_color": null,
            "description_width": ""
          }
        },
        "0164d207e3204358bdd5c6095aa103cb": {
          "model_module": "@jupyter-widgets/base",
          "model_name": "LayoutModel",
          "model_module_version": "1.2.0",
          "state": {
            "_model_module": "@jupyter-widgets/base",
            "_model_module_version": "1.2.0",
            "_model_name": "LayoutModel",
            "_view_count": null,
            "_view_module": "@jupyter-widgets/base",
            "_view_module_version": "1.2.0",
            "_view_name": "LayoutView",
            "align_content": null,
            "align_items": null,
            "align_self": null,
            "border": null,
            "bottom": null,
            "display": null,
            "flex": null,
            "flex_flow": null,
            "grid_area": null,
            "grid_auto_columns": null,
            "grid_auto_flow": null,
            "grid_auto_rows": null,
            "grid_column": null,
            "grid_gap": null,
            "grid_row": null,
            "grid_template_areas": null,
            "grid_template_columns": null,
            "grid_template_rows": null,
            "height": null,
            "justify_content": null,
            "justify_items": null,
            "left": null,
            "margin": null,
            "max_height": null,
            "max_width": null,
            "min_height": null,
            "min_width": null,
            "object_fit": null,
            "object_position": null,
            "order": null,
            "overflow": null,
            "overflow_x": null,
            "overflow_y": null,
            "padding": null,
            "right": null,
            "top": null,
            "visibility": null,
            "width": null
          }
        },
        "beac1805ea464ee6a84eba779ada523a": {
          "model_module": "@jupyter-widgets/controls",
          "model_name": "DescriptionStyleModel",
          "model_module_version": "1.5.0",
          "state": {
            "_model_module": "@jupyter-widgets/controls",
            "_model_module_version": "1.5.0",
            "_model_name": "DescriptionStyleModel",
            "_view_count": null,
            "_view_module": "@jupyter-widgets/base",
            "_view_module_version": "1.2.0",
            "_view_name": "StyleView",
            "description_width": ""
          }
        }
      }
    }
  },
  "cells": [
    {
      "cell_type": "markdown",
      "metadata": {
        "id": "view-in-github",
        "colab_type": "text"
      },
      "source": [
        "<a href=\"https://colab.research.google.com/github/sahug/ds-bert/blob/main/BERT%20NLP%20-%20Named%20Entity%20Recognition%20or%20Token%20Classification%20using%20BERT.ipynb\" target=\"_parent\"><img src=\"https://colab.research.google.com/assets/colab-badge.svg\" alt=\"Open In Colab\"/></a>"
      ]
    },
    {
      "cell_type": "markdown",
      "source": [
        "**BERT NLP - Named Entity Recognition or Token Classification using BERT**"
      ],
      "metadata": {
        "id": "J2pXncO80uF8"
      }
    },
    {
      "cell_type": "markdown",
      "source": [
        "**Token classification** assigns a label to individual tokens in a sentence. One of the most common token classification tasks is **Named Entity Recognition (NER)**. NER attempts to find a label for each entity in a sentence, such as a person, location, or organization."
      ],
      "metadata": {
        "id": "dPx0IKEn0x6h"
      }
    },
    {
      "cell_type": "markdown",
      "source": [
        "**Load Dataset**"
      ],
      "metadata": {
        "id": "c5LA_0oi02pE"
      }
    },
    {
      "cell_type": "code",
      "source": [
        "%pip install -qq datasets"
      ],
      "metadata": {
        "id": "Dt9S6SQ81HIs"
      },
      "execution_count": 1,
      "outputs": []
    },
    {
      "cell_type": "code",
      "execution_count": 2,
      "metadata": {
        "colab": {
          "base_uri": "https://localhost:8080/",
          "height": 309,
          "referenced_widgets": [
            "4eb519b083ed40309943802dc3c47f28",
            "15c77095498345f695d1180b47dfead9",
            "a64a057fc7454e8987cde3ee626a2a8d",
            "ee897d0132374358b44f40b60ee6a8f4",
            "1c0515df20e84d3fbc61de5051388360",
            "160318c830aa41f580efe9401f293de3",
            "582c1ad239d347cba33ba555bed37fd7",
            "df394b769816429e9710674a93c98eef",
            "9dd96d109a624a6998f61ad90cce5978",
            "0164d207e3204358bdd5c6095aa103cb",
            "beac1805ea464ee6a84eba779ada523a"
          ]
        },
        "id": "y1W8W-IV0jcT",
        "outputId": "569df664-23d3-4609-fde1-ff3ba8393fc0"
      },
      "outputs": [
        {
          "output_type": "stream",
          "name": "stderr",
          "text": [
            "Reusing dataset conll2003 (/root/.cache/huggingface/datasets/conll2003/conll2003/1.0.0/63f4ebd1bcb7148b1644497336fd74643d4ce70123334431a3c053b7ee4e96ee)\n"
          ]
        },
        {
          "output_type": "display_data",
          "data": {
            "text/plain": [
              "  0%|          | 0/3 [00:00<?, ?it/s]"
            ],
            "application/vnd.jupyter.widget-view+json": {
              "version_major": 2,
              "version_minor": 0,
              "model_id": "4eb519b083ed40309943802dc3c47f28"
            }
          },
          "metadata": {}
        },
        {
          "output_type": "execute_result",
          "data": {
            "text/plain": [
              "DatasetDict({\n",
              "    train: Dataset({\n",
              "        features: ['id', 'tokens', 'pos_tags', 'chunk_tags', 'ner_tags'],\n",
              "        num_rows: 14042\n",
              "    })\n",
              "    validation: Dataset({\n",
              "        features: ['id', 'tokens', 'pos_tags', 'chunk_tags', 'ner_tags'],\n",
              "        num_rows: 3251\n",
              "    })\n",
              "    test: Dataset({\n",
              "        features: ['id', 'tokens', 'pos_tags', 'chunk_tags', 'ner_tags'],\n",
              "        num_rows: 3454\n",
              "    })\n",
              "})"
            ]
          },
          "metadata": {},
          "execution_count": 2
        }
      ],
      "source": [
        "from datasets import load_dataset\n",
        "ds = load_dataset(\"conll2003\")\n",
        "ds"
      ]
    },
    {
      "cell_type": "markdown",
      "source": [
        "**Preprocess Data**"
      ],
      "metadata": {
        "id": "h2oNWMBZHeL8"
      }
    },
    {
      "cell_type": "code",
      "source": [
        "# Remove Unwanted Features\n",
        "ds = ds.remove_columns([\"id\", \"pos_tags\", \"chunk_tags\"])\n",
        "\n",
        "# Rename Columns\n",
        "ds = ds.rename_column(\"ner_tags\", \"labels\")\n",
        "ds = ds.rename_column(\"tokens\", \"words\")"
      ],
      "metadata": {
        "id": "Wdc_jb5RHg4a"
      },
      "execution_count": 3,
      "outputs": []
    },
    {
      "cell_type": "code",
      "source": [
        "ds[\"train\"], ds[\"validation\"], ds[\"test\"]"
      ],
      "metadata": {
        "colab": {
          "base_uri": "https://localhost:8080/"
        },
        "id": "UgcqTT_pH8Q9",
        "outputId": "7dd4f222-2efe-40d6-abc9-32574c3debaa"
      },
      "execution_count": 4,
      "outputs": [
        {
          "output_type": "execute_result",
          "data": {
            "text/plain": [
              "(Dataset({\n",
              "     features: ['words', 'labels'],\n",
              "     num_rows: 14042\n",
              " }), Dataset({\n",
              "     features: ['words', 'labels'],\n",
              "     num_rows: 3251\n",
              " }), Dataset({\n",
              "     features: ['words', 'labels'],\n",
              "     num_rows: 3454\n",
              " }))"
            ]
          },
          "metadata": {},
          "execution_count": 4
        }
      ]
    },
    {
      "cell_type": "markdown",
      "source": [
        "**Labels**\n",
        "\n",
        "- B - indicates the beginning of an entity.\n",
        "- I - indicates a token is contained inside the same entity (e.g., the State token is a part of an entity like Empire State Building).\n",
        "- 0 - indicates the token doesn’t correspond to any entity."
      ],
      "metadata": {
        "id": "AaSW-6SP1fW7"
      }
    },
    {
      "cell_type": "code",
      "source": [
        "ds[\"train\"].features[\"labels\"]"
      ],
      "metadata": {
        "colab": {
          "base_uri": "https://localhost:8080/"
        },
        "id": "1O3MG7zmIV9c",
        "outputId": "228ba39a-9706-47a7-f6dd-9f07dc22e6a9"
      },
      "execution_count": 5,
      "outputs": [
        {
          "output_type": "execute_result",
          "data": {
            "text/plain": [
              "Sequence(feature=ClassLabel(num_classes=9, names=['O', 'B-PER', 'I-PER', 'B-ORG', 'I-ORG', 'B-LOC', 'I-LOC', 'B-MISC', 'I-MISC'], id=None), length=-1, id=None)"
            ]
          },
          "metadata": {},
          "execution_count": 5
        }
      ]
    },
    {
      "cell_type": "code",
      "source": [
        "ds[\"train\"].features[\"labels\"].feature.names"
      ],
      "metadata": {
        "colab": {
          "base_uri": "https://localhost:8080/"
        },
        "id": "bo0yw1Z6IY3g",
        "outputId": "f559e6ae-345a-4212-c0e9-18868a6b0d70"
      },
      "execution_count": 6,
      "outputs": [
        {
          "output_type": "execute_result",
          "data": {
            "text/plain": [
              "['O', 'B-PER', 'I-PER', 'B-ORG', 'I-ORG', 'B-LOC', 'I-LOC', 'B-MISC', 'I-MISC']"
            ]
          },
          "metadata": {},
          "execution_count": 6
        }
      ]
    },
    {
      "cell_type": "markdown",
      "source": [
        "**Dataset Preview**"
      ],
      "metadata": {
        "id": "eBU-eV3BIug7"
      }
    },
    {
      "cell_type": "code",
      "source": [
        "print(ds[\"train\"][0])\n",
        "print(ds[\"train\"][0][\"words\"])\n",
        "print(ds[\"train\"][0][\"labels\"])"
      ],
      "metadata": {
        "colab": {
          "base_uri": "https://localhost:8080/"
        },
        "id": "M8EkMt2dIs39",
        "outputId": "01dd5031-30e3-44cd-ae24-6d2be863311b"
      },
      "execution_count": 7,
      "outputs": [
        {
          "output_type": "stream",
          "name": "stdout",
          "text": [
            "{'words': ['EU', 'rejects', 'German', 'call', 'to', 'boycott', 'British', 'lamb', '.'], 'labels': [3, 0, 7, 0, 0, 0, 7, 0, 0]}\n",
            "['EU', 'rejects', 'German', 'call', 'to', 'boycott', 'British', 'lamb', '.']\n",
            "[3, 0, 7, 0, 0, 0, 7, 0, 0]\n"
          ]
        }
      ]
    },
    {
      "cell_type": "code",
      "source": [
        "print(ds[\"train\"][3][\"words\"])\n",
        "print(ds[\"train\"][3][\"labels\"])"
      ],
      "metadata": {
        "colab": {
          "base_uri": "https://localhost:8080/"
        },
        "id": "XdRjlYG31CWw",
        "outputId": "29f18027-0cd6-403e-8021-0147c49850cc"
      },
      "execution_count": 8,
      "outputs": [
        {
          "output_type": "stream",
          "name": "stdout",
          "text": [
            "['The', 'European', 'Commission', 'said', 'on', 'Thursday', 'it', 'disagreed', 'with', 'German', 'advice', 'to', 'consumers', 'to', 'shun', 'British', 'lamb', 'until', 'scientists', 'determine', 'whether', 'mad', 'cow', 'disease', 'can', 'be', 'transmitted', 'to', 'sheep', '.']\n",
            "[0, 3, 4, 0, 0, 0, 0, 0, 0, 7, 0, 0, 0, 0, 0, 7, 0, 0, 0, 0, 0, 0, 0, 0, 0, 0, 0, 0, 0, 0]\n"
          ]
        }
      ]
    },
    {
      "cell_type": "markdown",
      "source": [
        "**Data Preperation**\n",
        "\n",
        "We will prepare or format the data so it alligns with input model accepts. We can see the data is a list of list. Each row contains a list of words and list of labels. We won't be able to input it as it is."
      ],
      "metadata": {
        "id": "jQX91V3ozRuK"
      }
    },
    {
      "cell_type": "code",
      "source": [
        "import pandas as pd\n",
        "df_train = pd.DataFrame(ds[\"train\"])\n",
        "df_test = pd.DataFrame(ds[\"test\"])\n",
        "df_valid = pd.DataFrame(ds[\"validation\"])"
      ],
      "metadata": {
        "id": "3ShNFULYz8HA"
      },
      "execution_count": 9,
      "outputs": []
    },
    {
      "cell_type": "code",
      "source": [
        "df_train.head()"
      ],
      "metadata": {
        "colab": {
          "base_uri": "https://localhost:8080/",
          "height": 206
        },
        "id": "11H5o3ac0Q7i",
        "outputId": "f5dd074c-f9e2-4c9f-9889-fa3b11a0e0b6"
      },
      "execution_count": 10,
      "outputs": [
        {
          "output_type": "execute_result",
          "data": {
            "text/plain": [
              "                                               words  \\\n",
              "0  [EU, rejects, German, call, to, boycott, Briti...   \n",
              "1                                 [Peter, Blackburn]   \n",
              "2                             [BRUSSELS, 1996-08-22]   \n",
              "3  [The, European, Commission, said, on, Thursday...   \n",
              "4  [Germany, 's, representative, to, the, Europea...   \n",
              "\n",
              "                                              labels  \n",
              "0                        [3, 0, 7, 0, 0, 0, 7, 0, 0]  \n",
              "1                                             [1, 2]  \n",
              "2                                             [5, 0]  \n",
              "3  [0, 3, 4, 0, 0, 0, 0, 0, 0, 7, 0, 0, 0, 0, 0, ...  \n",
              "4  [5, 0, 0, 0, 0, 3, 4, 0, 0, 0, 1, 2, 0, 0, 0, ...  "
            ],
            "text/html": [
              "\n",
              "  <div id=\"df-05890188-4857-4513-8c65-0311af56e9e7\">\n",
              "    <div class=\"colab-df-container\">\n",
              "      <div>\n",
              "<style scoped>\n",
              "    .dataframe tbody tr th:only-of-type {\n",
              "        vertical-align: middle;\n",
              "    }\n",
              "\n",
              "    .dataframe tbody tr th {\n",
              "        vertical-align: top;\n",
              "    }\n",
              "\n",
              "    .dataframe thead th {\n",
              "        text-align: right;\n",
              "    }\n",
              "</style>\n",
              "<table border=\"1\" class=\"dataframe\">\n",
              "  <thead>\n",
              "    <tr style=\"text-align: right;\">\n",
              "      <th></th>\n",
              "      <th>words</th>\n",
              "      <th>labels</th>\n",
              "    </tr>\n",
              "  </thead>\n",
              "  <tbody>\n",
              "    <tr>\n",
              "      <th>0</th>\n",
              "      <td>[EU, rejects, German, call, to, boycott, Briti...</td>\n",
              "      <td>[3, 0, 7, 0, 0, 0, 7, 0, 0]</td>\n",
              "    </tr>\n",
              "    <tr>\n",
              "      <th>1</th>\n",
              "      <td>[Peter, Blackburn]</td>\n",
              "      <td>[1, 2]</td>\n",
              "    </tr>\n",
              "    <tr>\n",
              "      <th>2</th>\n",
              "      <td>[BRUSSELS, 1996-08-22]</td>\n",
              "      <td>[5, 0]</td>\n",
              "    </tr>\n",
              "    <tr>\n",
              "      <th>3</th>\n",
              "      <td>[The, European, Commission, said, on, Thursday...</td>\n",
              "      <td>[0, 3, 4, 0, 0, 0, 0, 0, 0, 7, 0, 0, 0, 0, 0, ...</td>\n",
              "    </tr>\n",
              "    <tr>\n",
              "      <th>4</th>\n",
              "      <td>[Germany, 's, representative, to, the, Europea...</td>\n",
              "      <td>[5, 0, 0, 0, 0, 3, 4, 0, 0, 0, 1, 2, 0, 0, 0, ...</td>\n",
              "    </tr>\n",
              "  </tbody>\n",
              "</table>\n",
              "</div>\n",
              "      <button class=\"colab-df-convert\" onclick=\"convertToInteractive('df-05890188-4857-4513-8c65-0311af56e9e7')\"\n",
              "              title=\"Convert this dataframe to an interactive table.\"\n",
              "              style=\"display:none;\">\n",
              "        \n",
              "  <svg xmlns=\"http://www.w3.org/2000/svg\" height=\"24px\"viewBox=\"0 0 24 24\"\n",
              "       width=\"24px\">\n",
              "    <path d=\"M0 0h24v24H0V0z\" fill=\"none\"/>\n",
              "    <path d=\"M18.56 5.44l.94 2.06.94-2.06 2.06-.94-2.06-.94-.94-2.06-.94 2.06-2.06.94zm-11 1L8.5 8.5l.94-2.06 2.06-.94-2.06-.94L8.5 2.5l-.94 2.06-2.06.94zm10 10l.94 2.06.94-2.06 2.06-.94-2.06-.94-.94-2.06-.94 2.06-2.06.94z\"/><path d=\"M17.41 7.96l-1.37-1.37c-.4-.4-.92-.59-1.43-.59-.52 0-1.04.2-1.43.59L10.3 9.45l-7.72 7.72c-.78.78-.78 2.05 0 2.83L4 21.41c.39.39.9.59 1.41.59.51 0 1.02-.2 1.41-.59l7.78-7.78 2.81-2.81c.8-.78.8-2.07 0-2.86zM5.41 20L4 18.59l7.72-7.72 1.47 1.35L5.41 20z\"/>\n",
              "  </svg>\n",
              "      </button>\n",
              "      \n",
              "  <style>\n",
              "    .colab-df-container {\n",
              "      display:flex;\n",
              "      flex-wrap:wrap;\n",
              "      gap: 12px;\n",
              "    }\n",
              "\n",
              "    .colab-df-convert {\n",
              "      background-color: #E8F0FE;\n",
              "      border: none;\n",
              "      border-radius: 50%;\n",
              "      cursor: pointer;\n",
              "      display: none;\n",
              "      fill: #1967D2;\n",
              "      height: 32px;\n",
              "      padding: 0 0 0 0;\n",
              "      width: 32px;\n",
              "    }\n",
              "\n",
              "    .colab-df-convert:hover {\n",
              "      background-color: #E2EBFA;\n",
              "      box-shadow: 0px 1px 2px rgba(60, 64, 67, 0.3), 0px 1px 3px 1px rgba(60, 64, 67, 0.15);\n",
              "      fill: #174EA6;\n",
              "    }\n",
              "\n",
              "    [theme=dark] .colab-df-convert {\n",
              "      background-color: #3B4455;\n",
              "      fill: #D2E3FC;\n",
              "    }\n",
              "\n",
              "    [theme=dark] .colab-df-convert:hover {\n",
              "      background-color: #434B5C;\n",
              "      box-shadow: 0px 1px 3px 1px rgba(0, 0, 0, 0.15);\n",
              "      filter: drop-shadow(0px 1px 2px rgba(0, 0, 0, 0.3));\n",
              "      fill: #FFFFFF;\n",
              "    }\n",
              "  </style>\n",
              "\n",
              "      <script>\n",
              "        const buttonEl =\n",
              "          document.querySelector('#df-05890188-4857-4513-8c65-0311af56e9e7 button.colab-df-convert');\n",
              "        buttonEl.style.display =\n",
              "          google.colab.kernel.accessAllowed ? 'block' : 'none';\n",
              "\n",
              "        async function convertToInteractive(key) {\n",
              "          const element = document.querySelector('#df-05890188-4857-4513-8c65-0311af56e9e7');\n",
              "          const dataTable =\n",
              "            await google.colab.kernel.invokeFunction('convertToInteractive',\n",
              "                                                     [key], {});\n",
              "          if (!dataTable) return;\n",
              "\n",
              "          const docLinkHtml = 'Like what you see? Visit the ' +\n",
              "            '<a target=\"_blank\" href=https://colab.research.google.com/notebooks/data_table.ipynb>data table notebook</a>'\n",
              "            + ' to learn more about interactive tables.';\n",
              "          element.innerHTML = '';\n",
              "          dataTable['output_type'] = 'display_data';\n",
              "          await google.colab.output.renderOutput(dataTable, element);\n",
              "          const docLink = document.createElement('div');\n",
              "          docLink.innerHTML = docLinkHtml;\n",
              "          element.appendChild(docLink);\n",
              "        }\n",
              "      </script>\n",
              "    </div>\n",
              "  </div>\n",
              "  "
            ]
          },
          "metadata": {},
          "execution_count": 10
        }
      ]
    },
    {
      "cell_type": "code",
      "source": [
        "df_test.head()"
      ],
      "metadata": {
        "colab": {
          "base_uri": "https://localhost:8080/",
          "height": 206
        },
        "id": "XUGPi79H0ey2",
        "outputId": "44c9b59b-9107-4177-f02a-56852728b681"
      },
      "execution_count": 11,
      "outputs": [
        {
          "output_type": "execute_result",
          "data": {
            "text/plain": [
              "                                               words  \\\n",
              "0  [SOCCER, -, JAPAN, GET, LUCKY, WIN, ,, CHINA, ...   \n",
              "1                                     [Nadim, Ladki]   \n",
              "2    [AL-AIN, ,, United, Arab, Emirates, 1996-12-06]   \n",
              "3  [Japan, began, the, defence, of, their, Asian,...   \n",
              "4  [But, China, saw, their, luck, desert, them, i...   \n",
              "\n",
              "                                              labels  \n",
              "0               [0, 0, 5, 0, 0, 0, 0, 1, 0, 0, 0, 0]  \n",
              "1                                             [1, 2]  \n",
              "2                                 [5, 0, 5, 6, 6, 0]  \n",
              "3  [5, 0, 0, 0, 0, 0, 7, 8, 0, 0, 0, 0, 0, 0, 0, ...  \n",
              "4  [0, 5, 0, 0, 0, 0, 0, 0, 0, 0, 0, 0, 0, 0, 0, ...  "
            ],
            "text/html": [
              "\n",
              "  <div id=\"df-6388e4b4-194c-4d34-91b3-864c8763b76a\">\n",
              "    <div class=\"colab-df-container\">\n",
              "      <div>\n",
              "<style scoped>\n",
              "    .dataframe tbody tr th:only-of-type {\n",
              "        vertical-align: middle;\n",
              "    }\n",
              "\n",
              "    .dataframe tbody tr th {\n",
              "        vertical-align: top;\n",
              "    }\n",
              "\n",
              "    .dataframe thead th {\n",
              "        text-align: right;\n",
              "    }\n",
              "</style>\n",
              "<table border=\"1\" class=\"dataframe\">\n",
              "  <thead>\n",
              "    <tr style=\"text-align: right;\">\n",
              "      <th></th>\n",
              "      <th>words</th>\n",
              "      <th>labels</th>\n",
              "    </tr>\n",
              "  </thead>\n",
              "  <tbody>\n",
              "    <tr>\n",
              "      <th>0</th>\n",
              "      <td>[SOCCER, -, JAPAN, GET, LUCKY, WIN, ,, CHINA, ...</td>\n",
              "      <td>[0, 0, 5, 0, 0, 0, 0, 1, 0, 0, 0, 0]</td>\n",
              "    </tr>\n",
              "    <tr>\n",
              "      <th>1</th>\n",
              "      <td>[Nadim, Ladki]</td>\n",
              "      <td>[1, 2]</td>\n",
              "    </tr>\n",
              "    <tr>\n",
              "      <th>2</th>\n",
              "      <td>[AL-AIN, ,, United, Arab, Emirates, 1996-12-06]</td>\n",
              "      <td>[5, 0, 5, 6, 6, 0]</td>\n",
              "    </tr>\n",
              "    <tr>\n",
              "      <th>3</th>\n",
              "      <td>[Japan, began, the, defence, of, their, Asian,...</td>\n",
              "      <td>[5, 0, 0, 0, 0, 0, 7, 8, 0, 0, 0, 0, 0, 0, 0, ...</td>\n",
              "    </tr>\n",
              "    <tr>\n",
              "      <th>4</th>\n",
              "      <td>[But, China, saw, their, luck, desert, them, i...</td>\n",
              "      <td>[0, 5, 0, 0, 0, 0, 0, 0, 0, 0, 0, 0, 0, 0, 0, ...</td>\n",
              "    </tr>\n",
              "  </tbody>\n",
              "</table>\n",
              "</div>\n",
              "      <button class=\"colab-df-convert\" onclick=\"convertToInteractive('df-6388e4b4-194c-4d34-91b3-864c8763b76a')\"\n",
              "              title=\"Convert this dataframe to an interactive table.\"\n",
              "              style=\"display:none;\">\n",
              "        \n",
              "  <svg xmlns=\"http://www.w3.org/2000/svg\" height=\"24px\"viewBox=\"0 0 24 24\"\n",
              "       width=\"24px\">\n",
              "    <path d=\"M0 0h24v24H0V0z\" fill=\"none\"/>\n",
              "    <path d=\"M18.56 5.44l.94 2.06.94-2.06 2.06-.94-2.06-.94-.94-2.06-.94 2.06-2.06.94zm-11 1L8.5 8.5l.94-2.06 2.06-.94-2.06-.94L8.5 2.5l-.94 2.06-2.06.94zm10 10l.94 2.06.94-2.06 2.06-.94-2.06-.94-.94-2.06-.94 2.06-2.06.94z\"/><path d=\"M17.41 7.96l-1.37-1.37c-.4-.4-.92-.59-1.43-.59-.52 0-1.04.2-1.43.59L10.3 9.45l-7.72 7.72c-.78.78-.78 2.05 0 2.83L4 21.41c.39.39.9.59 1.41.59.51 0 1.02-.2 1.41-.59l7.78-7.78 2.81-2.81c.8-.78.8-2.07 0-2.86zM5.41 20L4 18.59l7.72-7.72 1.47 1.35L5.41 20z\"/>\n",
              "  </svg>\n",
              "      </button>\n",
              "      \n",
              "  <style>\n",
              "    .colab-df-container {\n",
              "      display:flex;\n",
              "      flex-wrap:wrap;\n",
              "      gap: 12px;\n",
              "    }\n",
              "\n",
              "    .colab-df-convert {\n",
              "      background-color: #E8F0FE;\n",
              "      border: none;\n",
              "      border-radius: 50%;\n",
              "      cursor: pointer;\n",
              "      display: none;\n",
              "      fill: #1967D2;\n",
              "      height: 32px;\n",
              "      padding: 0 0 0 0;\n",
              "      width: 32px;\n",
              "    }\n",
              "\n",
              "    .colab-df-convert:hover {\n",
              "      background-color: #E2EBFA;\n",
              "      box-shadow: 0px 1px 2px rgba(60, 64, 67, 0.3), 0px 1px 3px 1px rgba(60, 64, 67, 0.15);\n",
              "      fill: #174EA6;\n",
              "    }\n",
              "\n",
              "    [theme=dark] .colab-df-convert {\n",
              "      background-color: #3B4455;\n",
              "      fill: #D2E3FC;\n",
              "    }\n",
              "\n",
              "    [theme=dark] .colab-df-convert:hover {\n",
              "      background-color: #434B5C;\n",
              "      box-shadow: 0px 1px 3px 1px rgba(0, 0, 0, 0.15);\n",
              "      filter: drop-shadow(0px 1px 2px rgba(0, 0, 0, 0.3));\n",
              "      fill: #FFFFFF;\n",
              "    }\n",
              "  </style>\n",
              "\n",
              "      <script>\n",
              "        const buttonEl =\n",
              "          document.querySelector('#df-6388e4b4-194c-4d34-91b3-864c8763b76a button.colab-df-convert');\n",
              "        buttonEl.style.display =\n",
              "          google.colab.kernel.accessAllowed ? 'block' : 'none';\n",
              "\n",
              "        async function convertToInteractive(key) {\n",
              "          const element = document.querySelector('#df-6388e4b4-194c-4d34-91b3-864c8763b76a');\n",
              "          const dataTable =\n",
              "            await google.colab.kernel.invokeFunction('convertToInteractive',\n",
              "                                                     [key], {});\n",
              "          if (!dataTable) return;\n",
              "\n",
              "          const docLinkHtml = 'Like what you see? Visit the ' +\n",
              "            '<a target=\"_blank\" href=https://colab.research.google.com/notebooks/data_table.ipynb>data table notebook</a>'\n",
              "            + ' to learn more about interactive tables.';\n",
              "          element.innerHTML = '';\n",
              "          dataTable['output_type'] = 'display_data';\n",
              "          await google.colab.output.renderOutput(dataTable, element);\n",
              "          const docLink = document.createElement('div');\n",
              "          docLink.innerHTML = docLinkHtml;\n",
              "          element.appendChild(docLink);\n",
              "        }\n",
              "      </script>\n",
              "    </div>\n",
              "  </div>\n",
              "  "
            ]
          },
          "metadata": {},
          "execution_count": 11
        }
      ]
    },
    {
      "cell_type": "code",
      "source": [
        "df_valid.head()"
      ],
      "metadata": {
        "colab": {
          "base_uri": "https://localhost:8080/",
          "height": 206
        },
        "id": "mGQPErAv0gMz",
        "outputId": "49d40405-e360-4828-b13a-da8334c5f18e"
      },
      "execution_count": 12,
      "outputs": [
        {
          "output_type": "execute_result",
          "data": {
            "text/plain": [
              "                                               words  \\\n",
              "0  [CRICKET, -, LEICESTERSHIRE, TAKE, OVER, AT, T...   \n",
              "1                               [LONDON, 1996-08-30]   \n",
              "2  [West, Indian, all-rounder, Phil, Simmons, too...   \n",
              "3  [Their, stay, on, top, ,, though, ,, may, be, ...   \n",
              "4  [After, bowling, Somerset, out, for, 83, on, t...   \n",
              "\n",
              "                                              labels  \n",
              "0                  [0, 0, 3, 0, 0, 0, 0, 0, 0, 0, 0]  \n",
              "1                                             [5, 0]  \n",
              "2  [7, 8, 0, 1, 2, 0, 0, 0, 0, 0, 0, 0, 3, 0, 3, ...  \n",
              "3  [0, 0, 0, 0, 0, 0, 0, 0, 0, 0, 0, 0, 0, 3, 0, ...  \n",
              "4  [0, 0, 3, 0, 0, 0, 0, 0, 0, 0, 0, 5, 6, 0, 3, ...  "
            ],
            "text/html": [
              "\n",
              "  <div id=\"df-1748369e-8ed2-44ae-98dd-175d64b0e778\">\n",
              "    <div class=\"colab-df-container\">\n",
              "      <div>\n",
              "<style scoped>\n",
              "    .dataframe tbody tr th:only-of-type {\n",
              "        vertical-align: middle;\n",
              "    }\n",
              "\n",
              "    .dataframe tbody tr th {\n",
              "        vertical-align: top;\n",
              "    }\n",
              "\n",
              "    .dataframe thead th {\n",
              "        text-align: right;\n",
              "    }\n",
              "</style>\n",
              "<table border=\"1\" class=\"dataframe\">\n",
              "  <thead>\n",
              "    <tr style=\"text-align: right;\">\n",
              "      <th></th>\n",
              "      <th>words</th>\n",
              "      <th>labels</th>\n",
              "    </tr>\n",
              "  </thead>\n",
              "  <tbody>\n",
              "    <tr>\n",
              "      <th>0</th>\n",
              "      <td>[CRICKET, -, LEICESTERSHIRE, TAKE, OVER, AT, T...</td>\n",
              "      <td>[0, 0, 3, 0, 0, 0, 0, 0, 0, 0, 0]</td>\n",
              "    </tr>\n",
              "    <tr>\n",
              "      <th>1</th>\n",
              "      <td>[LONDON, 1996-08-30]</td>\n",
              "      <td>[5, 0]</td>\n",
              "    </tr>\n",
              "    <tr>\n",
              "      <th>2</th>\n",
              "      <td>[West, Indian, all-rounder, Phil, Simmons, too...</td>\n",
              "      <td>[7, 8, 0, 1, 2, 0, 0, 0, 0, 0, 0, 0, 3, 0, 3, ...</td>\n",
              "    </tr>\n",
              "    <tr>\n",
              "      <th>3</th>\n",
              "      <td>[Their, stay, on, top, ,, though, ,, may, be, ...</td>\n",
              "      <td>[0, 0, 0, 0, 0, 0, 0, 0, 0, 0, 0, 0, 0, 3, 0, ...</td>\n",
              "    </tr>\n",
              "    <tr>\n",
              "      <th>4</th>\n",
              "      <td>[After, bowling, Somerset, out, for, 83, on, t...</td>\n",
              "      <td>[0, 0, 3, 0, 0, 0, 0, 0, 0, 0, 0, 5, 6, 0, 3, ...</td>\n",
              "    </tr>\n",
              "  </tbody>\n",
              "</table>\n",
              "</div>\n",
              "      <button class=\"colab-df-convert\" onclick=\"convertToInteractive('df-1748369e-8ed2-44ae-98dd-175d64b0e778')\"\n",
              "              title=\"Convert this dataframe to an interactive table.\"\n",
              "              style=\"display:none;\">\n",
              "        \n",
              "  <svg xmlns=\"http://www.w3.org/2000/svg\" height=\"24px\"viewBox=\"0 0 24 24\"\n",
              "       width=\"24px\">\n",
              "    <path d=\"M0 0h24v24H0V0z\" fill=\"none\"/>\n",
              "    <path d=\"M18.56 5.44l.94 2.06.94-2.06 2.06-.94-2.06-.94-.94-2.06-.94 2.06-2.06.94zm-11 1L8.5 8.5l.94-2.06 2.06-.94-2.06-.94L8.5 2.5l-.94 2.06-2.06.94zm10 10l.94 2.06.94-2.06 2.06-.94-2.06-.94-.94-2.06-.94 2.06-2.06.94z\"/><path d=\"M17.41 7.96l-1.37-1.37c-.4-.4-.92-.59-1.43-.59-.52 0-1.04.2-1.43.59L10.3 9.45l-7.72 7.72c-.78.78-.78 2.05 0 2.83L4 21.41c.39.39.9.59 1.41.59.51 0 1.02-.2 1.41-.59l7.78-7.78 2.81-2.81c.8-.78.8-2.07 0-2.86zM5.41 20L4 18.59l7.72-7.72 1.47 1.35L5.41 20z\"/>\n",
              "  </svg>\n",
              "      </button>\n",
              "      \n",
              "  <style>\n",
              "    .colab-df-container {\n",
              "      display:flex;\n",
              "      flex-wrap:wrap;\n",
              "      gap: 12px;\n",
              "    }\n",
              "\n",
              "    .colab-df-convert {\n",
              "      background-color: #E8F0FE;\n",
              "      border: none;\n",
              "      border-radius: 50%;\n",
              "      cursor: pointer;\n",
              "      display: none;\n",
              "      fill: #1967D2;\n",
              "      height: 32px;\n",
              "      padding: 0 0 0 0;\n",
              "      width: 32px;\n",
              "    }\n",
              "\n",
              "    .colab-df-convert:hover {\n",
              "      background-color: #E2EBFA;\n",
              "      box-shadow: 0px 1px 2px rgba(60, 64, 67, 0.3), 0px 1px 3px 1px rgba(60, 64, 67, 0.15);\n",
              "      fill: #174EA6;\n",
              "    }\n",
              "\n",
              "    [theme=dark] .colab-df-convert {\n",
              "      background-color: #3B4455;\n",
              "      fill: #D2E3FC;\n",
              "    }\n",
              "\n",
              "    [theme=dark] .colab-df-convert:hover {\n",
              "      background-color: #434B5C;\n",
              "      box-shadow: 0px 1px 3px 1px rgba(0, 0, 0, 0.15);\n",
              "      filter: drop-shadow(0px 1px 2px rgba(0, 0, 0, 0.3));\n",
              "      fill: #FFFFFF;\n",
              "    }\n",
              "  </style>\n",
              "\n",
              "      <script>\n",
              "        const buttonEl =\n",
              "          document.querySelector('#df-1748369e-8ed2-44ae-98dd-175d64b0e778 button.colab-df-convert');\n",
              "        buttonEl.style.display =\n",
              "          google.colab.kernel.accessAllowed ? 'block' : 'none';\n",
              "\n",
              "        async function convertToInteractive(key) {\n",
              "          const element = document.querySelector('#df-1748369e-8ed2-44ae-98dd-175d64b0e778');\n",
              "          const dataTable =\n",
              "            await google.colab.kernel.invokeFunction('convertToInteractive',\n",
              "                                                     [key], {});\n",
              "          if (!dataTable) return;\n",
              "\n",
              "          const docLinkHtml = 'Like what you see? Visit the ' +\n",
              "            '<a target=\"_blank\" href=https://colab.research.google.com/notebooks/data_table.ipynb>data table notebook</a>'\n",
              "            + ' to learn more about interactive tables.';\n",
              "          element.innerHTML = '';\n",
              "          dataTable['output_type'] = 'display_data';\n",
              "          await google.colab.output.renderOutput(dataTable, element);\n",
              "          const docLink = document.createElement('div');\n",
              "          docLink.innerHTML = docLinkHtml;\n",
              "          element.appendChild(docLink);\n",
              "        }\n",
              "      </script>\n",
              "    </div>\n",
              "  </div>\n",
              "  "
            ]
          },
          "metadata": {},
          "execution_count": 12
        }
      ]
    },
    {
      "cell_type": "markdown",
      "source": [
        "Align word and labels."
      ],
      "metadata": {
        "id": "D5LTST2zMnZq"
      }
    },
    {
      "cell_type": "code",
      "source": [
        "def align_words_with_labels(df):\n",
        "  word, label = [], []\n",
        "\n",
        "  for i in range(df.shape[0]):\n",
        "    for j in range(len(df[\"words\"][i])):\n",
        "       word.append(df[\"words\"][i][j])\n",
        "       label.append(df[\"labels\"][i][j])\n",
        "\n",
        "  return pd.DataFrame({\"word\": word, \"label\": label})"
      ],
      "metadata": {
        "id": "m7J_VpnK2aTe"
      },
      "execution_count": 13,
      "outputs": []
    },
    {
      "cell_type": "code",
      "source": [
        "df_train = align_words_with_labels(df_train)\n",
        "df_test = align_words_with_labels(df_test)\n",
        "df_valid = align_words_with_labels(df_valid)"
      ],
      "metadata": {
        "id": "e9RR0OteCj7Y"
      },
      "execution_count": 14,
      "outputs": []
    },
    {
      "cell_type": "code",
      "source": [
        "df_train.head()"
      ],
      "metadata": {
        "colab": {
          "base_uri": "https://localhost:8080/",
          "height": 206
        },
        "id": "zI4epHUtCY9H",
        "outputId": "c3077af0-501b-4009-b520-3aeac68deb0e"
      },
      "execution_count": 15,
      "outputs": [
        {
          "output_type": "execute_result",
          "data": {
            "text/plain": [
              "      word  label\n",
              "0       EU      3\n",
              "1  rejects      0\n",
              "2   German      7\n",
              "3     call      0\n",
              "4       to      0"
            ],
            "text/html": [
              "\n",
              "  <div id=\"df-298dce2d-44b0-4d5f-bcb2-ef7b0ad2c756\">\n",
              "    <div class=\"colab-df-container\">\n",
              "      <div>\n",
              "<style scoped>\n",
              "    .dataframe tbody tr th:only-of-type {\n",
              "        vertical-align: middle;\n",
              "    }\n",
              "\n",
              "    .dataframe tbody tr th {\n",
              "        vertical-align: top;\n",
              "    }\n",
              "\n",
              "    .dataframe thead th {\n",
              "        text-align: right;\n",
              "    }\n",
              "</style>\n",
              "<table border=\"1\" class=\"dataframe\">\n",
              "  <thead>\n",
              "    <tr style=\"text-align: right;\">\n",
              "      <th></th>\n",
              "      <th>word</th>\n",
              "      <th>label</th>\n",
              "    </tr>\n",
              "  </thead>\n",
              "  <tbody>\n",
              "    <tr>\n",
              "      <th>0</th>\n",
              "      <td>EU</td>\n",
              "      <td>3</td>\n",
              "    </tr>\n",
              "    <tr>\n",
              "      <th>1</th>\n",
              "      <td>rejects</td>\n",
              "      <td>0</td>\n",
              "    </tr>\n",
              "    <tr>\n",
              "      <th>2</th>\n",
              "      <td>German</td>\n",
              "      <td>7</td>\n",
              "    </tr>\n",
              "    <tr>\n",
              "      <th>3</th>\n",
              "      <td>call</td>\n",
              "      <td>0</td>\n",
              "    </tr>\n",
              "    <tr>\n",
              "      <th>4</th>\n",
              "      <td>to</td>\n",
              "      <td>0</td>\n",
              "    </tr>\n",
              "  </tbody>\n",
              "</table>\n",
              "</div>\n",
              "      <button class=\"colab-df-convert\" onclick=\"convertToInteractive('df-298dce2d-44b0-4d5f-bcb2-ef7b0ad2c756')\"\n",
              "              title=\"Convert this dataframe to an interactive table.\"\n",
              "              style=\"display:none;\">\n",
              "        \n",
              "  <svg xmlns=\"http://www.w3.org/2000/svg\" height=\"24px\"viewBox=\"0 0 24 24\"\n",
              "       width=\"24px\">\n",
              "    <path d=\"M0 0h24v24H0V0z\" fill=\"none\"/>\n",
              "    <path d=\"M18.56 5.44l.94 2.06.94-2.06 2.06-.94-2.06-.94-.94-2.06-.94 2.06-2.06.94zm-11 1L8.5 8.5l.94-2.06 2.06-.94-2.06-.94L8.5 2.5l-.94 2.06-2.06.94zm10 10l.94 2.06.94-2.06 2.06-.94-2.06-.94-.94-2.06-.94 2.06-2.06.94z\"/><path d=\"M17.41 7.96l-1.37-1.37c-.4-.4-.92-.59-1.43-.59-.52 0-1.04.2-1.43.59L10.3 9.45l-7.72 7.72c-.78.78-.78 2.05 0 2.83L4 21.41c.39.39.9.59 1.41.59.51 0 1.02-.2 1.41-.59l7.78-7.78 2.81-2.81c.8-.78.8-2.07 0-2.86zM5.41 20L4 18.59l7.72-7.72 1.47 1.35L5.41 20z\"/>\n",
              "  </svg>\n",
              "      </button>\n",
              "      \n",
              "  <style>\n",
              "    .colab-df-container {\n",
              "      display:flex;\n",
              "      flex-wrap:wrap;\n",
              "      gap: 12px;\n",
              "    }\n",
              "\n",
              "    .colab-df-convert {\n",
              "      background-color: #E8F0FE;\n",
              "      border: none;\n",
              "      border-radius: 50%;\n",
              "      cursor: pointer;\n",
              "      display: none;\n",
              "      fill: #1967D2;\n",
              "      height: 32px;\n",
              "      padding: 0 0 0 0;\n",
              "      width: 32px;\n",
              "    }\n",
              "\n",
              "    .colab-df-convert:hover {\n",
              "      background-color: #E2EBFA;\n",
              "      box-shadow: 0px 1px 2px rgba(60, 64, 67, 0.3), 0px 1px 3px 1px rgba(60, 64, 67, 0.15);\n",
              "      fill: #174EA6;\n",
              "    }\n",
              "\n",
              "    [theme=dark] .colab-df-convert {\n",
              "      background-color: #3B4455;\n",
              "      fill: #D2E3FC;\n",
              "    }\n",
              "\n",
              "    [theme=dark] .colab-df-convert:hover {\n",
              "      background-color: #434B5C;\n",
              "      box-shadow: 0px 1px 3px 1px rgba(0, 0, 0, 0.15);\n",
              "      filter: drop-shadow(0px 1px 2px rgba(0, 0, 0, 0.3));\n",
              "      fill: #FFFFFF;\n",
              "    }\n",
              "  </style>\n",
              "\n",
              "      <script>\n",
              "        const buttonEl =\n",
              "          document.querySelector('#df-298dce2d-44b0-4d5f-bcb2-ef7b0ad2c756 button.colab-df-convert');\n",
              "        buttonEl.style.display =\n",
              "          google.colab.kernel.accessAllowed ? 'block' : 'none';\n",
              "\n",
              "        async function convertToInteractive(key) {\n",
              "          const element = document.querySelector('#df-298dce2d-44b0-4d5f-bcb2-ef7b0ad2c756');\n",
              "          const dataTable =\n",
              "            await google.colab.kernel.invokeFunction('convertToInteractive',\n",
              "                                                     [key], {});\n",
              "          if (!dataTable) return;\n",
              "\n",
              "          const docLinkHtml = 'Like what you see? Visit the ' +\n",
              "            '<a target=\"_blank\" href=https://colab.research.google.com/notebooks/data_table.ipynb>data table notebook</a>'\n",
              "            + ' to learn more about interactive tables.';\n",
              "          element.innerHTML = '';\n",
              "          dataTable['output_type'] = 'display_data';\n",
              "          await google.colab.output.renderOutput(dataTable, element);\n",
              "          const docLink = document.createElement('div');\n",
              "          docLink.innerHTML = docLinkHtml;\n",
              "          element.appendChild(docLink);\n",
              "        }\n",
              "      </script>\n",
              "    </div>\n",
              "  </div>\n",
              "  "
            ]
          },
          "metadata": {},
          "execution_count": 15
        }
      ]
    },
    {
      "cell_type": "code",
      "source": [
        "df_test.head()"
      ],
      "metadata": {
        "colab": {
          "base_uri": "https://localhost:8080/",
          "height": 206
        },
        "id": "vAJTq8zaCnxf",
        "outputId": "a4fd4eb6-bfdb-4d05-f149-bf83ebde300f"
      },
      "execution_count": 16,
      "outputs": [
        {
          "output_type": "execute_result",
          "data": {
            "text/plain": [
              "     word  label\n",
              "0  SOCCER      0\n",
              "1       -      0\n",
              "2   JAPAN      5\n",
              "3     GET      0\n",
              "4   LUCKY      0"
            ],
            "text/html": [
              "\n",
              "  <div id=\"df-cb3f071c-05ff-411e-9127-ab0a1bb1f41b\">\n",
              "    <div class=\"colab-df-container\">\n",
              "      <div>\n",
              "<style scoped>\n",
              "    .dataframe tbody tr th:only-of-type {\n",
              "        vertical-align: middle;\n",
              "    }\n",
              "\n",
              "    .dataframe tbody tr th {\n",
              "        vertical-align: top;\n",
              "    }\n",
              "\n",
              "    .dataframe thead th {\n",
              "        text-align: right;\n",
              "    }\n",
              "</style>\n",
              "<table border=\"1\" class=\"dataframe\">\n",
              "  <thead>\n",
              "    <tr style=\"text-align: right;\">\n",
              "      <th></th>\n",
              "      <th>word</th>\n",
              "      <th>label</th>\n",
              "    </tr>\n",
              "  </thead>\n",
              "  <tbody>\n",
              "    <tr>\n",
              "      <th>0</th>\n",
              "      <td>SOCCER</td>\n",
              "      <td>0</td>\n",
              "    </tr>\n",
              "    <tr>\n",
              "      <th>1</th>\n",
              "      <td>-</td>\n",
              "      <td>0</td>\n",
              "    </tr>\n",
              "    <tr>\n",
              "      <th>2</th>\n",
              "      <td>JAPAN</td>\n",
              "      <td>5</td>\n",
              "    </tr>\n",
              "    <tr>\n",
              "      <th>3</th>\n",
              "      <td>GET</td>\n",
              "      <td>0</td>\n",
              "    </tr>\n",
              "    <tr>\n",
              "      <th>4</th>\n",
              "      <td>LUCKY</td>\n",
              "      <td>0</td>\n",
              "    </tr>\n",
              "  </tbody>\n",
              "</table>\n",
              "</div>\n",
              "      <button class=\"colab-df-convert\" onclick=\"convertToInteractive('df-cb3f071c-05ff-411e-9127-ab0a1bb1f41b')\"\n",
              "              title=\"Convert this dataframe to an interactive table.\"\n",
              "              style=\"display:none;\">\n",
              "        \n",
              "  <svg xmlns=\"http://www.w3.org/2000/svg\" height=\"24px\"viewBox=\"0 0 24 24\"\n",
              "       width=\"24px\">\n",
              "    <path d=\"M0 0h24v24H0V0z\" fill=\"none\"/>\n",
              "    <path d=\"M18.56 5.44l.94 2.06.94-2.06 2.06-.94-2.06-.94-.94-2.06-.94 2.06-2.06.94zm-11 1L8.5 8.5l.94-2.06 2.06-.94-2.06-.94L8.5 2.5l-.94 2.06-2.06.94zm10 10l.94 2.06.94-2.06 2.06-.94-2.06-.94-.94-2.06-.94 2.06-2.06.94z\"/><path d=\"M17.41 7.96l-1.37-1.37c-.4-.4-.92-.59-1.43-.59-.52 0-1.04.2-1.43.59L10.3 9.45l-7.72 7.72c-.78.78-.78 2.05 0 2.83L4 21.41c.39.39.9.59 1.41.59.51 0 1.02-.2 1.41-.59l7.78-7.78 2.81-2.81c.8-.78.8-2.07 0-2.86zM5.41 20L4 18.59l7.72-7.72 1.47 1.35L5.41 20z\"/>\n",
              "  </svg>\n",
              "      </button>\n",
              "      \n",
              "  <style>\n",
              "    .colab-df-container {\n",
              "      display:flex;\n",
              "      flex-wrap:wrap;\n",
              "      gap: 12px;\n",
              "    }\n",
              "\n",
              "    .colab-df-convert {\n",
              "      background-color: #E8F0FE;\n",
              "      border: none;\n",
              "      border-radius: 50%;\n",
              "      cursor: pointer;\n",
              "      display: none;\n",
              "      fill: #1967D2;\n",
              "      height: 32px;\n",
              "      padding: 0 0 0 0;\n",
              "      width: 32px;\n",
              "    }\n",
              "\n",
              "    .colab-df-convert:hover {\n",
              "      background-color: #E2EBFA;\n",
              "      box-shadow: 0px 1px 2px rgba(60, 64, 67, 0.3), 0px 1px 3px 1px rgba(60, 64, 67, 0.15);\n",
              "      fill: #174EA6;\n",
              "    }\n",
              "\n",
              "    [theme=dark] .colab-df-convert {\n",
              "      background-color: #3B4455;\n",
              "      fill: #D2E3FC;\n",
              "    }\n",
              "\n",
              "    [theme=dark] .colab-df-convert:hover {\n",
              "      background-color: #434B5C;\n",
              "      box-shadow: 0px 1px 3px 1px rgba(0, 0, 0, 0.15);\n",
              "      filter: drop-shadow(0px 1px 2px rgba(0, 0, 0, 0.3));\n",
              "      fill: #FFFFFF;\n",
              "    }\n",
              "  </style>\n",
              "\n",
              "      <script>\n",
              "        const buttonEl =\n",
              "          document.querySelector('#df-cb3f071c-05ff-411e-9127-ab0a1bb1f41b button.colab-df-convert');\n",
              "        buttonEl.style.display =\n",
              "          google.colab.kernel.accessAllowed ? 'block' : 'none';\n",
              "\n",
              "        async function convertToInteractive(key) {\n",
              "          const element = document.querySelector('#df-cb3f071c-05ff-411e-9127-ab0a1bb1f41b');\n",
              "          const dataTable =\n",
              "            await google.colab.kernel.invokeFunction('convertToInteractive',\n",
              "                                                     [key], {});\n",
              "          if (!dataTable) return;\n",
              "\n",
              "          const docLinkHtml = 'Like what you see? Visit the ' +\n",
              "            '<a target=\"_blank\" href=https://colab.research.google.com/notebooks/data_table.ipynb>data table notebook</a>'\n",
              "            + ' to learn more about interactive tables.';\n",
              "          element.innerHTML = '';\n",
              "          dataTable['output_type'] = 'display_data';\n",
              "          await google.colab.output.renderOutput(dataTable, element);\n",
              "          const docLink = document.createElement('div');\n",
              "          docLink.innerHTML = docLinkHtml;\n",
              "          element.appendChild(docLink);\n",
              "        }\n",
              "      </script>\n",
              "    </div>\n",
              "  </div>\n",
              "  "
            ]
          },
          "metadata": {},
          "execution_count": 16
        }
      ]
    },
    {
      "cell_type": "code",
      "source": [
        "df_valid.head()"
      ],
      "metadata": {
        "colab": {
          "base_uri": "https://localhost:8080/",
          "height": 206
        },
        "id": "nkBjbR3RCqZz",
        "outputId": "8e49d084-7f4d-41e8-f2ed-4f310666bc83"
      },
      "execution_count": 17,
      "outputs": [
        {
          "output_type": "execute_result",
          "data": {
            "text/plain": [
              "             word  label\n",
              "0         CRICKET      0\n",
              "1               -      0\n",
              "2  LEICESTERSHIRE      3\n",
              "3            TAKE      0\n",
              "4            OVER      0"
            ],
            "text/html": [
              "\n",
              "  <div id=\"df-b887df85-2ed3-48bb-b22c-9c29794dcfcd\">\n",
              "    <div class=\"colab-df-container\">\n",
              "      <div>\n",
              "<style scoped>\n",
              "    .dataframe tbody tr th:only-of-type {\n",
              "        vertical-align: middle;\n",
              "    }\n",
              "\n",
              "    .dataframe tbody tr th {\n",
              "        vertical-align: top;\n",
              "    }\n",
              "\n",
              "    .dataframe thead th {\n",
              "        text-align: right;\n",
              "    }\n",
              "</style>\n",
              "<table border=\"1\" class=\"dataframe\">\n",
              "  <thead>\n",
              "    <tr style=\"text-align: right;\">\n",
              "      <th></th>\n",
              "      <th>word</th>\n",
              "      <th>label</th>\n",
              "    </tr>\n",
              "  </thead>\n",
              "  <tbody>\n",
              "    <tr>\n",
              "      <th>0</th>\n",
              "      <td>CRICKET</td>\n",
              "      <td>0</td>\n",
              "    </tr>\n",
              "    <tr>\n",
              "      <th>1</th>\n",
              "      <td>-</td>\n",
              "      <td>0</td>\n",
              "    </tr>\n",
              "    <tr>\n",
              "      <th>2</th>\n",
              "      <td>LEICESTERSHIRE</td>\n",
              "      <td>3</td>\n",
              "    </tr>\n",
              "    <tr>\n",
              "      <th>3</th>\n",
              "      <td>TAKE</td>\n",
              "      <td>0</td>\n",
              "    </tr>\n",
              "    <tr>\n",
              "      <th>4</th>\n",
              "      <td>OVER</td>\n",
              "      <td>0</td>\n",
              "    </tr>\n",
              "  </tbody>\n",
              "</table>\n",
              "</div>\n",
              "      <button class=\"colab-df-convert\" onclick=\"convertToInteractive('df-b887df85-2ed3-48bb-b22c-9c29794dcfcd')\"\n",
              "              title=\"Convert this dataframe to an interactive table.\"\n",
              "              style=\"display:none;\">\n",
              "        \n",
              "  <svg xmlns=\"http://www.w3.org/2000/svg\" height=\"24px\"viewBox=\"0 0 24 24\"\n",
              "       width=\"24px\">\n",
              "    <path d=\"M0 0h24v24H0V0z\" fill=\"none\"/>\n",
              "    <path d=\"M18.56 5.44l.94 2.06.94-2.06 2.06-.94-2.06-.94-.94-2.06-.94 2.06-2.06.94zm-11 1L8.5 8.5l.94-2.06 2.06-.94-2.06-.94L8.5 2.5l-.94 2.06-2.06.94zm10 10l.94 2.06.94-2.06 2.06-.94-2.06-.94-.94-2.06-.94 2.06-2.06.94z\"/><path d=\"M17.41 7.96l-1.37-1.37c-.4-.4-.92-.59-1.43-.59-.52 0-1.04.2-1.43.59L10.3 9.45l-7.72 7.72c-.78.78-.78 2.05 0 2.83L4 21.41c.39.39.9.59 1.41.59.51 0 1.02-.2 1.41-.59l7.78-7.78 2.81-2.81c.8-.78.8-2.07 0-2.86zM5.41 20L4 18.59l7.72-7.72 1.47 1.35L5.41 20z\"/>\n",
              "  </svg>\n",
              "      </button>\n",
              "      \n",
              "  <style>\n",
              "    .colab-df-container {\n",
              "      display:flex;\n",
              "      flex-wrap:wrap;\n",
              "      gap: 12px;\n",
              "    }\n",
              "\n",
              "    .colab-df-convert {\n",
              "      background-color: #E8F0FE;\n",
              "      border: none;\n",
              "      border-radius: 50%;\n",
              "      cursor: pointer;\n",
              "      display: none;\n",
              "      fill: #1967D2;\n",
              "      height: 32px;\n",
              "      padding: 0 0 0 0;\n",
              "      width: 32px;\n",
              "    }\n",
              "\n",
              "    .colab-df-convert:hover {\n",
              "      background-color: #E2EBFA;\n",
              "      box-shadow: 0px 1px 2px rgba(60, 64, 67, 0.3), 0px 1px 3px 1px rgba(60, 64, 67, 0.15);\n",
              "      fill: #174EA6;\n",
              "    }\n",
              "\n",
              "    [theme=dark] .colab-df-convert {\n",
              "      background-color: #3B4455;\n",
              "      fill: #D2E3FC;\n",
              "    }\n",
              "\n",
              "    [theme=dark] .colab-df-convert:hover {\n",
              "      background-color: #434B5C;\n",
              "      box-shadow: 0px 1px 3px 1px rgba(0, 0, 0, 0.15);\n",
              "      filter: drop-shadow(0px 1px 2px rgba(0, 0, 0, 0.3));\n",
              "      fill: #FFFFFF;\n",
              "    }\n",
              "  </style>\n",
              "\n",
              "      <script>\n",
              "        const buttonEl =\n",
              "          document.querySelector('#df-b887df85-2ed3-48bb-b22c-9c29794dcfcd button.colab-df-convert');\n",
              "        buttonEl.style.display =\n",
              "          google.colab.kernel.accessAllowed ? 'block' : 'none';\n",
              "\n",
              "        async function convertToInteractive(key) {\n",
              "          const element = document.querySelector('#df-b887df85-2ed3-48bb-b22c-9c29794dcfcd');\n",
              "          const dataTable =\n",
              "            await google.colab.kernel.invokeFunction('convertToInteractive',\n",
              "                                                     [key], {});\n",
              "          if (!dataTable) return;\n",
              "\n",
              "          const docLinkHtml = 'Like what you see? Visit the ' +\n",
              "            '<a target=\"_blank\" href=https://colab.research.google.com/notebooks/data_table.ipynb>data table notebook</a>'\n",
              "            + ' to learn more about interactive tables.';\n",
              "          element.innerHTML = '';\n",
              "          dataTable['output_type'] = 'display_data';\n",
              "          await google.colab.output.renderOutput(dataTable, element);\n",
              "          const docLink = document.createElement('div');\n",
              "          docLink.innerHTML = docLinkHtml;\n",
              "          element.appendChild(docLink);\n",
              "        }\n",
              "      </script>\n",
              "    </div>\n",
              "  </div>\n",
              "  "
            ]
          },
          "metadata": {},
          "execution_count": 17
        }
      ]
    },
    {
      "cell_type": "code",
      "source": [
        "y_train = df_train[\"label\"]\n",
        "x_train = df_train.drop(\"label\", axis=1)\n",
        "y_test = df_test[\"label\"]\n",
        "x_test = df_test.drop(\"label\", axis=1)"
      ],
      "metadata": {
        "id": "PL_VillVMt3_"
      },
      "execution_count": 18,
      "outputs": []
    },
    {
      "cell_type": "markdown",
      "source": [
        "**OHE**"
      ],
      "metadata": {
        "id": "gzqxvRsaNRIN"
      }
    },
    {
      "cell_type": "code",
      "source": [
        "import tensorflow as tf\n",
        "ohe = tf.keras.layers.CategoryEncoding(num_tokens=9, output_mode=\"one_hot\")\n",
        "y_train = ohe(y_train)\n",
        "y_test = ohe(y_test)"
      ],
      "metadata": {
        "id": "LHci3mMFNPpF"
      },
      "execution_count": 19,
      "outputs": []
    },
    {
      "cell_type": "code",
      "source": [
        "x_train"
      ],
      "metadata": {
        "colab": {
          "base_uri": "https://localhost:8080/",
          "height": 424
        },
        "id": "ihlxnkiZw-vY",
        "outputId": "6dba5fd1-0e4b-4b90-e539-899d84f050ad"
      },
      "execution_count": 20,
      "outputs": [
        {
          "output_type": "execute_result",
          "data": {
            "text/plain": [
              "           word\n",
              "0            EU\n",
              "1       rejects\n",
              "2        German\n",
              "3          call\n",
              "4            to\n",
              "...         ...\n",
              "203616    three\n",
              "203617  Swansea\n",
              "203618        1\n",
              "203619  Lincoln\n",
              "203620        2\n",
              "\n",
              "[203621 rows x 1 columns]"
            ],
            "text/html": [
              "\n",
              "  <div id=\"df-6e0574e5-a0dc-40b3-a76b-57603c365a43\">\n",
              "    <div class=\"colab-df-container\">\n",
              "      <div>\n",
              "<style scoped>\n",
              "    .dataframe tbody tr th:only-of-type {\n",
              "        vertical-align: middle;\n",
              "    }\n",
              "\n",
              "    .dataframe tbody tr th {\n",
              "        vertical-align: top;\n",
              "    }\n",
              "\n",
              "    .dataframe thead th {\n",
              "        text-align: right;\n",
              "    }\n",
              "</style>\n",
              "<table border=\"1\" class=\"dataframe\">\n",
              "  <thead>\n",
              "    <tr style=\"text-align: right;\">\n",
              "      <th></th>\n",
              "      <th>word</th>\n",
              "    </tr>\n",
              "  </thead>\n",
              "  <tbody>\n",
              "    <tr>\n",
              "      <th>0</th>\n",
              "      <td>EU</td>\n",
              "    </tr>\n",
              "    <tr>\n",
              "      <th>1</th>\n",
              "      <td>rejects</td>\n",
              "    </tr>\n",
              "    <tr>\n",
              "      <th>2</th>\n",
              "      <td>German</td>\n",
              "    </tr>\n",
              "    <tr>\n",
              "      <th>3</th>\n",
              "      <td>call</td>\n",
              "    </tr>\n",
              "    <tr>\n",
              "      <th>4</th>\n",
              "      <td>to</td>\n",
              "    </tr>\n",
              "    <tr>\n",
              "      <th>...</th>\n",
              "      <td>...</td>\n",
              "    </tr>\n",
              "    <tr>\n",
              "      <th>203616</th>\n",
              "      <td>three</td>\n",
              "    </tr>\n",
              "    <tr>\n",
              "      <th>203617</th>\n",
              "      <td>Swansea</td>\n",
              "    </tr>\n",
              "    <tr>\n",
              "      <th>203618</th>\n",
              "      <td>1</td>\n",
              "    </tr>\n",
              "    <tr>\n",
              "      <th>203619</th>\n",
              "      <td>Lincoln</td>\n",
              "    </tr>\n",
              "    <tr>\n",
              "      <th>203620</th>\n",
              "      <td>2</td>\n",
              "    </tr>\n",
              "  </tbody>\n",
              "</table>\n",
              "<p>203621 rows × 1 columns</p>\n",
              "</div>\n",
              "      <button class=\"colab-df-convert\" onclick=\"convertToInteractive('df-6e0574e5-a0dc-40b3-a76b-57603c365a43')\"\n",
              "              title=\"Convert this dataframe to an interactive table.\"\n",
              "              style=\"display:none;\">\n",
              "        \n",
              "  <svg xmlns=\"http://www.w3.org/2000/svg\" height=\"24px\"viewBox=\"0 0 24 24\"\n",
              "       width=\"24px\">\n",
              "    <path d=\"M0 0h24v24H0V0z\" fill=\"none\"/>\n",
              "    <path d=\"M18.56 5.44l.94 2.06.94-2.06 2.06-.94-2.06-.94-.94-2.06-.94 2.06-2.06.94zm-11 1L8.5 8.5l.94-2.06 2.06-.94-2.06-.94L8.5 2.5l-.94 2.06-2.06.94zm10 10l.94 2.06.94-2.06 2.06-.94-2.06-.94-.94-2.06-.94 2.06-2.06.94z\"/><path d=\"M17.41 7.96l-1.37-1.37c-.4-.4-.92-.59-1.43-.59-.52 0-1.04.2-1.43.59L10.3 9.45l-7.72 7.72c-.78.78-.78 2.05 0 2.83L4 21.41c.39.39.9.59 1.41.59.51 0 1.02-.2 1.41-.59l7.78-7.78 2.81-2.81c.8-.78.8-2.07 0-2.86zM5.41 20L4 18.59l7.72-7.72 1.47 1.35L5.41 20z\"/>\n",
              "  </svg>\n",
              "      </button>\n",
              "      \n",
              "  <style>\n",
              "    .colab-df-container {\n",
              "      display:flex;\n",
              "      flex-wrap:wrap;\n",
              "      gap: 12px;\n",
              "    }\n",
              "\n",
              "    .colab-df-convert {\n",
              "      background-color: #E8F0FE;\n",
              "      border: none;\n",
              "      border-radius: 50%;\n",
              "      cursor: pointer;\n",
              "      display: none;\n",
              "      fill: #1967D2;\n",
              "      height: 32px;\n",
              "      padding: 0 0 0 0;\n",
              "      width: 32px;\n",
              "    }\n",
              "\n",
              "    .colab-df-convert:hover {\n",
              "      background-color: #E2EBFA;\n",
              "      box-shadow: 0px 1px 2px rgba(60, 64, 67, 0.3), 0px 1px 3px 1px rgba(60, 64, 67, 0.15);\n",
              "      fill: #174EA6;\n",
              "    }\n",
              "\n",
              "    [theme=dark] .colab-df-convert {\n",
              "      background-color: #3B4455;\n",
              "      fill: #D2E3FC;\n",
              "    }\n",
              "\n",
              "    [theme=dark] .colab-df-convert:hover {\n",
              "      background-color: #434B5C;\n",
              "      box-shadow: 0px 1px 3px 1px rgba(0, 0, 0, 0.15);\n",
              "      filter: drop-shadow(0px 1px 2px rgba(0, 0, 0, 0.3));\n",
              "      fill: #FFFFFF;\n",
              "    }\n",
              "  </style>\n",
              "\n",
              "      <script>\n",
              "        const buttonEl =\n",
              "          document.querySelector('#df-6e0574e5-a0dc-40b3-a76b-57603c365a43 button.colab-df-convert');\n",
              "        buttonEl.style.display =\n",
              "          google.colab.kernel.accessAllowed ? 'block' : 'none';\n",
              "\n",
              "        async function convertToInteractive(key) {\n",
              "          const element = document.querySelector('#df-6e0574e5-a0dc-40b3-a76b-57603c365a43');\n",
              "          const dataTable =\n",
              "            await google.colab.kernel.invokeFunction('convertToInteractive',\n",
              "                                                     [key], {});\n",
              "          if (!dataTable) return;\n",
              "\n",
              "          const docLinkHtml = 'Like what you see? Visit the ' +\n",
              "            '<a target=\"_blank\" href=https://colab.research.google.com/notebooks/data_table.ipynb>data table notebook</a>'\n",
              "            + ' to learn more about interactive tables.';\n",
              "          element.innerHTML = '';\n",
              "          dataTable['output_type'] = 'display_data';\n",
              "          await google.colab.output.renderOutput(dataTable, element);\n",
              "          const docLink = document.createElement('div');\n",
              "          docLink.innerHTML = docLinkHtml;\n",
              "          element.appendChild(docLink);\n",
              "        }\n",
              "      </script>\n",
              "    </div>\n",
              "  </div>\n",
              "  "
            ]
          },
          "metadata": {},
          "execution_count": 20
        }
      ]
    },
    {
      "cell_type": "code",
      "source": [
        "y_train"
      ],
      "metadata": {
        "colab": {
          "base_uri": "https://localhost:8080/"
        },
        "id": "JKU6BPUcPz-N",
        "outputId": "ed683a92-3b4d-4aaf-9417-39e297425e21"
      },
      "execution_count": 21,
      "outputs": [
        {
          "output_type": "execute_result",
          "data": {
            "text/plain": [
              "<tf.Tensor: shape=(203621, 9), dtype=float32, numpy=\n",
              "array([[0., 0., 0., ..., 0., 0., 0.],\n",
              "       [1., 0., 0., ..., 0., 0., 0.],\n",
              "       [0., 0., 0., ..., 0., 1., 0.],\n",
              "       ...,\n",
              "       [1., 0., 0., ..., 0., 0., 0.],\n",
              "       [0., 0., 0., ..., 0., 0., 0.],\n",
              "       [1., 0., 0., ..., 0., 0., 0.]], dtype=float32)>"
            ]
          },
          "metadata": {},
          "execution_count": 21
        }
      ]
    },
    {
      "cell_type": "markdown",
      "source": [
        "**DistilBERT**"
      ],
      "metadata": {
        "id": "9Vc3xiEm2BS3"
      }
    },
    {
      "cell_type": "code",
      "source": [
        "%pip install -qq tensorflow_hub\n",
        "%pip install -U -qq tensorflow_text"
      ],
      "metadata": {
        "id": "0trJco6f2dpt"
      },
      "execution_count": 22,
      "outputs": []
    },
    {
      "cell_type": "code",
      "source": [
        "import tensorflow_hub as hub\n",
        "import tensorflow_text as text"
      ],
      "metadata": {
        "id": "tSYS1V2ouTG0"
      },
      "execution_count": 23,
      "outputs": []
    },
    {
      "cell_type": "markdown",
      "source": [
        "**Preprocess**"
      ],
      "metadata": {
        "id": "_k3X_MSo18Ue"
      }
    },
    {
      "cell_type": "code",
      "source": [
        "preprocess = hub.KerasLayer(\"https://tfhub.dev/tensorflow/bert_en_uncased_preprocess/3\")"
      ],
      "metadata": {
        "id": "2NmcOM5vZBIa"
      },
      "execution_count": 24,
      "outputs": []
    },
    {
      "cell_type": "code",
      "source": [
        "def pre_process(example):  \n",
        "  return preprocess(example)"
      ],
      "metadata": {
        "id": "dnvn99wm1-VD"
      },
      "execution_count": 25,
      "outputs": []
    },
    {
      "cell_type": "markdown",
      "source": [
        "**Encoder**"
      ],
      "metadata": {
        "id": "1UoY4cqCxOU4"
      }
    },
    {
      "cell_type": "code",
      "source": [
        "encoder = hub.KerasLayer(\"https://tfhub.dev/tensorflow/bert_en_uncased_L-12_H-768_A-12/4\")"
      ],
      "metadata": {
        "id": "_bz2MY_qZE5x"
      },
      "execution_count": 26,
      "outputs": []
    },
    {
      "cell_type": "code",
      "source": [
        "def encode_input(preprocessed_text):  \n",
        "  return encoder(preprocessed_text)"
      ],
      "metadata": {
        "id": "gYpxr0DKxixI"
      },
      "execution_count": 27,
      "outputs": []
    },
    {
      "cell_type": "code",
      "source": [
        "encode_input(pre_process([\"CRICKET\"]))[\"pooled_output\"]"
      ],
      "metadata": {
        "colab": {
          "base_uri": "https://localhost:8080/"
        },
        "id": "osQaU9YBptpA",
        "outputId": "41f8b2ec-4e51-4ade-c832-cf452e92104d"
      },
      "execution_count": 28,
      "outputs": [
        {
          "output_type": "execute_result",
          "data": {
            "text/plain": [
              "<tf.Tensor: shape=(1, 768), dtype=float32, numpy=\n",
              "array([[-0.9202634 , -0.4081796 , -0.26689026,  0.7907773 ,  0.27910265,\n",
              "        -0.08950219,  0.9157419 ,  0.32709357, -0.29746285, -0.9999854 ,\n",
              "        -0.3765394 ,  0.82170415,  0.9844829 , -0.03137241,  0.9173885 ,\n",
              "        -0.6537358 , -0.4616332 , -0.60614085,  0.38942042, -0.69552076,\n",
              "         0.6009073 ,  0.99658763,  0.3378218 ,  0.28896528,  0.42097983,\n",
              "         0.8758676 , -0.7644789 ,  0.92218536,  0.95215267,  0.73875666,\n",
              "        -0.6288637 ,  0.31470966, -0.9883738 , -0.2500967 , -0.17155737,\n",
              "        -0.99193007,  0.40328562, -0.7852355 ,  0.03087386, -0.10034604,\n",
              "        -0.88940805,  0.35170522,  0.9997982 ,  0.1274253 ,  0.16281728,\n",
              "        -0.39053234, -0.99999875,  0.31054923, -0.88385963,  0.45191464,\n",
              "         0.29466778,  0.25107446,  0.14983024,  0.50303644,  0.43993118,\n",
              "         0.12921716,  0.05952719,  0.22110116, -0.23393176, -0.59752756,\n",
              "        -0.56546587,  0.42400056, -0.4159808 , -0.91628456,  0.51859534,\n",
              "        -0.2165075 , -0.126309  , -0.37867597, -0.05841679,  0.05998747,\n",
              "         0.831444  ,  0.25822154,  0.16909665, -0.72957873,  0.01933312,\n",
              "         0.25229535, -0.56493956,  1.        , -0.6255001 , -0.9824799 ,\n",
              "         0.10564417,  0.10518355,  0.44371748,  0.262128  , -0.4449502 ,\n",
              "        -1.        ,  0.4266765 , -0.2055016 , -0.99075085,  0.33801356,\n",
              "         0.5745162 , -0.21333148, -0.532604  ,  0.46507326, -0.18523647,\n",
              "        -0.33460438, -0.29366848, -0.2700425 , -0.30051312, -0.22530961,\n",
              "         0.04229517, -0.21773921, -0.15150565, -0.33768874,  0.24629626,\n",
              "        -0.5200294 , -0.518259  ,  0.2824726 , -0.11533091,  0.6816612 ,\n",
              "         0.31348363, -0.3485786 ,  0.40729484, -0.9679559 ,  0.6619894 ,\n",
              "        -0.30785352, -0.9850601 , -0.50832087, -0.9911606 ,  0.7162122 ,\n",
              "        -0.26677772, -0.25938797,  0.9457991 ,  0.46111548,  0.30607644,\n",
              "        -0.11392064, -0.40756872, -1.        , -0.5591722 , -0.38558406,\n",
              "         0.01207185, -0.2424924 , -0.9828865 , -0.95746875,  0.6259043 ,\n",
              "         0.9476395 ,  0.20654961,  0.9994878 , -0.3261488 ,  0.9375931 ,\n",
              "        -0.02177059, -0.54510796,  0.2800711 , -0.44397396,  0.3954182 ,\n",
              "         0.42840907, -0.7218313 ,  0.28141466, -0.280806  ,  0.05882691,\n",
              "        -0.48951775, -0.3258207 , -0.13848402, -0.9147504 , -0.49248984,\n",
              "         0.93404937, -0.06744834, -0.32083353,  0.5298425 , -0.3168847 ,\n",
              "        -0.4878793 ,  0.8241546 ,  0.50373065,  0.33487436, -0.17732224,\n",
              "         0.47457537, -0.18112458,  0.6179967 , -0.84918433, -0.04631756,\n",
              "         0.4652026 , -0.33236924, -0.12561068, -0.97809577, -0.4424529 ,\n",
              "         0.55882704,  0.98886836,  0.8260391 ,  0.27237648,  0.5968617 ,\n",
              "        -0.18995105,  0.6314712 , -0.94785815,  0.97864926, -0.2538524 ,\n",
              "         0.29402226,  0.37294173, -0.08074342, -0.8896687 , -0.41201058,\n",
              "         0.8763864 , -0.42183128, -0.8507537 , -0.09016942, -0.44463226,\n",
              "        -0.42336568, -0.26065686,  0.68748236, -0.3403977 , -0.43040508,\n",
              "        -0.10664935,  0.8974879 ,  0.9694699 ,  0.79742616, -0.3063597 ,\n",
              "         0.6773693 , -0.93157935, -0.4460509 ,  0.20670548,  0.30466905,\n",
              "         0.15132588,  0.99512637, -0.12684809, -0.22222744, -0.90756726,\n",
              "        -0.9827509 ,  0.13024157, -0.9064006 , -0.10360157, -0.73158205,\n",
              "         0.51077735,  0.5482482 , -0.00763028,  0.40574172, -0.98223364,\n",
              "        -0.7698224 ,  0.41748068, -0.33937198,  0.35447213, -0.2153329 ,\n",
              "         0.28145093,  0.45453656, -0.6210957 ,  0.70771337,  0.8617614 ,\n",
              "        -0.07450551, -0.6956865 ,  0.81861866, -0.25930777,  0.89692014,\n",
              "        -0.6913898 ,  0.9900882 ,  0.54189444,  0.6593084 , -0.94867486,\n",
              "        -0.01395335, -0.91588914, -0.14314795, -0.16069661, -0.6156822 ,\n",
              "         0.38495597,  0.4714751 ,  0.38862878,  0.7650604 , -0.66570556,\n",
              "         0.99646235, -0.21598148, -0.95782626,  0.18159153, -0.09362989,\n",
              "        -0.9872311 ,  0.39916408,  0.36013818, -0.12222832, -0.4674322 ,\n",
              "        -0.55585957, -0.94772965,  0.9108713 ,  0.18673025,  0.98856485,\n",
              "         0.10663652, -0.93052953, -0.48313597, -0.90257674, -0.10269492,\n",
              "        -0.09444623,  0.36591968, -0.07336675, -0.9543287 ,  0.45922238,\n",
              "         0.57891244,  0.52686775,  0.00601637,  0.99801177,  0.9999824 ,\n",
              "         0.9719516 ,  0.8910243 ,  0.9066171 , -0.9908594 , -0.18158093,\n",
              "         0.99999094, -0.92003536, -1.        , -0.9439018 , -0.7099644 ,\n",
              "         0.54352   , -1.        , -0.07300325, -0.03387912, -0.9268762 ,\n",
              "         0.14477174,  0.98098993,  0.9906932 , -1.        ,  0.89481187,\n",
              "         0.93881875, -0.58364534,  0.7747746 , -0.22702566,  0.97740054,\n",
              "         0.3374569 ,  0.39417654, -0.20698507,  0.42944235, -0.5191113 ,\n",
              "        -0.88856876,  0.07870737,  0.14472927,  0.91386473,  0.23893557,\n",
              "        -0.76630235, -0.90725654,  0.13759957, -0.08662095, -0.26512128,\n",
              "        -0.9511421 , -0.1991341 ,  0.10976656,  0.6937175 ,  0.13048439,\n",
              "         0.28322494, -0.7400345 ,  0.31085202, -0.716618  ,  0.41684708,\n",
              "         0.5692687 , -0.94444305, -0.70102435, -0.32009515, -0.16242383,\n",
              "         0.14473666, -0.94281113,  0.966827  , -0.31566802,  0.6773871 ,\n",
              "         1.        ,  0.07038309, -0.90122515,  0.3676018 ,  0.23760965,\n",
              "        -0.25747868,  1.        ,  0.6041924 , -0.9804847 , -0.47999185,\n",
              "         0.2710381 , -0.52541167, -0.47859997,  0.9994297 , -0.20021182,\n",
              "        -0.03441474,  0.1378963 ,  0.98209083, -0.98938644,  0.8566112 ,\n",
              "        -0.91869015, -0.96593666,  0.9612522 ,  0.9300243 , -0.4529383 ,\n",
              "        -0.76996994,  0.19840994,  0.04965479,  0.3687287 , -0.94574577,\n",
              "         0.72225076,  0.58754176, -0.06610511,  0.897501  , -0.89778745,\n",
              "        -0.45005268,  0.4785316 , -0.3070965 , -0.08046436,  0.45472866,\n",
              "         0.5400909 , -0.25400236,  0.08200154, -0.3052753 , -0.16406175,\n",
              "        -0.9673229 ,  0.05778649,  1.        , -0.1655154 ,  0.06965265,\n",
              "        -0.27896473, -0.0304313 , -0.20330036,  0.52371234,  0.50378066,\n",
              "        -0.42726088, -0.84217566,  0.1659725 , -0.81859165, -0.98544836,\n",
              "         0.7462558 ,  0.26864192, -0.34389633,  0.9999492 ,  0.25461838,\n",
              "         0.23868361,  0.12360699,  0.82858455,  0.04354627,  0.5524965 ,\n",
              "         0.03739864,  0.97668505, -0.2936128 ,  0.4370589 ,  0.869173  ,\n",
              "        -0.3441064 , -0.26746297, -0.70233893,  0.15940079, -0.91782373,\n",
              "        -0.00779077, -0.9471031 ,  0.9549733 ,  0.6406779 ,  0.40189093,\n",
              "         0.18597724,  0.01954639,  1.        , -0.22792965,  0.6015177 ,\n",
              "        -0.55739444,  0.81849277, -0.974325  , -0.7038572 , -0.41802463,\n",
              "        -0.07953641, -0.1649422 , -0.2823847 ,  0.29060435, -0.97438383,\n",
              "         0.15613282,  0.19315942, -0.9685503 , -0.9923175 ,  0.16930869,\n",
              "         0.8027152 ,  0.13804069, -0.84610647, -0.7373417 , -0.6293428 ,\n",
              "         0.55450666, -0.3695518 , -0.93804073,  0.3581884 , -0.24598306,\n",
              "         0.44963008, -0.2499653 ,  0.49340123, -0.12455776,  0.8231338 ,\n",
              "         0.18290395, -0.08847259, -0.16274415, -0.86031955,  0.8765442 ,\n",
              "        -0.8368692 , -0.2986016 , -0.20084602,  1.        , -0.51749384,\n",
              "         0.22529878,  0.7331912 ,  0.6989951 , -0.21303535,  0.22396314,\n",
              "         0.25451168,  0.24349284,  0.03809905, -0.3374584 , -0.7670504 ,\n",
              "        -0.4009182 ,  0.57389575, -0.17803404, -0.38180146,  0.85501224,\n",
              "         0.5724459 ,  0.33861718, -0.02136895,  0.090127  ,  0.9991485 ,\n",
              "        -0.32888854, -0.11690623, -0.36427778, -0.10314458, -0.3899148 ,\n",
              "        -0.649791  ,  1.        ,  0.4150815 ,  0.09585113, -0.9911577 ,\n",
              "        -0.3663808 , -0.94076526,  0.9999379 ,  0.8001297 , -0.86186725,\n",
              "         0.6778619 ,  0.49756354, -0.21943888,  0.7894755 , -0.29233864,\n",
              "        -0.21743625,  0.21658137,  0.15785934,  0.95996624, -0.3743159 ,\n",
              "        -0.96235096, -0.6062306 ,  0.49116212, -0.94694656,  0.98933697,\n",
              "        -0.59774077, -0.21848445, -0.4294047 ,  0.07729802,  0.7423971 ,\n",
              "         0.08667802, -0.9731522 , -0.2114518 ,  0.1291237 ,  0.9689953 ,\n",
              "         0.15584137, -0.45357257, -0.8930177 ,  0.1274107 ,  0.49908435,\n",
              "        -0.42154717, -0.9230736 ,  0.9714079 , -0.9764722 ,  0.44235778,\n",
              "         1.        ,  0.28985316, -0.21183427,  0.31959376, -0.40221864,\n",
              "         0.27781078, -0.10861202,  0.6424012 , -0.9436863 , -0.24155982,\n",
              "        -0.22865257,  0.37379476, -0.19939528,  0.11933599,  0.73330057,\n",
              "         0.1614418 , -0.47205165, -0.62860835, -0.08953435,  0.48930737,\n",
              "         0.8338315 , -0.32061678, -0.17903075,  0.1428002 , -0.09457321,\n",
              "        -0.90808415, -0.37475285, -0.32600167, -0.9990626 ,  0.65909255,\n",
              "        -1.        , -0.02606934, -0.4582782 , -0.24424848,  0.8136748 ,\n",
              "         0.06376694,  0.01772968, -0.7784565 , -0.21551843,  0.6734527 ,\n",
              "         0.7759729 , -0.38556874, -0.33929023, -0.7867492 ,  0.28761676,\n",
              "        -0.03032186,  0.27631852,  0.09404761,  0.6886477 , -0.19239011,\n",
              "         1.        ,  0.18683799, -0.48245028, -0.9698815 ,  0.29671478,\n",
              "        -0.23974815,  0.99999684, -0.91561854, -0.9542668 ,  0.20888765,\n",
              "        -0.57082593, -0.7791778 ,  0.25916648,  0.01504998, -0.7686245 ,\n",
              "        -0.6695489 ,  0.93375957,  0.8574599 , -0.44939834,  0.343659  ,\n",
              "        -0.38299194, -0.5015014 ,  0.11287902,  0.22465003,  0.9877274 ,\n",
              "         0.344628  ,  0.91329396,  0.60034984,  0.06236725,  0.9468414 ,\n",
              "         0.2118865 ,  0.7168205 ,  0.19500418,  1.        ,  0.41971934,\n",
              "        -0.9368019 ,  0.10388936, -0.9809369 , -0.28871378, -0.95290476,\n",
              "         0.36338994,  0.15870069,  0.8684824 , -0.30663174,  0.966575  ,\n",
              "        -0.08079789,  0.16011266, -0.32099956,  0.26502618,  0.3481661 ,\n",
              "        -0.92008936, -0.9840529 , -0.9877913 ,  0.44501013, -0.46282166,\n",
              "        -0.14444418,  0.33102152,  0.23371354,  0.46099502,  0.36955714,\n",
              "        -1.        ,  0.9363516 ,  0.45181102,  0.1626926 ,  0.97080845,\n",
              "         0.44143742,  0.3527613 ,  0.34087127, -0.98830366, -0.9568991 ,\n",
              "        -0.39073548, -0.3851127 ,  0.86353827,  0.6762574 ,  0.8384527 ,\n",
              "         0.5181926 , -0.5169771 , -0.36892676,  0.22535986, -0.19227819,\n",
              "        -0.9918849 ,  0.5183842 , -0.01699913, -0.96310645,  0.95588225,\n",
              "        -0.59611243, -0.15458801,  0.51599747, -0.23837596,  0.9507865 ,\n",
              "         0.82317626,  0.52333045,  0.1316685 ,  0.6701717 ,  0.8993407 ,\n",
              "         0.9522179 ,  0.98866916, -0.24716052,  0.7830961 , -0.14533706,\n",
              "         0.42448068,  0.52095175, -0.9412149 ,  0.16642013,  0.07136089,\n",
              "        -0.1646183 ,  0.3819136 , -0.24031329, -0.96317285,  0.5971085 ,\n",
              "        -0.22665884,  0.6902999 , -0.29876938,  0.0449017 , -0.42352495,\n",
              "        -0.21655472, -0.7865256 , -0.63018405,  0.5564853 ,  0.34820196,\n",
              "         0.9252998 ,  0.44425637, -0.07813031, -0.7197518 , -0.28300843,\n",
              "         0.07331031, -0.9272421 ,  0.94972205, -0.15704353,  0.46199983,\n",
              "         0.18907976,  0.12875924,  0.65158623, -0.14639167, -0.3757568 ,\n",
              "        -0.3731854 , -0.78172016,  0.84965765, -0.3233909 , -0.5637848 ,\n",
              "        -0.5905606 ,  0.7788977 ,  0.39669362,  0.9983365 , -0.13049966,\n",
              "        -0.43761283, -0.22788192, -0.29864842,  0.37204394, -0.30817908,\n",
              "        -1.        ,  0.50847554, -0.07474751,  0.15902625, -0.3760255 ,\n",
              "         0.2696687 , -0.4296198 , -0.9806704 , -0.24719319,  0.12603496,\n",
              "         0.17500274, -0.49989554, -0.7117037 ,  0.45235547,  0.0336411 ,\n",
              "         0.78111255,  0.88810456, -0.23920132,  0.5557052 ,  0.54100084,\n",
              "        -0.19524378, -0.62910926,  0.88740003]], dtype=float32)>"
            ]
          },
          "metadata": {},
          "execution_count": 28
        }
      ]
    },
    {
      "cell_type": "markdown",
      "source": [
        "**Model**"
      ],
      "metadata": {
        "id": "uNsS8zGNEnbi"
      }
    },
    {
      "cell_type": "code",
      "source": [
        "import tensorflow as tf\n",
        "from tensorflow import keras\n",
        "inputs = keras.layers.Input(shape=(), dtype=tf.string, name=\"inputs\")\n",
        "preprocess = pre_process(inputs)\n",
        "encoder = encode_input(preprocess)\n",
        "\n",
        "#NN\n",
        "nn1 = keras.layers.Dropout(0.1, name=\"dropout\")(encoder[\"pooled_output\"])\n",
        "nn1 = keras.layers.Dense(9, activation=\"softmax\", name=\"output\")(nn1)\n",
        "\n",
        "#Final Model\n",
        "model = keras.Model(inputs=[inputs], outputs=[nn1])"
      ],
      "metadata": {
        "id": "hQCMc-UQEpHa"
      },
      "execution_count": 29,
      "outputs": []
    },
    {
      "cell_type": "code",
      "source": [
        "model.summary()"
      ],
      "metadata": {
        "colab": {
          "base_uri": "https://localhost:8080/"
        },
        "id": "gRae2D5KRgdI",
        "outputId": "7b1097fd-2be1-48dc-8535-41966605d116"
      },
      "execution_count": 30,
      "outputs": [
        {
          "output_type": "stream",
          "name": "stdout",
          "text": [
            "Model: \"model\"\n",
            "__________________________________________________________________________________________________\n",
            " Layer (type)                   Output Shape         Param #     Connected to                     \n",
            "==================================================================================================\n",
            " inputs (InputLayer)            [(None,)]            0           []                               \n",
            "                                                                                                  \n",
            " keras_layer (KerasLayer)       {'input_mask': (Non  0           ['inputs[0][0]']                 \n",
            "                                e, 128),                                                          \n",
            "                                 'input_type_ids':                                                \n",
            "                                (None, 128),                                                      \n",
            "                                 'input_word_ids':                                                \n",
            "                                (None, 128)}                                                      \n",
            "                                                                                                  \n",
            " keras_layer_1 (KerasLayer)     {'sequence_output':  109482241   ['keras_layer[0][0]',            \n",
            "                                 (None, 128, 768),                'keras_layer[0][1]',            \n",
            "                                 'encoder_outputs':               'keras_layer[0][2]']            \n",
            "                                 [(None, 128, 768),                                               \n",
            "                                 (None, 128, 768),                                                \n",
            "                                 (None, 128, 768),                                                \n",
            "                                 (None, 128, 768),                                                \n",
            "                                 (None, 128, 768),                                                \n",
            "                                 (None, 128, 768),                                                \n",
            "                                 (None, 128, 768),                                                \n",
            "                                 (None, 128, 768),                                                \n",
            "                                 (None, 128, 768),                                                \n",
            "                                 (None, 128, 768),                                                \n",
            "                                 (None, 128, 768),                                                \n",
            "                                 (None, 128, 768)],                                               \n",
            "                                 'default': (None,                                                \n",
            "                                768),                                                             \n",
            "                                 'pooled_output': (                                               \n",
            "                                None, 768)}                                                       \n",
            "                                                                                                  \n",
            " dropout (Dropout)              (None, 768)          0           ['keras_layer_1[0][13]']         \n",
            "                                                                                                  \n",
            " output (Dense)                 (None, 9)            6921        ['dropout[0][0]']                \n",
            "                                                                                                  \n",
            "==================================================================================================\n",
            "Total params: 109,489,162\n",
            "Trainable params: 6,921\n",
            "Non-trainable params: 109,482,241\n",
            "__________________________________________________________________________________________________\n"
          ]
        }
      ]
    },
    {
      "cell_type": "code",
      "source": [
        "METRICS = [\n",
        "           tf.keras.metrics.BinaryAccuracy(name=\"Accuracy\"),\n",
        "           tf.keras.metrics.Precision(name=\"Precision\"),\n",
        "           tf.keras.metrics.Recall(name=\"Recall\"),\n",
        "]\n",
        "model.compile(optimizer=tf.keras.optimizers.Adam(learning_rate=0.001), \n",
        "              loss=tf.keras.losses.CategoricalCrossentropy(), \n",
        "              metrics=METRICS)"
      ],
      "metadata": {
        "id": "j1Wunx-1FhCv"
      },
      "execution_count": 31,
      "outputs": []
    },
    {
      "cell_type": "code",
      "source": [
        "model.fit(x_train, y_train, validation_data=(x_test, y_test), epochs=3)"
      ],
      "metadata": {
        "id": "VQqmajG1FvmY",
        "colab": {
          "base_uri": "https://localhost:8080/"
        },
        "outputId": "182639f5-763b-43ce-a2cc-53bd8808852d"
      },
      "execution_count": null,
      "outputs": [
        {
          "output_type": "stream",
          "name": "stdout",
          "text": [
            "Epoch 1/3\n",
            "   9/6364 [..............................] - ETA: 25:08:47 - loss: 1.5964 - Accuracy: 0.9147 - Precision: 0.7815 - Recall: 0.3229"
          ]
        }
      ]
    }
  ]
}