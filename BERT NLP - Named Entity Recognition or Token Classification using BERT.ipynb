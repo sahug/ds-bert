{
  "nbformat": 4,
  "nbformat_minor": 0,
  "metadata": {
    "colab": {
      "name": "BERT NLP - Named Entity Recognition or Token Classification using BERT.ipynb",
      "provenance": [],
      "collapsed_sections": [],
      "include_colab_link": true
    },
    "kernelspec": {
      "name": "python3",
      "display_name": "Python 3"
    },
    "language_info": {
      "name": "python"
    },
    "widgets": {
      "application/vnd.jupyter.widget-state+json": {
        "1c59bb077cf84a19870baff748ef22aa": {
          "model_module": "@jupyter-widgets/controls",
          "model_name": "HBoxModel",
          "model_module_version": "1.5.0",
          "state": {
            "_dom_classes": [],
            "_model_module": "@jupyter-widgets/controls",
            "_model_module_version": "1.5.0",
            "_model_name": "HBoxModel",
            "_view_count": null,
            "_view_module": "@jupyter-widgets/controls",
            "_view_module_version": "1.5.0",
            "_view_name": "HBoxView",
            "box_style": "",
            "children": [
              "IPY_MODEL_f5d05d13306a452cb58e4595893fbe73",
              "IPY_MODEL_71a134a89bc440fb9e79122e86ef2405",
              "IPY_MODEL_043c19961ed94f9294737c46df2e8b0d"
            ],
            "layout": "IPY_MODEL_b4ce52858cf24204ad48d90d76ae1659"
          }
        },
        "f5d05d13306a452cb58e4595893fbe73": {
          "model_module": "@jupyter-widgets/controls",
          "model_name": "HTMLModel",
          "model_module_version": "1.5.0",
          "state": {
            "_dom_classes": [],
            "_model_module": "@jupyter-widgets/controls",
            "_model_module_version": "1.5.0",
            "_model_name": "HTMLModel",
            "_view_count": null,
            "_view_module": "@jupyter-widgets/controls",
            "_view_module_version": "1.5.0",
            "_view_name": "HTMLView",
            "description": "",
            "description_tooltip": null,
            "layout": "IPY_MODEL_a1c387a2dd854ff8801a4b65e38a252d",
            "placeholder": "​",
            "style": "IPY_MODEL_a98a13e4612e47548be982f5f31a5c15",
            "value": "100%"
          }
        },
        "71a134a89bc440fb9e79122e86ef2405": {
          "model_module": "@jupyter-widgets/controls",
          "model_name": "FloatProgressModel",
          "model_module_version": "1.5.0",
          "state": {
            "_dom_classes": [],
            "_model_module": "@jupyter-widgets/controls",
            "_model_module_version": "1.5.0",
            "_model_name": "FloatProgressModel",
            "_view_count": null,
            "_view_module": "@jupyter-widgets/controls",
            "_view_module_version": "1.5.0",
            "_view_name": "ProgressView",
            "bar_style": "success",
            "description": "",
            "description_tooltip": null,
            "layout": "IPY_MODEL_328fcf04bdcf4154b26fd4dfd67fc115",
            "max": 3,
            "min": 0,
            "orientation": "horizontal",
            "style": "IPY_MODEL_c1c3a8965dd94dd79fc3d25175c2f294",
            "value": 3
          }
        },
        "043c19961ed94f9294737c46df2e8b0d": {
          "model_module": "@jupyter-widgets/controls",
          "model_name": "HTMLModel",
          "model_module_version": "1.5.0",
          "state": {
            "_dom_classes": [],
            "_model_module": "@jupyter-widgets/controls",
            "_model_module_version": "1.5.0",
            "_model_name": "HTMLModel",
            "_view_count": null,
            "_view_module": "@jupyter-widgets/controls",
            "_view_module_version": "1.5.0",
            "_view_name": "HTMLView",
            "description": "",
            "description_tooltip": null,
            "layout": "IPY_MODEL_bb98ab569e7a44db92caab66141ab954",
            "placeholder": "​",
            "style": "IPY_MODEL_83658c884d8c41b6add35e85177faa7e",
            "value": " 3/3 [00:00&lt;00:00,  8.93it/s]"
          }
        },
        "b4ce52858cf24204ad48d90d76ae1659": {
          "model_module": "@jupyter-widgets/base",
          "model_name": "LayoutModel",
          "model_module_version": "1.2.0",
          "state": {
            "_model_module": "@jupyter-widgets/base",
            "_model_module_version": "1.2.0",
            "_model_name": "LayoutModel",
            "_view_count": null,
            "_view_module": "@jupyter-widgets/base",
            "_view_module_version": "1.2.0",
            "_view_name": "LayoutView",
            "align_content": null,
            "align_items": null,
            "align_self": null,
            "border": null,
            "bottom": null,
            "display": null,
            "flex": null,
            "flex_flow": null,
            "grid_area": null,
            "grid_auto_columns": null,
            "grid_auto_flow": null,
            "grid_auto_rows": null,
            "grid_column": null,
            "grid_gap": null,
            "grid_row": null,
            "grid_template_areas": null,
            "grid_template_columns": null,
            "grid_template_rows": null,
            "height": null,
            "justify_content": null,
            "justify_items": null,
            "left": null,
            "margin": null,
            "max_height": null,
            "max_width": null,
            "min_height": null,
            "min_width": null,
            "object_fit": null,
            "object_position": null,
            "order": null,
            "overflow": null,
            "overflow_x": null,
            "overflow_y": null,
            "padding": null,
            "right": null,
            "top": null,
            "visibility": null,
            "width": null
          }
        },
        "a1c387a2dd854ff8801a4b65e38a252d": {
          "model_module": "@jupyter-widgets/base",
          "model_name": "LayoutModel",
          "model_module_version": "1.2.0",
          "state": {
            "_model_module": "@jupyter-widgets/base",
            "_model_module_version": "1.2.0",
            "_model_name": "LayoutModel",
            "_view_count": null,
            "_view_module": "@jupyter-widgets/base",
            "_view_module_version": "1.2.0",
            "_view_name": "LayoutView",
            "align_content": null,
            "align_items": null,
            "align_self": null,
            "border": null,
            "bottom": null,
            "display": null,
            "flex": null,
            "flex_flow": null,
            "grid_area": null,
            "grid_auto_columns": null,
            "grid_auto_flow": null,
            "grid_auto_rows": null,
            "grid_column": null,
            "grid_gap": null,
            "grid_row": null,
            "grid_template_areas": null,
            "grid_template_columns": null,
            "grid_template_rows": null,
            "height": null,
            "justify_content": null,
            "justify_items": null,
            "left": null,
            "margin": null,
            "max_height": null,
            "max_width": null,
            "min_height": null,
            "min_width": null,
            "object_fit": null,
            "object_position": null,
            "order": null,
            "overflow": null,
            "overflow_x": null,
            "overflow_y": null,
            "padding": null,
            "right": null,
            "top": null,
            "visibility": null,
            "width": null
          }
        },
        "a98a13e4612e47548be982f5f31a5c15": {
          "model_module": "@jupyter-widgets/controls",
          "model_name": "DescriptionStyleModel",
          "model_module_version": "1.5.0",
          "state": {
            "_model_module": "@jupyter-widgets/controls",
            "_model_module_version": "1.5.0",
            "_model_name": "DescriptionStyleModel",
            "_view_count": null,
            "_view_module": "@jupyter-widgets/base",
            "_view_module_version": "1.2.0",
            "_view_name": "StyleView",
            "description_width": ""
          }
        },
        "328fcf04bdcf4154b26fd4dfd67fc115": {
          "model_module": "@jupyter-widgets/base",
          "model_name": "LayoutModel",
          "model_module_version": "1.2.0",
          "state": {
            "_model_module": "@jupyter-widgets/base",
            "_model_module_version": "1.2.0",
            "_model_name": "LayoutModel",
            "_view_count": null,
            "_view_module": "@jupyter-widgets/base",
            "_view_module_version": "1.2.0",
            "_view_name": "LayoutView",
            "align_content": null,
            "align_items": null,
            "align_self": null,
            "border": null,
            "bottom": null,
            "display": null,
            "flex": null,
            "flex_flow": null,
            "grid_area": null,
            "grid_auto_columns": null,
            "grid_auto_flow": null,
            "grid_auto_rows": null,
            "grid_column": null,
            "grid_gap": null,
            "grid_row": null,
            "grid_template_areas": null,
            "grid_template_columns": null,
            "grid_template_rows": null,
            "height": null,
            "justify_content": null,
            "justify_items": null,
            "left": null,
            "margin": null,
            "max_height": null,
            "max_width": null,
            "min_height": null,
            "min_width": null,
            "object_fit": null,
            "object_position": null,
            "order": null,
            "overflow": null,
            "overflow_x": null,
            "overflow_y": null,
            "padding": null,
            "right": null,
            "top": null,
            "visibility": null,
            "width": null
          }
        },
        "c1c3a8965dd94dd79fc3d25175c2f294": {
          "model_module": "@jupyter-widgets/controls",
          "model_name": "ProgressStyleModel",
          "model_module_version": "1.5.0",
          "state": {
            "_model_module": "@jupyter-widgets/controls",
            "_model_module_version": "1.5.0",
            "_model_name": "ProgressStyleModel",
            "_view_count": null,
            "_view_module": "@jupyter-widgets/base",
            "_view_module_version": "1.2.0",
            "_view_name": "StyleView",
            "bar_color": null,
            "description_width": ""
          }
        },
        "bb98ab569e7a44db92caab66141ab954": {
          "model_module": "@jupyter-widgets/base",
          "model_name": "LayoutModel",
          "model_module_version": "1.2.0",
          "state": {
            "_model_module": "@jupyter-widgets/base",
            "_model_module_version": "1.2.0",
            "_model_name": "LayoutModel",
            "_view_count": null,
            "_view_module": "@jupyter-widgets/base",
            "_view_module_version": "1.2.0",
            "_view_name": "LayoutView",
            "align_content": null,
            "align_items": null,
            "align_self": null,
            "border": null,
            "bottom": null,
            "display": null,
            "flex": null,
            "flex_flow": null,
            "grid_area": null,
            "grid_auto_columns": null,
            "grid_auto_flow": null,
            "grid_auto_rows": null,
            "grid_column": null,
            "grid_gap": null,
            "grid_row": null,
            "grid_template_areas": null,
            "grid_template_columns": null,
            "grid_template_rows": null,
            "height": null,
            "justify_content": null,
            "justify_items": null,
            "left": null,
            "margin": null,
            "max_height": null,
            "max_width": null,
            "min_height": null,
            "min_width": null,
            "object_fit": null,
            "object_position": null,
            "order": null,
            "overflow": null,
            "overflow_x": null,
            "overflow_y": null,
            "padding": null,
            "right": null,
            "top": null,
            "visibility": null,
            "width": null
          }
        },
        "83658c884d8c41b6add35e85177faa7e": {
          "model_module": "@jupyter-widgets/controls",
          "model_name": "DescriptionStyleModel",
          "model_module_version": "1.5.0",
          "state": {
            "_model_module": "@jupyter-widgets/controls",
            "_model_module_version": "1.5.0",
            "_model_name": "DescriptionStyleModel",
            "_view_count": null,
            "_view_module": "@jupyter-widgets/base",
            "_view_module_version": "1.2.0",
            "_view_name": "StyleView",
            "description_width": ""
          }
        }
      }
    }
  },
  "cells": [
    {
      "cell_type": "markdown",
      "metadata": {
        "id": "view-in-github",
        "colab_type": "text"
      },
      "source": [
        "<a href=\"https://colab.research.google.com/github/sahug/ds-bert/blob/main/BERT%20NLP%20-%20Named%20Entity%20Recognition%20or%20Token%20Classification%20using%20BERT.ipynb\" target=\"_parent\"><img src=\"https://colab.research.google.com/assets/colab-badge.svg\" alt=\"Open In Colab\"/></a>"
      ]
    },
    {
      "cell_type": "markdown",
      "source": [
        "**BERT NLP - Named Entity Recognition or Token Classification using BERT**"
      ],
      "metadata": {
        "id": "J2pXncO80uF8"
      }
    },
    {
      "cell_type": "markdown",
      "source": [
        "**Token classification** assigns a label to individual tokens in a sentence. One of the most common token classification tasks is **Named Entity Recognition (NER)**. NER attempts to find a label for each entity in a sentence, such as a person, location, or organization."
      ],
      "metadata": {
        "id": "dPx0IKEn0x6h"
      }
    },
    {
      "cell_type": "markdown",
      "source": [
        "**Load Dataset**"
      ],
      "metadata": {
        "id": "c5LA_0oi02pE"
      }
    },
    {
      "cell_type": "code",
      "source": [
        "%pip install -qq datasets"
      ],
      "metadata": {
        "id": "Dt9S6SQ81HIs"
      },
      "execution_count": 1,
      "outputs": []
    },
    {
      "cell_type": "code",
      "execution_count": 2,
      "metadata": {
        "colab": {
          "base_uri": "https://localhost:8080/",
          "height": 309,
          "referenced_widgets": [
            "1c59bb077cf84a19870baff748ef22aa",
            "f5d05d13306a452cb58e4595893fbe73",
            "71a134a89bc440fb9e79122e86ef2405",
            "043c19961ed94f9294737c46df2e8b0d",
            "b4ce52858cf24204ad48d90d76ae1659",
            "a1c387a2dd854ff8801a4b65e38a252d",
            "a98a13e4612e47548be982f5f31a5c15",
            "328fcf04bdcf4154b26fd4dfd67fc115",
            "c1c3a8965dd94dd79fc3d25175c2f294",
            "bb98ab569e7a44db92caab66141ab954",
            "83658c884d8c41b6add35e85177faa7e"
          ]
        },
        "id": "y1W8W-IV0jcT",
        "outputId": "19d92039-05b6-4944-a819-04e5e7a7366d"
      },
      "outputs": [
        {
          "output_type": "stream",
          "name": "stderr",
          "text": [
            "Reusing dataset conll2003 (/root/.cache/huggingface/datasets/conll2003/conll2003/1.0.0/63f4ebd1bcb7148b1644497336fd74643d4ce70123334431a3c053b7ee4e96ee)\n"
          ]
        },
        {
          "output_type": "display_data",
          "data": {
            "text/plain": [
              "  0%|          | 0/3 [00:00<?, ?it/s]"
            ],
            "application/vnd.jupyter.widget-view+json": {
              "version_major": 2,
              "version_minor": 0,
              "model_id": "1c59bb077cf84a19870baff748ef22aa"
            }
          },
          "metadata": {}
        },
        {
          "output_type": "execute_result",
          "data": {
            "text/plain": [
              "DatasetDict({\n",
              "    train: Dataset({\n",
              "        features: ['id', 'tokens', 'pos_tags', 'chunk_tags', 'ner_tags'],\n",
              "        num_rows: 14042\n",
              "    })\n",
              "    validation: Dataset({\n",
              "        features: ['id', 'tokens', 'pos_tags', 'chunk_tags', 'ner_tags'],\n",
              "        num_rows: 3251\n",
              "    })\n",
              "    test: Dataset({\n",
              "        features: ['id', 'tokens', 'pos_tags', 'chunk_tags', 'ner_tags'],\n",
              "        num_rows: 3454\n",
              "    })\n",
              "})"
            ]
          },
          "metadata": {},
          "execution_count": 2
        }
      ],
      "source": [
        "from datasets import load_dataset\n",
        "ds = load_dataset(\"conll2003\")\n",
        "ds"
      ]
    },
    {
      "cell_type": "markdown",
      "source": [
        "**Preprocess Data**"
      ],
      "metadata": {
        "id": "h2oNWMBZHeL8"
      }
    },
    {
      "cell_type": "code",
      "source": [
        "# Remove Unwanted Features\n",
        "ds = ds.remove_columns([\"id\", \"pos_tags\", \"chunk_tags\"])\n",
        "\n",
        "# Rename Columns\n",
        "ds = ds.rename_column(\"ner_tags\", \"labels\")\n",
        "ds = ds.rename_column(\"tokens\", \"words\")"
      ],
      "metadata": {
        "id": "Wdc_jb5RHg4a"
      },
      "execution_count": 3,
      "outputs": []
    },
    {
      "cell_type": "code",
      "source": [
        "ds[\"train\"], ds[\"validation\"], ds[\"test\"]"
      ],
      "metadata": {
        "colab": {
          "base_uri": "https://localhost:8080/"
        },
        "id": "UgcqTT_pH8Q9",
        "outputId": "0f57bd2c-24c1-4bb3-e066-4c3cfa79798d"
      },
      "execution_count": 4,
      "outputs": [
        {
          "output_type": "execute_result",
          "data": {
            "text/plain": [
              "(Dataset({\n",
              "     features: ['words', 'labels'],\n",
              "     num_rows: 14042\n",
              " }), Dataset({\n",
              "     features: ['words', 'labels'],\n",
              "     num_rows: 3251\n",
              " }), Dataset({\n",
              "     features: ['words', 'labels'],\n",
              "     num_rows: 3454\n",
              " }))"
            ]
          },
          "metadata": {},
          "execution_count": 4
        }
      ]
    },
    {
      "cell_type": "markdown",
      "source": [
        "**Labels**\n",
        "\n",
        "- B - indicates the beginning of an entity.\n",
        "- I - indicates a token is contained inside the same entity (e.g., the State token is a part of an entity like Empire State Building).\n",
        "- 0 - indicates the token doesn’t correspond to any entity."
      ],
      "metadata": {
        "id": "AaSW-6SP1fW7"
      }
    },
    {
      "cell_type": "code",
      "source": [
        "ds[\"train\"].features[\"labels\"]"
      ],
      "metadata": {
        "colab": {
          "base_uri": "https://localhost:8080/"
        },
        "id": "1O3MG7zmIV9c",
        "outputId": "1bd375e7-05ad-4fdf-afb5-8f91210d4d40"
      },
      "execution_count": 5,
      "outputs": [
        {
          "output_type": "execute_result",
          "data": {
            "text/plain": [
              "Sequence(feature=ClassLabel(num_classes=9, names=['O', 'B-PER', 'I-PER', 'B-ORG', 'I-ORG', 'B-LOC', 'I-LOC', 'B-MISC', 'I-MISC'], id=None), length=-1, id=None)"
            ]
          },
          "metadata": {},
          "execution_count": 5
        }
      ]
    },
    {
      "cell_type": "code",
      "source": [
        "ds[\"train\"].features[\"labels\"].feature.names"
      ],
      "metadata": {
        "colab": {
          "base_uri": "https://localhost:8080/"
        },
        "id": "bo0yw1Z6IY3g",
        "outputId": "d907d26f-0d64-486f-8e5e-874f631b7c68"
      },
      "execution_count": 6,
      "outputs": [
        {
          "output_type": "execute_result",
          "data": {
            "text/plain": [
              "['O', 'B-PER', 'I-PER', 'B-ORG', 'I-ORG', 'B-LOC', 'I-LOC', 'B-MISC', 'I-MISC']"
            ]
          },
          "metadata": {},
          "execution_count": 6
        }
      ]
    },
    {
      "cell_type": "markdown",
      "source": [
        "**Dataset Preview**"
      ],
      "metadata": {
        "id": "eBU-eV3BIug7"
      }
    },
    {
      "cell_type": "code",
      "source": [
        "print(ds[\"train\"][0])\n",
        "print(ds[\"train\"][0][\"words\"])\n",
        "print(ds[\"train\"][0][\"labels\"])"
      ],
      "metadata": {
        "colab": {
          "base_uri": "https://localhost:8080/"
        },
        "id": "M8EkMt2dIs39",
        "outputId": "87d84ffe-0bb4-4bde-ac08-5904e470d5ad"
      },
      "execution_count": 7,
      "outputs": [
        {
          "output_type": "stream",
          "name": "stdout",
          "text": [
            "{'words': ['EU', 'rejects', 'German', 'call', 'to', 'boycott', 'British', 'lamb', '.'], 'labels': [3, 0, 7, 0, 0, 0, 7, 0, 0]}\n",
            "['EU', 'rejects', 'German', 'call', 'to', 'boycott', 'British', 'lamb', '.']\n",
            "[3, 0, 7, 0, 0, 0, 7, 0, 0]\n"
          ]
        }
      ]
    },
    {
      "cell_type": "code",
      "source": [
        "print(ds[\"train\"][3][\"words\"])\n",
        "print(ds[\"train\"][3][\"labels\"])"
      ],
      "metadata": {
        "colab": {
          "base_uri": "https://localhost:8080/"
        },
        "id": "XdRjlYG31CWw",
        "outputId": "c299f47e-b7e8-461e-a6b8-25e375c38f16"
      },
      "execution_count": 8,
      "outputs": [
        {
          "output_type": "stream",
          "name": "stdout",
          "text": [
            "['The', 'European', 'Commission', 'said', 'on', 'Thursday', 'it', 'disagreed', 'with', 'German', 'advice', 'to', 'consumers', 'to', 'shun', 'British', 'lamb', 'until', 'scientists', 'determine', 'whether', 'mad', 'cow', 'disease', 'can', 'be', 'transmitted', 'to', 'sheep', '.']\n",
            "[0, 3, 4, 0, 0, 0, 0, 0, 0, 7, 0, 0, 0, 0, 0, 7, 0, 0, 0, 0, 0, 0, 0, 0, 0, 0, 0, 0, 0, 0]\n"
          ]
        }
      ]
    },
    {
      "cell_type": "markdown",
      "source": [
        "**Data Preperation**\n",
        "\n",
        "We will prepare or format the data so it alligns with input model accepts. We can see the data is a list of list. Each row contains a list of words and list of labels. We won't be able to input it as it is."
      ],
      "metadata": {
        "id": "jQX91V3ozRuK"
      }
    },
    {
      "cell_type": "code",
      "source": [
        "import pandas as pd\n",
        "df_train = pd.DataFrame(ds[\"train\"])\n",
        "df_test = pd.DataFrame(ds[\"test\"])\n",
        "df_valid = pd.DataFrame(ds[\"validation\"])"
      ],
      "metadata": {
        "id": "3ShNFULYz8HA"
      },
      "execution_count": 9,
      "outputs": []
    },
    {
      "cell_type": "code",
      "source": [
        "df_train.head()"
      ],
      "metadata": {
        "colab": {
          "base_uri": "https://localhost:8080/",
          "height": 206
        },
        "id": "11H5o3ac0Q7i",
        "outputId": "57df72b2-f558-4b41-fe0c-396a8e31257b"
      },
      "execution_count": 10,
      "outputs": [
        {
          "output_type": "execute_result",
          "data": {
            "text/plain": [
              "                                               words  \\\n",
              "0  [EU, rejects, German, call, to, boycott, Briti...   \n",
              "1                                 [Peter, Blackburn]   \n",
              "2                             [BRUSSELS, 1996-08-22]   \n",
              "3  [The, European, Commission, said, on, Thursday...   \n",
              "4  [Germany, 's, representative, to, the, Europea...   \n",
              "\n",
              "                                              labels  \n",
              "0                        [3, 0, 7, 0, 0, 0, 7, 0, 0]  \n",
              "1                                             [1, 2]  \n",
              "2                                             [5, 0]  \n",
              "3  [0, 3, 4, 0, 0, 0, 0, 0, 0, 7, 0, 0, 0, 0, 0, ...  \n",
              "4  [5, 0, 0, 0, 0, 3, 4, 0, 0, 0, 1, 2, 0, 0, 0, ...  "
            ],
            "text/html": [
              "\n",
              "  <div id=\"df-3a737844-b410-4d95-a04f-8ec29f733bb4\">\n",
              "    <div class=\"colab-df-container\">\n",
              "      <div>\n",
              "<style scoped>\n",
              "    .dataframe tbody tr th:only-of-type {\n",
              "        vertical-align: middle;\n",
              "    }\n",
              "\n",
              "    .dataframe tbody tr th {\n",
              "        vertical-align: top;\n",
              "    }\n",
              "\n",
              "    .dataframe thead th {\n",
              "        text-align: right;\n",
              "    }\n",
              "</style>\n",
              "<table border=\"1\" class=\"dataframe\">\n",
              "  <thead>\n",
              "    <tr style=\"text-align: right;\">\n",
              "      <th></th>\n",
              "      <th>words</th>\n",
              "      <th>labels</th>\n",
              "    </tr>\n",
              "  </thead>\n",
              "  <tbody>\n",
              "    <tr>\n",
              "      <th>0</th>\n",
              "      <td>[EU, rejects, German, call, to, boycott, Briti...</td>\n",
              "      <td>[3, 0, 7, 0, 0, 0, 7, 0, 0]</td>\n",
              "    </tr>\n",
              "    <tr>\n",
              "      <th>1</th>\n",
              "      <td>[Peter, Blackburn]</td>\n",
              "      <td>[1, 2]</td>\n",
              "    </tr>\n",
              "    <tr>\n",
              "      <th>2</th>\n",
              "      <td>[BRUSSELS, 1996-08-22]</td>\n",
              "      <td>[5, 0]</td>\n",
              "    </tr>\n",
              "    <tr>\n",
              "      <th>3</th>\n",
              "      <td>[The, European, Commission, said, on, Thursday...</td>\n",
              "      <td>[0, 3, 4, 0, 0, 0, 0, 0, 0, 7, 0, 0, 0, 0, 0, ...</td>\n",
              "    </tr>\n",
              "    <tr>\n",
              "      <th>4</th>\n",
              "      <td>[Germany, 's, representative, to, the, Europea...</td>\n",
              "      <td>[5, 0, 0, 0, 0, 3, 4, 0, 0, 0, 1, 2, 0, 0, 0, ...</td>\n",
              "    </tr>\n",
              "  </tbody>\n",
              "</table>\n",
              "</div>\n",
              "      <button class=\"colab-df-convert\" onclick=\"convertToInteractive('df-3a737844-b410-4d95-a04f-8ec29f733bb4')\"\n",
              "              title=\"Convert this dataframe to an interactive table.\"\n",
              "              style=\"display:none;\">\n",
              "        \n",
              "  <svg xmlns=\"http://www.w3.org/2000/svg\" height=\"24px\"viewBox=\"0 0 24 24\"\n",
              "       width=\"24px\">\n",
              "    <path d=\"M0 0h24v24H0V0z\" fill=\"none\"/>\n",
              "    <path d=\"M18.56 5.44l.94 2.06.94-2.06 2.06-.94-2.06-.94-.94-2.06-.94 2.06-2.06.94zm-11 1L8.5 8.5l.94-2.06 2.06-.94-2.06-.94L8.5 2.5l-.94 2.06-2.06.94zm10 10l.94 2.06.94-2.06 2.06-.94-2.06-.94-.94-2.06-.94 2.06-2.06.94z\"/><path d=\"M17.41 7.96l-1.37-1.37c-.4-.4-.92-.59-1.43-.59-.52 0-1.04.2-1.43.59L10.3 9.45l-7.72 7.72c-.78.78-.78 2.05 0 2.83L4 21.41c.39.39.9.59 1.41.59.51 0 1.02-.2 1.41-.59l7.78-7.78 2.81-2.81c.8-.78.8-2.07 0-2.86zM5.41 20L4 18.59l7.72-7.72 1.47 1.35L5.41 20z\"/>\n",
              "  </svg>\n",
              "      </button>\n",
              "      \n",
              "  <style>\n",
              "    .colab-df-container {\n",
              "      display:flex;\n",
              "      flex-wrap:wrap;\n",
              "      gap: 12px;\n",
              "    }\n",
              "\n",
              "    .colab-df-convert {\n",
              "      background-color: #E8F0FE;\n",
              "      border: none;\n",
              "      border-radius: 50%;\n",
              "      cursor: pointer;\n",
              "      display: none;\n",
              "      fill: #1967D2;\n",
              "      height: 32px;\n",
              "      padding: 0 0 0 0;\n",
              "      width: 32px;\n",
              "    }\n",
              "\n",
              "    .colab-df-convert:hover {\n",
              "      background-color: #E2EBFA;\n",
              "      box-shadow: 0px 1px 2px rgba(60, 64, 67, 0.3), 0px 1px 3px 1px rgba(60, 64, 67, 0.15);\n",
              "      fill: #174EA6;\n",
              "    }\n",
              "\n",
              "    [theme=dark] .colab-df-convert {\n",
              "      background-color: #3B4455;\n",
              "      fill: #D2E3FC;\n",
              "    }\n",
              "\n",
              "    [theme=dark] .colab-df-convert:hover {\n",
              "      background-color: #434B5C;\n",
              "      box-shadow: 0px 1px 3px 1px rgba(0, 0, 0, 0.15);\n",
              "      filter: drop-shadow(0px 1px 2px rgba(0, 0, 0, 0.3));\n",
              "      fill: #FFFFFF;\n",
              "    }\n",
              "  </style>\n",
              "\n",
              "      <script>\n",
              "        const buttonEl =\n",
              "          document.querySelector('#df-3a737844-b410-4d95-a04f-8ec29f733bb4 button.colab-df-convert');\n",
              "        buttonEl.style.display =\n",
              "          google.colab.kernel.accessAllowed ? 'block' : 'none';\n",
              "\n",
              "        async function convertToInteractive(key) {\n",
              "          const element = document.querySelector('#df-3a737844-b410-4d95-a04f-8ec29f733bb4');\n",
              "          const dataTable =\n",
              "            await google.colab.kernel.invokeFunction('convertToInteractive',\n",
              "                                                     [key], {});\n",
              "          if (!dataTable) return;\n",
              "\n",
              "          const docLinkHtml = 'Like what you see? Visit the ' +\n",
              "            '<a target=\"_blank\" href=https://colab.research.google.com/notebooks/data_table.ipynb>data table notebook</a>'\n",
              "            + ' to learn more about interactive tables.';\n",
              "          element.innerHTML = '';\n",
              "          dataTable['output_type'] = 'display_data';\n",
              "          await google.colab.output.renderOutput(dataTable, element);\n",
              "          const docLink = document.createElement('div');\n",
              "          docLink.innerHTML = docLinkHtml;\n",
              "          element.appendChild(docLink);\n",
              "        }\n",
              "      </script>\n",
              "    </div>\n",
              "  </div>\n",
              "  "
            ]
          },
          "metadata": {},
          "execution_count": 10
        }
      ]
    },
    {
      "cell_type": "code",
      "source": [
        "df_test.head()"
      ],
      "metadata": {
        "colab": {
          "base_uri": "https://localhost:8080/",
          "height": 206
        },
        "id": "XUGPi79H0ey2",
        "outputId": "60dd8c8e-5d54-4cd9-88e7-12cdd38bb17a"
      },
      "execution_count": 11,
      "outputs": [
        {
          "output_type": "execute_result",
          "data": {
            "text/plain": [
              "                                               words  \\\n",
              "0  [SOCCER, -, JAPAN, GET, LUCKY, WIN, ,, CHINA, ...   \n",
              "1                                     [Nadim, Ladki]   \n",
              "2    [AL-AIN, ,, United, Arab, Emirates, 1996-12-06]   \n",
              "3  [Japan, began, the, defence, of, their, Asian,...   \n",
              "4  [But, China, saw, their, luck, desert, them, i...   \n",
              "\n",
              "                                              labels  \n",
              "0               [0, 0, 5, 0, 0, 0, 0, 1, 0, 0, 0, 0]  \n",
              "1                                             [1, 2]  \n",
              "2                                 [5, 0, 5, 6, 6, 0]  \n",
              "3  [5, 0, 0, 0, 0, 0, 7, 8, 0, 0, 0, 0, 0, 0, 0, ...  \n",
              "4  [0, 5, 0, 0, 0, 0, 0, 0, 0, 0, 0, 0, 0, 0, 0, ...  "
            ],
            "text/html": [
              "\n",
              "  <div id=\"df-6dbfede8-7618-4408-80ea-36fa5680ef98\">\n",
              "    <div class=\"colab-df-container\">\n",
              "      <div>\n",
              "<style scoped>\n",
              "    .dataframe tbody tr th:only-of-type {\n",
              "        vertical-align: middle;\n",
              "    }\n",
              "\n",
              "    .dataframe tbody tr th {\n",
              "        vertical-align: top;\n",
              "    }\n",
              "\n",
              "    .dataframe thead th {\n",
              "        text-align: right;\n",
              "    }\n",
              "</style>\n",
              "<table border=\"1\" class=\"dataframe\">\n",
              "  <thead>\n",
              "    <tr style=\"text-align: right;\">\n",
              "      <th></th>\n",
              "      <th>words</th>\n",
              "      <th>labels</th>\n",
              "    </tr>\n",
              "  </thead>\n",
              "  <tbody>\n",
              "    <tr>\n",
              "      <th>0</th>\n",
              "      <td>[SOCCER, -, JAPAN, GET, LUCKY, WIN, ,, CHINA, ...</td>\n",
              "      <td>[0, 0, 5, 0, 0, 0, 0, 1, 0, 0, 0, 0]</td>\n",
              "    </tr>\n",
              "    <tr>\n",
              "      <th>1</th>\n",
              "      <td>[Nadim, Ladki]</td>\n",
              "      <td>[1, 2]</td>\n",
              "    </tr>\n",
              "    <tr>\n",
              "      <th>2</th>\n",
              "      <td>[AL-AIN, ,, United, Arab, Emirates, 1996-12-06]</td>\n",
              "      <td>[5, 0, 5, 6, 6, 0]</td>\n",
              "    </tr>\n",
              "    <tr>\n",
              "      <th>3</th>\n",
              "      <td>[Japan, began, the, defence, of, their, Asian,...</td>\n",
              "      <td>[5, 0, 0, 0, 0, 0, 7, 8, 0, 0, 0, 0, 0, 0, 0, ...</td>\n",
              "    </tr>\n",
              "    <tr>\n",
              "      <th>4</th>\n",
              "      <td>[But, China, saw, their, luck, desert, them, i...</td>\n",
              "      <td>[0, 5, 0, 0, 0, 0, 0, 0, 0, 0, 0, 0, 0, 0, 0, ...</td>\n",
              "    </tr>\n",
              "  </tbody>\n",
              "</table>\n",
              "</div>\n",
              "      <button class=\"colab-df-convert\" onclick=\"convertToInteractive('df-6dbfede8-7618-4408-80ea-36fa5680ef98')\"\n",
              "              title=\"Convert this dataframe to an interactive table.\"\n",
              "              style=\"display:none;\">\n",
              "        \n",
              "  <svg xmlns=\"http://www.w3.org/2000/svg\" height=\"24px\"viewBox=\"0 0 24 24\"\n",
              "       width=\"24px\">\n",
              "    <path d=\"M0 0h24v24H0V0z\" fill=\"none\"/>\n",
              "    <path d=\"M18.56 5.44l.94 2.06.94-2.06 2.06-.94-2.06-.94-.94-2.06-.94 2.06-2.06.94zm-11 1L8.5 8.5l.94-2.06 2.06-.94-2.06-.94L8.5 2.5l-.94 2.06-2.06.94zm10 10l.94 2.06.94-2.06 2.06-.94-2.06-.94-.94-2.06-.94 2.06-2.06.94z\"/><path d=\"M17.41 7.96l-1.37-1.37c-.4-.4-.92-.59-1.43-.59-.52 0-1.04.2-1.43.59L10.3 9.45l-7.72 7.72c-.78.78-.78 2.05 0 2.83L4 21.41c.39.39.9.59 1.41.59.51 0 1.02-.2 1.41-.59l7.78-7.78 2.81-2.81c.8-.78.8-2.07 0-2.86zM5.41 20L4 18.59l7.72-7.72 1.47 1.35L5.41 20z\"/>\n",
              "  </svg>\n",
              "      </button>\n",
              "      \n",
              "  <style>\n",
              "    .colab-df-container {\n",
              "      display:flex;\n",
              "      flex-wrap:wrap;\n",
              "      gap: 12px;\n",
              "    }\n",
              "\n",
              "    .colab-df-convert {\n",
              "      background-color: #E8F0FE;\n",
              "      border: none;\n",
              "      border-radius: 50%;\n",
              "      cursor: pointer;\n",
              "      display: none;\n",
              "      fill: #1967D2;\n",
              "      height: 32px;\n",
              "      padding: 0 0 0 0;\n",
              "      width: 32px;\n",
              "    }\n",
              "\n",
              "    .colab-df-convert:hover {\n",
              "      background-color: #E2EBFA;\n",
              "      box-shadow: 0px 1px 2px rgba(60, 64, 67, 0.3), 0px 1px 3px 1px rgba(60, 64, 67, 0.15);\n",
              "      fill: #174EA6;\n",
              "    }\n",
              "\n",
              "    [theme=dark] .colab-df-convert {\n",
              "      background-color: #3B4455;\n",
              "      fill: #D2E3FC;\n",
              "    }\n",
              "\n",
              "    [theme=dark] .colab-df-convert:hover {\n",
              "      background-color: #434B5C;\n",
              "      box-shadow: 0px 1px 3px 1px rgba(0, 0, 0, 0.15);\n",
              "      filter: drop-shadow(0px 1px 2px rgba(0, 0, 0, 0.3));\n",
              "      fill: #FFFFFF;\n",
              "    }\n",
              "  </style>\n",
              "\n",
              "      <script>\n",
              "        const buttonEl =\n",
              "          document.querySelector('#df-6dbfede8-7618-4408-80ea-36fa5680ef98 button.colab-df-convert');\n",
              "        buttonEl.style.display =\n",
              "          google.colab.kernel.accessAllowed ? 'block' : 'none';\n",
              "\n",
              "        async function convertToInteractive(key) {\n",
              "          const element = document.querySelector('#df-6dbfede8-7618-4408-80ea-36fa5680ef98');\n",
              "          const dataTable =\n",
              "            await google.colab.kernel.invokeFunction('convertToInteractive',\n",
              "                                                     [key], {});\n",
              "          if (!dataTable) return;\n",
              "\n",
              "          const docLinkHtml = 'Like what you see? Visit the ' +\n",
              "            '<a target=\"_blank\" href=https://colab.research.google.com/notebooks/data_table.ipynb>data table notebook</a>'\n",
              "            + ' to learn more about interactive tables.';\n",
              "          element.innerHTML = '';\n",
              "          dataTable['output_type'] = 'display_data';\n",
              "          await google.colab.output.renderOutput(dataTable, element);\n",
              "          const docLink = document.createElement('div');\n",
              "          docLink.innerHTML = docLinkHtml;\n",
              "          element.appendChild(docLink);\n",
              "        }\n",
              "      </script>\n",
              "    </div>\n",
              "  </div>\n",
              "  "
            ]
          },
          "metadata": {},
          "execution_count": 11
        }
      ]
    },
    {
      "cell_type": "code",
      "source": [
        "df_valid.head()"
      ],
      "metadata": {
        "colab": {
          "base_uri": "https://localhost:8080/",
          "height": 206
        },
        "id": "mGQPErAv0gMz",
        "outputId": "9baa96d3-7a2a-4a97-b481-57a41bf5e1b1"
      },
      "execution_count": 12,
      "outputs": [
        {
          "output_type": "execute_result",
          "data": {
            "text/plain": [
              "                                               words  \\\n",
              "0  [CRICKET, -, LEICESTERSHIRE, TAKE, OVER, AT, T...   \n",
              "1                               [LONDON, 1996-08-30]   \n",
              "2  [West, Indian, all-rounder, Phil, Simmons, too...   \n",
              "3  [Their, stay, on, top, ,, though, ,, may, be, ...   \n",
              "4  [After, bowling, Somerset, out, for, 83, on, t...   \n",
              "\n",
              "                                              labels  \n",
              "0                  [0, 0, 3, 0, 0, 0, 0, 0, 0, 0, 0]  \n",
              "1                                             [5, 0]  \n",
              "2  [7, 8, 0, 1, 2, 0, 0, 0, 0, 0, 0, 0, 3, 0, 3, ...  \n",
              "3  [0, 0, 0, 0, 0, 0, 0, 0, 0, 0, 0, 0, 0, 3, 0, ...  \n",
              "4  [0, 0, 3, 0, 0, 0, 0, 0, 0, 0, 0, 5, 6, 0, 3, ...  "
            ],
            "text/html": [
              "\n",
              "  <div id=\"df-202f056e-ae13-427f-bb40-cac0c53e0b96\">\n",
              "    <div class=\"colab-df-container\">\n",
              "      <div>\n",
              "<style scoped>\n",
              "    .dataframe tbody tr th:only-of-type {\n",
              "        vertical-align: middle;\n",
              "    }\n",
              "\n",
              "    .dataframe tbody tr th {\n",
              "        vertical-align: top;\n",
              "    }\n",
              "\n",
              "    .dataframe thead th {\n",
              "        text-align: right;\n",
              "    }\n",
              "</style>\n",
              "<table border=\"1\" class=\"dataframe\">\n",
              "  <thead>\n",
              "    <tr style=\"text-align: right;\">\n",
              "      <th></th>\n",
              "      <th>words</th>\n",
              "      <th>labels</th>\n",
              "    </tr>\n",
              "  </thead>\n",
              "  <tbody>\n",
              "    <tr>\n",
              "      <th>0</th>\n",
              "      <td>[CRICKET, -, LEICESTERSHIRE, TAKE, OVER, AT, T...</td>\n",
              "      <td>[0, 0, 3, 0, 0, 0, 0, 0, 0, 0, 0]</td>\n",
              "    </tr>\n",
              "    <tr>\n",
              "      <th>1</th>\n",
              "      <td>[LONDON, 1996-08-30]</td>\n",
              "      <td>[5, 0]</td>\n",
              "    </tr>\n",
              "    <tr>\n",
              "      <th>2</th>\n",
              "      <td>[West, Indian, all-rounder, Phil, Simmons, too...</td>\n",
              "      <td>[7, 8, 0, 1, 2, 0, 0, 0, 0, 0, 0, 0, 3, 0, 3, ...</td>\n",
              "    </tr>\n",
              "    <tr>\n",
              "      <th>3</th>\n",
              "      <td>[Their, stay, on, top, ,, though, ,, may, be, ...</td>\n",
              "      <td>[0, 0, 0, 0, 0, 0, 0, 0, 0, 0, 0, 0, 0, 3, 0, ...</td>\n",
              "    </tr>\n",
              "    <tr>\n",
              "      <th>4</th>\n",
              "      <td>[After, bowling, Somerset, out, for, 83, on, t...</td>\n",
              "      <td>[0, 0, 3, 0, 0, 0, 0, 0, 0, 0, 0, 5, 6, 0, 3, ...</td>\n",
              "    </tr>\n",
              "  </tbody>\n",
              "</table>\n",
              "</div>\n",
              "      <button class=\"colab-df-convert\" onclick=\"convertToInteractive('df-202f056e-ae13-427f-bb40-cac0c53e0b96')\"\n",
              "              title=\"Convert this dataframe to an interactive table.\"\n",
              "              style=\"display:none;\">\n",
              "        \n",
              "  <svg xmlns=\"http://www.w3.org/2000/svg\" height=\"24px\"viewBox=\"0 0 24 24\"\n",
              "       width=\"24px\">\n",
              "    <path d=\"M0 0h24v24H0V0z\" fill=\"none\"/>\n",
              "    <path d=\"M18.56 5.44l.94 2.06.94-2.06 2.06-.94-2.06-.94-.94-2.06-.94 2.06-2.06.94zm-11 1L8.5 8.5l.94-2.06 2.06-.94-2.06-.94L8.5 2.5l-.94 2.06-2.06.94zm10 10l.94 2.06.94-2.06 2.06-.94-2.06-.94-.94-2.06-.94 2.06-2.06.94z\"/><path d=\"M17.41 7.96l-1.37-1.37c-.4-.4-.92-.59-1.43-.59-.52 0-1.04.2-1.43.59L10.3 9.45l-7.72 7.72c-.78.78-.78 2.05 0 2.83L4 21.41c.39.39.9.59 1.41.59.51 0 1.02-.2 1.41-.59l7.78-7.78 2.81-2.81c.8-.78.8-2.07 0-2.86zM5.41 20L4 18.59l7.72-7.72 1.47 1.35L5.41 20z\"/>\n",
              "  </svg>\n",
              "      </button>\n",
              "      \n",
              "  <style>\n",
              "    .colab-df-container {\n",
              "      display:flex;\n",
              "      flex-wrap:wrap;\n",
              "      gap: 12px;\n",
              "    }\n",
              "\n",
              "    .colab-df-convert {\n",
              "      background-color: #E8F0FE;\n",
              "      border: none;\n",
              "      border-radius: 50%;\n",
              "      cursor: pointer;\n",
              "      display: none;\n",
              "      fill: #1967D2;\n",
              "      height: 32px;\n",
              "      padding: 0 0 0 0;\n",
              "      width: 32px;\n",
              "    }\n",
              "\n",
              "    .colab-df-convert:hover {\n",
              "      background-color: #E2EBFA;\n",
              "      box-shadow: 0px 1px 2px rgba(60, 64, 67, 0.3), 0px 1px 3px 1px rgba(60, 64, 67, 0.15);\n",
              "      fill: #174EA6;\n",
              "    }\n",
              "\n",
              "    [theme=dark] .colab-df-convert {\n",
              "      background-color: #3B4455;\n",
              "      fill: #D2E3FC;\n",
              "    }\n",
              "\n",
              "    [theme=dark] .colab-df-convert:hover {\n",
              "      background-color: #434B5C;\n",
              "      box-shadow: 0px 1px 3px 1px rgba(0, 0, 0, 0.15);\n",
              "      filter: drop-shadow(0px 1px 2px rgba(0, 0, 0, 0.3));\n",
              "      fill: #FFFFFF;\n",
              "    }\n",
              "  </style>\n",
              "\n",
              "      <script>\n",
              "        const buttonEl =\n",
              "          document.querySelector('#df-202f056e-ae13-427f-bb40-cac0c53e0b96 button.colab-df-convert');\n",
              "        buttonEl.style.display =\n",
              "          google.colab.kernel.accessAllowed ? 'block' : 'none';\n",
              "\n",
              "        async function convertToInteractive(key) {\n",
              "          const element = document.querySelector('#df-202f056e-ae13-427f-bb40-cac0c53e0b96');\n",
              "          const dataTable =\n",
              "            await google.colab.kernel.invokeFunction('convertToInteractive',\n",
              "                                                     [key], {});\n",
              "          if (!dataTable) return;\n",
              "\n",
              "          const docLinkHtml = 'Like what you see? Visit the ' +\n",
              "            '<a target=\"_blank\" href=https://colab.research.google.com/notebooks/data_table.ipynb>data table notebook</a>'\n",
              "            + ' to learn more about interactive tables.';\n",
              "          element.innerHTML = '';\n",
              "          dataTable['output_type'] = 'display_data';\n",
              "          await google.colab.output.renderOutput(dataTable, element);\n",
              "          const docLink = document.createElement('div');\n",
              "          docLink.innerHTML = docLinkHtml;\n",
              "          element.appendChild(docLink);\n",
              "        }\n",
              "      </script>\n",
              "    </div>\n",
              "  </div>\n",
              "  "
            ]
          },
          "metadata": {},
          "execution_count": 12
        }
      ]
    },
    {
      "cell_type": "markdown",
      "source": [
        "Align word and labels."
      ],
      "metadata": {
        "id": "D5LTST2zMnZq"
      }
    },
    {
      "cell_type": "code",
      "source": [
        "def align_words_with_labels(df):\n",
        "  word, label = [], []\n",
        "\n",
        "  for i in range(df.shape[0]):\n",
        "    for j in range(len(df[\"words\"][i])):\n",
        "       word.append(df[\"words\"][i][j])\n",
        "       label.append(df[\"labels\"][i][j])\n",
        "\n",
        "  return pd.DataFrame({\"word\": word, \"label\": label})"
      ],
      "metadata": {
        "id": "m7J_VpnK2aTe"
      },
      "execution_count": 13,
      "outputs": []
    },
    {
      "cell_type": "code",
      "source": [
        "df_train = align_words_with_labels(df_train)\n",
        "df_test = align_words_with_labels(df_test)\n",
        "df_valid = align_words_with_labels(df_valid)"
      ],
      "metadata": {
        "id": "e9RR0OteCj7Y"
      },
      "execution_count": 14,
      "outputs": []
    },
    {
      "cell_type": "code",
      "source": [
        "df_train.head()"
      ],
      "metadata": {
        "colab": {
          "base_uri": "https://localhost:8080/",
          "height": 206
        },
        "id": "zI4epHUtCY9H",
        "outputId": "dee237da-c891-46b8-dc32-9cb81fa6af18"
      },
      "execution_count": 15,
      "outputs": [
        {
          "output_type": "execute_result",
          "data": {
            "text/plain": [
              "      word  label\n",
              "0       EU      3\n",
              "1  rejects      0\n",
              "2   German      7\n",
              "3     call      0\n",
              "4       to      0"
            ],
            "text/html": [
              "\n",
              "  <div id=\"df-2783676f-614a-43c7-a8f5-09f57f618543\">\n",
              "    <div class=\"colab-df-container\">\n",
              "      <div>\n",
              "<style scoped>\n",
              "    .dataframe tbody tr th:only-of-type {\n",
              "        vertical-align: middle;\n",
              "    }\n",
              "\n",
              "    .dataframe tbody tr th {\n",
              "        vertical-align: top;\n",
              "    }\n",
              "\n",
              "    .dataframe thead th {\n",
              "        text-align: right;\n",
              "    }\n",
              "</style>\n",
              "<table border=\"1\" class=\"dataframe\">\n",
              "  <thead>\n",
              "    <tr style=\"text-align: right;\">\n",
              "      <th></th>\n",
              "      <th>word</th>\n",
              "      <th>label</th>\n",
              "    </tr>\n",
              "  </thead>\n",
              "  <tbody>\n",
              "    <tr>\n",
              "      <th>0</th>\n",
              "      <td>EU</td>\n",
              "      <td>3</td>\n",
              "    </tr>\n",
              "    <tr>\n",
              "      <th>1</th>\n",
              "      <td>rejects</td>\n",
              "      <td>0</td>\n",
              "    </tr>\n",
              "    <tr>\n",
              "      <th>2</th>\n",
              "      <td>German</td>\n",
              "      <td>7</td>\n",
              "    </tr>\n",
              "    <tr>\n",
              "      <th>3</th>\n",
              "      <td>call</td>\n",
              "      <td>0</td>\n",
              "    </tr>\n",
              "    <tr>\n",
              "      <th>4</th>\n",
              "      <td>to</td>\n",
              "      <td>0</td>\n",
              "    </tr>\n",
              "  </tbody>\n",
              "</table>\n",
              "</div>\n",
              "      <button class=\"colab-df-convert\" onclick=\"convertToInteractive('df-2783676f-614a-43c7-a8f5-09f57f618543')\"\n",
              "              title=\"Convert this dataframe to an interactive table.\"\n",
              "              style=\"display:none;\">\n",
              "        \n",
              "  <svg xmlns=\"http://www.w3.org/2000/svg\" height=\"24px\"viewBox=\"0 0 24 24\"\n",
              "       width=\"24px\">\n",
              "    <path d=\"M0 0h24v24H0V0z\" fill=\"none\"/>\n",
              "    <path d=\"M18.56 5.44l.94 2.06.94-2.06 2.06-.94-2.06-.94-.94-2.06-.94 2.06-2.06.94zm-11 1L8.5 8.5l.94-2.06 2.06-.94-2.06-.94L8.5 2.5l-.94 2.06-2.06.94zm10 10l.94 2.06.94-2.06 2.06-.94-2.06-.94-.94-2.06-.94 2.06-2.06.94z\"/><path d=\"M17.41 7.96l-1.37-1.37c-.4-.4-.92-.59-1.43-.59-.52 0-1.04.2-1.43.59L10.3 9.45l-7.72 7.72c-.78.78-.78 2.05 0 2.83L4 21.41c.39.39.9.59 1.41.59.51 0 1.02-.2 1.41-.59l7.78-7.78 2.81-2.81c.8-.78.8-2.07 0-2.86zM5.41 20L4 18.59l7.72-7.72 1.47 1.35L5.41 20z\"/>\n",
              "  </svg>\n",
              "      </button>\n",
              "      \n",
              "  <style>\n",
              "    .colab-df-container {\n",
              "      display:flex;\n",
              "      flex-wrap:wrap;\n",
              "      gap: 12px;\n",
              "    }\n",
              "\n",
              "    .colab-df-convert {\n",
              "      background-color: #E8F0FE;\n",
              "      border: none;\n",
              "      border-radius: 50%;\n",
              "      cursor: pointer;\n",
              "      display: none;\n",
              "      fill: #1967D2;\n",
              "      height: 32px;\n",
              "      padding: 0 0 0 0;\n",
              "      width: 32px;\n",
              "    }\n",
              "\n",
              "    .colab-df-convert:hover {\n",
              "      background-color: #E2EBFA;\n",
              "      box-shadow: 0px 1px 2px rgba(60, 64, 67, 0.3), 0px 1px 3px 1px rgba(60, 64, 67, 0.15);\n",
              "      fill: #174EA6;\n",
              "    }\n",
              "\n",
              "    [theme=dark] .colab-df-convert {\n",
              "      background-color: #3B4455;\n",
              "      fill: #D2E3FC;\n",
              "    }\n",
              "\n",
              "    [theme=dark] .colab-df-convert:hover {\n",
              "      background-color: #434B5C;\n",
              "      box-shadow: 0px 1px 3px 1px rgba(0, 0, 0, 0.15);\n",
              "      filter: drop-shadow(0px 1px 2px rgba(0, 0, 0, 0.3));\n",
              "      fill: #FFFFFF;\n",
              "    }\n",
              "  </style>\n",
              "\n",
              "      <script>\n",
              "        const buttonEl =\n",
              "          document.querySelector('#df-2783676f-614a-43c7-a8f5-09f57f618543 button.colab-df-convert');\n",
              "        buttonEl.style.display =\n",
              "          google.colab.kernel.accessAllowed ? 'block' : 'none';\n",
              "\n",
              "        async function convertToInteractive(key) {\n",
              "          const element = document.querySelector('#df-2783676f-614a-43c7-a8f5-09f57f618543');\n",
              "          const dataTable =\n",
              "            await google.colab.kernel.invokeFunction('convertToInteractive',\n",
              "                                                     [key], {});\n",
              "          if (!dataTable) return;\n",
              "\n",
              "          const docLinkHtml = 'Like what you see? Visit the ' +\n",
              "            '<a target=\"_blank\" href=https://colab.research.google.com/notebooks/data_table.ipynb>data table notebook</a>'\n",
              "            + ' to learn more about interactive tables.';\n",
              "          element.innerHTML = '';\n",
              "          dataTable['output_type'] = 'display_data';\n",
              "          await google.colab.output.renderOutput(dataTable, element);\n",
              "          const docLink = document.createElement('div');\n",
              "          docLink.innerHTML = docLinkHtml;\n",
              "          element.appendChild(docLink);\n",
              "        }\n",
              "      </script>\n",
              "    </div>\n",
              "  </div>\n",
              "  "
            ]
          },
          "metadata": {},
          "execution_count": 15
        }
      ]
    },
    {
      "cell_type": "code",
      "source": [
        "df_test.head()"
      ],
      "metadata": {
        "colab": {
          "base_uri": "https://localhost:8080/",
          "height": 206
        },
        "id": "vAJTq8zaCnxf",
        "outputId": "e1d2531a-b184-4ca6-fca7-478bea801f91"
      },
      "execution_count": 16,
      "outputs": [
        {
          "output_type": "execute_result",
          "data": {
            "text/plain": [
              "     word  label\n",
              "0  SOCCER      0\n",
              "1       -      0\n",
              "2   JAPAN      5\n",
              "3     GET      0\n",
              "4   LUCKY      0"
            ],
            "text/html": [
              "\n",
              "  <div id=\"df-4b26388c-2fce-4477-b42d-92e19a1473f1\">\n",
              "    <div class=\"colab-df-container\">\n",
              "      <div>\n",
              "<style scoped>\n",
              "    .dataframe tbody tr th:only-of-type {\n",
              "        vertical-align: middle;\n",
              "    }\n",
              "\n",
              "    .dataframe tbody tr th {\n",
              "        vertical-align: top;\n",
              "    }\n",
              "\n",
              "    .dataframe thead th {\n",
              "        text-align: right;\n",
              "    }\n",
              "</style>\n",
              "<table border=\"1\" class=\"dataframe\">\n",
              "  <thead>\n",
              "    <tr style=\"text-align: right;\">\n",
              "      <th></th>\n",
              "      <th>word</th>\n",
              "      <th>label</th>\n",
              "    </tr>\n",
              "  </thead>\n",
              "  <tbody>\n",
              "    <tr>\n",
              "      <th>0</th>\n",
              "      <td>SOCCER</td>\n",
              "      <td>0</td>\n",
              "    </tr>\n",
              "    <tr>\n",
              "      <th>1</th>\n",
              "      <td>-</td>\n",
              "      <td>0</td>\n",
              "    </tr>\n",
              "    <tr>\n",
              "      <th>2</th>\n",
              "      <td>JAPAN</td>\n",
              "      <td>5</td>\n",
              "    </tr>\n",
              "    <tr>\n",
              "      <th>3</th>\n",
              "      <td>GET</td>\n",
              "      <td>0</td>\n",
              "    </tr>\n",
              "    <tr>\n",
              "      <th>4</th>\n",
              "      <td>LUCKY</td>\n",
              "      <td>0</td>\n",
              "    </tr>\n",
              "  </tbody>\n",
              "</table>\n",
              "</div>\n",
              "      <button class=\"colab-df-convert\" onclick=\"convertToInteractive('df-4b26388c-2fce-4477-b42d-92e19a1473f1')\"\n",
              "              title=\"Convert this dataframe to an interactive table.\"\n",
              "              style=\"display:none;\">\n",
              "        \n",
              "  <svg xmlns=\"http://www.w3.org/2000/svg\" height=\"24px\"viewBox=\"0 0 24 24\"\n",
              "       width=\"24px\">\n",
              "    <path d=\"M0 0h24v24H0V0z\" fill=\"none\"/>\n",
              "    <path d=\"M18.56 5.44l.94 2.06.94-2.06 2.06-.94-2.06-.94-.94-2.06-.94 2.06-2.06.94zm-11 1L8.5 8.5l.94-2.06 2.06-.94-2.06-.94L8.5 2.5l-.94 2.06-2.06.94zm10 10l.94 2.06.94-2.06 2.06-.94-2.06-.94-.94-2.06-.94 2.06-2.06.94z\"/><path d=\"M17.41 7.96l-1.37-1.37c-.4-.4-.92-.59-1.43-.59-.52 0-1.04.2-1.43.59L10.3 9.45l-7.72 7.72c-.78.78-.78 2.05 0 2.83L4 21.41c.39.39.9.59 1.41.59.51 0 1.02-.2 1.41-.59l7.78-7.78 2.81-2.81c.8-.78.8-2.07 0-2.86zM5.41 20L4 18.59l7.72-7.72 1.47 1.35L5.41 20z\"/>\n",
              "  </svg>\n",
              "      </button>\n",
              "      \n",
              "  <style>\n",
              "    .colab-df-container {\n",
              "      display:flex;\n",
              "      flex-wrap:wrap;\n",
              "      gap: 12px;\n",
              "    }\n",
              "\n",
              "    .colab-df-convert {\n",
              "      background-color: #E8F0FE;\n",
              "      border: none;\n",
              "      border-radius: 50%;\n",
              "      cursor: pointer;\n",
              "      display: none;\n",
              "      fill: #1967D2;\n",
              "      height: 32px;\n",
              "      padding: 0 0 0 0;\n",
              "      width: 32px;\n",
              "    }\n",
              "\n",
              "    .colab-df-convert:hover {\n",
              "      background-color: #E2EBFA;\n",
              "      box-shadow: 0px 1px 2px rgba(60, 64, 67, 0.3), 0px 1px 3px 1px rgba(60, 64, 67, 0.15);\n",
              "      fill: #174EA6;\n",
              "    }\n",
              "\n",
              "    [theme=dark] .colab-df-convert {\n",
              "      background-color: #3B4455;\n",
              "      fill: #D2E3FC;\n",
              "    }\n",
              "\n",
              "    [theme=dark] .colab-df-convert:hover {\n",
              "      background-color: #434B5C;\n",
              "      box-shadow: 0px 1px 3px 1px rgba(0, 0, 0, 0.15);\n",
              "      filter: drop-shadow(0px 1px 2px rgba(0, 0, 0, 0.3));\n",
              "      fill: #FFFFFF;\n",
              "    }\n",
              "  </style>\n",
              "\n",
              "      <script>\n",
              "        const buttonEl =\n",
              "          document.querySelector('#df-4b26388c-2fce-4477-b42d-92e19a1473f1 button.colab-df-convert');\n",
              "        buttonEl.style.display =\n",
              "          google.colab.kernel.accessAllowed ? 'block' : 'none';\n",
              "\n",
              "        async function convertToInteractive(key) {\n",
              "          const element = document.querySelector('#df-4b26388c-2fce-4477-b42d-92e19a1473f1');\n",
              "          const dataTable =\n",
              "            await google.colab.kernel.invokeFunction('convertToInteractive',\n",
              "                                                     [key], {});\n",
              "          if (!dataTable) return;\n",
              "\n",
              "          const docLinkHtml = 'Like what you see? Visit the ' +\n",
              "            '<a target=\"_blank\" href=https://colab.research.google.com/notebooks/data_table.ipynb>data table notebook</a>'\n",
              "            + ' to learn more about interactive tables.';\n",
              "          element.innerHTML = '';\n",
              "          dataTable['output_type'] = 'display_data';\n",
              "          await google.colab.output.renderOutput(dataTable, element);\n",
              "          const docLink = document.createElement('div');\n",
              "          docLink.innerHTML = docLinkHtml;\n",
              "          element.appendChild(docLink);\n",
              "        }\n",
              "      </script>\n",
              "    </div>\n",
              "  </div>\n",
              "  "
            ]
          },
          "metadata": {},
          "execution_count": 16
        }
      ]
    },
    {
      "cell_type": "code",
      "source": [
        "df_valid.head()"
      ],
      "metadata": {
        "colab": {
          "base_uri": "https://localhost:8080/",
          "height": 206
        },
        "id": "nkBjbR3RCqZz",
        "outputId": "e2888d9c-483b-4dc4-9178-73e4d08ab2b6"
      },
      "execution_count": 17,
      "outputs": [
        {
          "output_type": "execute_result",
          "data": {
            "text/plain": [
              "             word  label\n",
              "0         CRICKET      0\n",
              "1               -      0\n",
              "2  LEICESTERSHIRE      3\n",
              "3            TAKE      0\n",
              "4            OVER      0"
            ],
            "text/html": [
              "\n",
              "  <div id=\"df-9c5d4725-79da-46da-b61c-abcbd8456854\">\n",
              "    <div class=\"colab-df-container\">\n",
              "      <div>\n",
              "<style scoped>\n",
              "    .dataframe tbody tr th:only-of-type {\n",
              "        vertical-align: middle;\n",
              "    }\n",
              "\n",
              "    .dataframe tbody tr th {\n",
              "        vertical-align: top;\n",
              "    }\n",
              "\n",
              "    .dataframe thead th {\n",
              "        text-align: right;\n",
              "    }\n",
              "</style>\n",
              "<table border=\"1\" class=\"dataframe\">\n",
              "  <thead>\n",
              "    <tr style=\"text-align: right;\">\n",
              "      <th></th>\n",
              "      <th>word</th>\n",
              "      <th>label</th>\n",
              "    </tr>\n",
              "  </thead>\n",
              "  <tbody>\n",
              "    <tr>\n",
              "      <th>0</th>\n",
              "      <td>CRICKET</td>\n",
              "      <td>0</td>\n",
              "    </tr>\n",
              "    <tr>\n",
              "      <th>1</th>\n",
              "      <td>-</td>\n",
              "      <td>0</td>\n",
              "    </tr>\n",
              "    <tr>\n",
              "      <th>2</th>\n",
              "      <td>LEICESTERSHIRE</td>\n",
              "      <td>3</td>\n",
              "    </tr>\n",
              "    <tr>\n",
              "      <th>3</th>\n",
              "      <td>TAKE</td>\n",
              "      <td>0</td>\n",
              "    </tr>\n",
              "    <tr>\n",
              "      <th>4</th>\n",
              "      <td>OVER</td>\n",
              "      <td>0</td>\n",
              "    </tr>\n",
              "  </tbody>\n",
              "</table>\n",
              "</div>\n",
              "      <button class=\"colab-df-convert\" onclick=\"convertToInteractive('df-9c5d4725-79da-46da-b61c-abcbd8456854')\"\n",
              "              title=\"Convert this dataframe to an interactive table.\"\n",
              "              style=\"display:none;\">\n",
              "        \n",
              "  <svg xmlns=\"http://www.w3.org/2000/svg\" height=\"24px\"viewBox=\"0 0 24 24\"\n",
              "       width=\"24px\">\n",
              "    <path d=\"M0 0h24v24H0V0z\" fill=\"none\"/>\n",
              "    <path d=\"M18.56 5.44l.94 2.06.94-2.06 2.06-.94-2.06-.94-.94-2.06-.94 2.06-2.06.94zm-11 1L8.5 8.5l.94-2.06 2.06-.94-2.06-.94L8.5 2.5l-.94 2.06-2.06.94zm10 10l.94 2.06.94-2.06 2.06-.94-2.06-.94-.94-2.06-.94 2.06-2.06.94z\"/><path d=\"M17.41 7.96l-1.37-1.37c-.4-.4-.92-.59-1.43-.59-.52 0-1.04.2-1.43.59L10.3 9.45l-7.72 7.72c-.78.78-.78 2.05 0 2.83L4 21.41c.39.39.9.59 1.41.59.51 0 1.02-.2 1.41-.59l7.78-7.78 2.81-2.81c.8-.78.8-2.07 0-2.86zM5.41 20L4 18.59l7.72-7.72 1.47 1.35L5.41 20z\"/>\n",
              "  </svg>\n",
              "      </button>\n",
              "      \n",
              "  <style>\n",
              "    .colab-df-container {\n",
              "      display:flex;\n",
              "      flex-wrap:wrap;\n",
              "      gap: 12px;\n",
              "    }\n",
              "\n",
              "    .colab-df-convert {\n",
              "      background-color: #E8F0FE;\n",
              "      border: none;\n",
              "      border-radius: 50%;\n",
              "      cursor: pointer;\n",
              "      display: none;\n",
              "      fill: #1967D2;\n",
              "      height: 32px;\n",
              "      padding: 0 0 0 0;\n",
              "      width: 32px;\n",
              "    }\n",
              "\n",
              "    .colab-df-convert:hover {\n",
              "      background-color: #E2EBFA;\n",
              "      box-shadow: 0px 1px 2px rgba(60, 64, 67, 0.3), 0px 1px 3px 1px rgba(60, 64, 67, 0.15);\n",
              "      fill: #174EA6;\n",
              "    }\n",
              "\n",
              "    [theme=dark] .colab-df-convert {\n",
              "      background-color: #3B4455;\n",
              "      fill: #D2E3FC;\n",
              "    }\n",
              "\n",
              "    [theme=dark] .colab-df-convert:hover {\n",
              "      background-color: #434B5C;\n",
              "      box-shadow: 0px 1px 3px 1px rgba(0, 0, 0, 0.15);\n",
              "      filter: drop-shadow(0px 1px 2px rgba(0, 0, 0, 0.3));\n",
              "      fill: #FFFFFF;\n",
              "    }\n",
              "  </style>\n",
              "\n",
              "      <script>\n",
              "        const buttonEl =\n",
              "          document.querySelector('#df-9c5d4725-79da-46da-b61c-abcbd8456854 button.colab-df-convert');\n",
              "        buttonEl.style.display =\n",
              "          google.colab.kernel.accessAllowed ? 'block' : 'none';\n",
              "\n",
              "        async function convertToInteractive(key) {\n",
              "          const element = document.querySelector('#df-9c5d4725-79da-46da-b61c-abcbd8456854');\n",
              "          const dataTable =\n",
              "            await google.colab.kernel.invokeFunction('convertToInteractive',\n",
              "                                                     [key], {});\n",
              "          if (!dataTable) return;\n",
              "\n",
              "          const docLinkHtml = 'Like what you see? Visit the ' +\n",
              "            '<a target=\"_blank\" href=https://colab.research.google.com/notebooks/data_table.ipynb>data table notebook</a>'\n",
              "            + ' to learn more about interactive tables.';\n",
              "          element.innerHTML = '';\n",
              "          dataTable['output_type'] = 'display_data';\n",
              "          await google.colab.output.renderOutput(dataTable, element);\n",
              "          const docLink = document.createElement('div');\n",
              "          docLink.innerHTML = docLinkHtml;\n",
              "          element.appendChild(docLink);\n",
              "        }\n",
              "      </script>\n",
              "    </div>\n",
              "  </div>\n",
              "  "
            ]
          },
          "metadata": {},
          "execution_count": 17
        }
      ]
    },
    {
      "cell_type": "code",
      "source": [
        "from sklearn import preprocessing\n",
        "label_encoder = preprocessing.LabelEncoder()\n",
        "df_train[\"label\"] = label_encoder.fit_transform(df_train[\"label\"])\n",
        "df_test[\"label\"] = label_encoder.fit_transform(df_test[\"label\"])"
      ],
      "metadata": {
        "id": "GqiC-mwZdTUC"
      },
      "execution_count": 18,
      "outputs": []
    },
    {
      "cell_type": "code",
      "source": [
        "y_train = df_train[\"label\"]\n",
        "x_train = df_train.drop(\"word\", axis=1)\n",
        "y_test = df_test[\"label\"]\n",
        "x_test = df_test.drop(\"word\", axis=1)"
      ],
      "metadata": {
        "id": "PL_VillVMt3_"
      },
      "execution_count": 19,
      "outputs": []
    },
    {
      "cell_type": "markdown",
      "source": [
        "**OHE**"
      ],
      "metadata": {
        "id": "gzqxvRsaNRIN"
      }
    },
    {
      "cell_type": "code",
      "source": [
        "import tensorflow as tf\n",
        "ohe = tf.keras.layers.CategoryEncoding(num_tokens=9, output_mode=\"one_hot\")\n",
        "y_train = ohe(y_train)\n",
        "y_test = ohe(y_test)"
      ],
      "metadata": {
        "id": "LHci3mMFNPpF"
      },
      "execution_count": 20,
      "outputs": []
    },
    {
      "cell_type": "code",
      "source": [
        "y_train"
      ],
      "metadata": {
        "colab": {
          "base_uri": "https://localhost:8080/"
        },
        "id": "JKU6BPUcPz-N",
        "outputId": "be71448e-f822-4968-cbbb-8da299af1f40"
      },
      "execution_count": 21,
      "outputs": [
        {
          "output_type": "execute_result",
          "data": {
            "text/plain": [
              "<tf.Tensor: shape=(203621, 9), dtype=float32, numpy=\n",
              "array([[0., 0., 0., ..., 0., 0., 0.],\n",
              "       [1., 0., 0., ..., 0., 0., 0.],\n",
              "       [0., 0., 0., ..., 0., 1., 0.],\n",
              "       ...,\n",
              "       [1., 0., 0., ..., 0., 0., 0.],\n",
              "       [0., 0., 0., ..., 0., 0., 0.],\n",
              "       [1., 0., 0., ..., 0., 0., 0.]], dtype=float32)>"
            ]
          },
          "metadata": {},
          "execution_count": 21
        }
      ]
    },
    {
      "cell_type": "markdown",
      "source": [
        "**DistilBERT**"
      ],
      "metadata": {
        "id": "9Vc3xiEm2BS3"
      }
    },
    {
      "cell_type": "code",
      "source": [
        "%pip install -qq tensorflow_hub\n",
        "%pip install -U -qq tensorflow_text"
      ],
      "metadata": {
        "id": "0trJco6f2dpt"
      },
      "execution_count": 22,
      "outputs": []
    },
    {
      "cell_type": "code",
      "source": [
        "import tensorflow_hub as hub\n",
        "import tensorflow_text as text"
      ],
      "metadata": {
        "id": "tSYS1V2ouTG0"
      },
      "execution_count": 23,
      "outputs": []
    },
    {
      "cell_type": "markdown",
      "source": [
        "**Preprocess**"
      ],
      "metadata": {
        "id": "_k3X_MSo18Ue"
      }
    },
    {
      "cell_type": "code",
      "source": [
        "preprocess = hub.KerasLayer(\"https://tfhub.dev/tensorflow/bert_en_uncased_preprocess/3\")"
      ],
      "metadata": {
        "id": "2NmcOM5vZBIa"
      },
      "execution_count": 45,
      "outputs": []
    },
    {
      "cell_type": "code",
      "source": [
        "def pre_process(example):  \n",
        "  return preprocess(example)"
      ],
      "metadata": {
        "id": "dnvn99wm1-VD"
      },
      "execution_count": 46,
      "outputs": []
    },
    {
      "cell_type": "markdown",
      "source": [
        "**Encoder**"
      ],
      "metadata": {
        "id": "1UoY4cqCxOU4"
      }
    },
    {
      "cell_type": "code",
      "source": [
        "encoder = hub.KerasLayer(\"https://tfhub.dev/tensorflow/bert_en_uncased_L-12_H-768_A-12/4\")"
      ],
      "metadata": {
        "id": "_bz2MY_qZE5x"
      },
      "execution_count": 48,
      "outputs": []
    },
    {
      "cell_type": "code",
      "source": [
        "def encode_input(preprocessed_text):  \n",
        "  return encoder(preprocessed_text)"
      ],
      "metadata": {
        "id": "gYpxr0DKxixI"
      },
      "execution_count": 49,
      "outputs": []
    },
    {
      "cell_type": "code",
      "source": [
        "encode_input(pre_process([\"CRICKET\"]))[\"pooled_output\"]"
      ],
      "metadata": {
        "colab": {
          "base_uri": "https://localhost:8080/"
        },
        "id": "osQaU9YBptpA",
        "outputId": "02b7dbff-13ea-4bae-ae8b-ea97d4632c18"
      },
      "execution_count": 51,
      "outputs": [
        {
          "output_type": "execute_result",
          "data": {
            "text/plain": [
              "<tf.Tensor: shape=(1, 768), dtype=float32, numpy=\n",
              "array([[-0.92026347, -0.40817994, -0.26689175,  0.7907777 ,  0.27910346,\n",
              "        -0.08950261,  0.91574216,  0.3270939 , -0.29746428, -0.9999853 ,\n",
              "        -0.37653992,  0.82170445,  0.9844829 , -0.03137169,  0.91738856,\n",
              "        -0.6537362 , -0.46163368, -0.60614115,  0.38942084, -0.6955212 ,\n",
              "         0.6009076 ,  0.9965876 ,  0.33782148,  0.2889657 ,  0.42098036,\n",
              "         0.875868  , -0.7644791 ,  0.9221854 ,  0.9521526 ,  0.7387567 ,\n",
              "        -0.62886405,  0.31471002, -0.98837394, -0.25009716, -0.17155838,\n",
              "        -0.9919301 ,  0.40328586, -0.7852357 ,  0.03087327, -0.10034633,\n",
              "        -0.8894082 ,  0.3517057 ,  0.9997983 ,  0.1274255 ,  0.16281755,\n",
              "        -0.3905328 , -0.99999875,  0.3105498 , -0.8838598 ,  0.451916  ,\n",
              "         0.29466912,  0.25107566,  0.1498308 ,  0.5030369 ,  0.43993154,\n",
              "         0.12921676,  0.05952758,  0.22110145, -0.23393197, -0.59752804,\n",
              "        -0.56546617,  0.4240009 , -0.41598165, -0.91628456,  0.51859635,\n",
              "        -0.21650608, -0.12630941, -0.37867638, -0.05841729,  0.05998792,\n",
              "         0.8314443 ,  0.25822204,  0.16909589, -0.729579  ,  0.01933426,\n",
              "         0.25229567, -0.56493974,  1.        , -0.6255007 , -0.9824799 ,\n",
              "         0.1056449 ,  0.10518532,  0.44371784,  0.26212704, -0.4449491 ,\n",
              "        -1.        ,  0.42667696, -0.20550174, -0.99075085,  0.338014  ,\n",
              "         0.5745165 , -0.21333201, -0.53260326,  0.4650737 , -0.1852372 ,\n",
              "        -0.33460498, -0.29366893, -0.27004308, -0.30051365, -0.22531015,\n",
              "         0.04229552, -0.21773967, -0.15150626, -0.3376893 ,  0.24629673,\n",
              "        -0.5200299 , -0.5182593 ,  0.28247344, -0.11532991,  0.6816614 ,\n",
              "         0.31348383, -0.34857905,  0.4072952 , -0.9679559 ,  0.66198975,\n",
              "        -0.30785403, -0.9850601 , -0.5083213 , -0.9911606 ,  0.7162124 ,\n",
              "        -0.2667778 , -0.25938836,  0.94579923,  0.46111497,  0.306077  ,\n",
              "        -0.11392119, -0.4075702 , -1.        , -0.5591729 , -0.3855847 ,\n",
              "         0.01207136, -0.24249274, -0.9828867 , -0.9574688 ,  0.6259046 ,\n",
              "         0.94763964,  0.20655023,  0.9994878 , -0.3261494 ,  0.93759316,\n",
              "        -0.02177113, -0.54510874,  0.28007188, -0.4439747 ,  0.39541885,\n",
              "         0.4284097 , -0.72183156,  0.2814151 , -0.28080633,  0.05882768,\n",
              "        -0.48951817, -0.3258212 , -0.13848545, -0.9147505 , -0.4924903 ,\n",
              "         0.93404937, -0.06744934, -0.32083532,  0.52984184, -0.3168851 ,\n",
              "        -0.48787963,  0.8241548 ,  0.50373113,  0.33487484, -0.17732282,\n",
              "         0.47457597, -0.1811235 ,  0.61799693, -0.8491845 , -0.04631829,\n",
              "         0.4652032 , -0.3323696 , -0.12561184, -0.9780959 , -0.44245327,\n",
              "         0.5588274 ,  0.9888683 ,  0.82603925,  0.27237678,  0.59686244,\n",
              "        -0.18995163,  0.63147146, -0.9478582 ,  0.97864926, -0.25385278,\n",
              "         0.29402253,  0.37294117, -0.08074243, -0.8896689 , -0.4120102 ,\n",
              "         0.87638646, -0.42183203, -0.8507538 , -0.09016989, -0.44463274,\n",
              "        -0.4233662 , -0.26065758,  0.6874823 , -0.34039807, -0.43040538,\n",
              "        -0.10664985,  0.89748794,  0.96946985,  0.7974264 , -0.30635923,\n",
              "         0.6773697 , -0.93157935, -0.44605103,  0.20670587,  0.30466956,\n",
              "         0.15132633,  0.99512637, -0.12684856, -0.22222775, -0.9075673 ,\n",
              "        -0.9827509 ,  0.13024192, -0.90640074, -0.10360214, -0.73158216,\n",
              "         0.510778  ,  0.54824775, -0.00762897,  0.40574214, -0.98223376,\n",
              "        -0.76982266,  0.41748106, -0.33937246,  0.3544727 , -0.21533346,\n",
              "         0.28145057,  0.45453784, -0.62109596,  0.7077138 ,  0.8617613 ,\n",
              "        -0.07450669, -0.69568664,  0.8186189 , -0.25930852,  0.8969204 ,\n",
              "        -0.69139034,  0.9900883 ,  0.54189533,  0.65930885, -0.9486751 ,\n",
              "        -0.01395443, -0.9158893 , -0.1431494 , -0.16069697, -0.61568123,\n",
              "         0.38495734,  0.47147566,  0.3886291 ,  0.7650601 , -0.66570604,\n",
              "         0.9964624 , -0.21598104, -0.95782626,  0.18159184, -0.09363049,\n",
              "        -0.9872311 ,  0.39916486,  0.3601386 , -0.12222852, -0.46743244,\n",
              "        -0.55586016, -0.94772965,  0.91087145,  0.18673082,  0.9885647 ,\n",
              "         0.10663588, -0.93052965, -0.48313656, -0.90257674, -0.10269447,\n",
              "        -0.09444676,  0.36591908, -0.07336644, -0.9543288 ,  0.45922267,\n",
              "         0.5789128 ,  0.5268682 ,  0.00601469,  0.99801177,  0.9999823 ,\n",
              "         0.9719516 ,  0.89102435,  0.90661734, -0.9908594 , -0.18158065,\n",
              "         0.99999094, -0.9200358 , -1.        , -0.9439018 , -0.7099646 ,\n",
              "         0.5435201 , -1.        , -0.07300368, -0.03387935, -0.9268763 ,\n",
              "         0.14477283,  0.98098993,  0.9906932 , -1.        ,  0.89481187,\n",
              "         0.93881875, -0.5836457 ,  0.774775  , -0.2270261 ,  0.97740054,\n",
              "         0.33745772,  0.39417693, -0.20698565,  0.4294427 , -0.5191122 ,\n",
              "        -0.888569  ,  0.07870653,  0.14472817,  0.91386503,  0.23893604,\n",
              "        -0.7663027 , -0.90725666,  0.13759984, -0.08662142, -0.26512095,\n",
              "        -0.9511422 , -0.19913447,  0.10976781,  0.69371784,  0.13048469,\n",
              "         0.2832255 , -0.74003476,  0.31085247, -0.71661747,  0.4168478 ,\n",
              "         0.56926906, -0.9444431 , -0.7010246 , -0.32009572, -0.16242325,\n",
              "         0.1447355 , -0.942811  ,  0.966827  , -0.31566855,  0.67738783,\n",
              "         1.        ,  0.07038286, -0.90122527,  0.36760232,  0.23761025,\n",
              "        -0.25747895,  1.        ,  0.60419285, -0.9804847 , -0.47999242,\n",
              "         0.27103886, -0.5254123 , -0.47860056,  0.99942964, -0.20021234,\n",
              "        -0.03441584,  0.1378958 ,  0.9820907 , -0.98938644,  0.8566116 ,\n",
              "        -0.91869026, -0.96593666,  0.96125215,  0.9300243 , -0.45293912,\n",
              "        -0.7699701 ,  0.19841053,  0.04965319,  0.36872935, -0.9457457 ,\n",
              "         0.72225106,  0.587542  , -0.06610546,  0.89750093, -0.89778763,\n",
              "        -0.45005316,  0.4785319 , -0.30709738, -0.08046533,  0.45472965,\n",
              "         0.54009145, -0.25400278,  0.08200203, -0.30527577, -0.16406183,\n",
              "        -0.967323  ,  0.05778693,  1.        , -0.16551588,  0.06965289,\n",
              "        -0.2789655 , -0.03043175, -0.20329988,  0.5237129 ,  0.50378114,\n",
              "        -0.42726147, -0.8421757 ,  0.16597351, -0.81859213, -0.98544836,\n",
              "         0.74625605,  0.26864225, -0.3438968 ,  0.999949  ,  0.2546188 ,\n",
              "         0.238684  ,  0.12360754,  0.82858515,  0.04354668,  0.5524971 ,\n",
              "         0.03740043,  0.9766851 , -0.29361308,  0.43705928,  0.8691733 ,\n",
              "        -0.34410784, -0.26746348, -0.7023392 ,  0.15940118, -0.91782373,\n",
              "        -0.00779121, -0.94710314,  0.95497316,  0.64067894,  0.40189153,\n",
              "         0.18597762,  0.01954709,  1.        , -0.22792888,  0.60151815,\n",
              "        -0.557395  ,  0.8184931 , -0.97432506, -0.70385766, -0.4180251 ,\n",
              "        -0.07953683, -0.16494343, -0.28238523,  0.2906048 , -0.9743837 ,\n",
              "         0.1561339 ,  0.19316009, -0.96855056, -0.99231744,  0.16930819,\n",
              "         0.80271554,  0.13804112, -0.8461067 , -0.73734194, -0.6293431 ,\n",
              "         0.5545074 , -0.36955237, -0.93804073,  0.35818726, -0.24598357,\n",
              "         0.44963068, -0.24996589,  0.49340138, -0.12455594,  0.8231334 ,\n",
              "         0.18290332, -0.08847287, -0.16274455, -0.86031985,  0.87654424,\n",
              "        -0.8368693 , -0.29860297, -0.20084658,  1.        , -0.5174942 ,\n",
              "         0.22530018,  0.73319143,  0.69899553, -0.2130357 ,  0.22396344,\n",
              "         0.2545129 ,  0.24349317,  0.03809729, -0.33745995, -0.7670507 ,\n",
              "        -0.4009187 ,  0.573896  , -0.17803353, -0.3818001 ,  0.85501224,\n",
              "         0.5724463 ,  0.3386174 , -0.02136943,  0.09012764,  0.9991487 ,\n",
              "        -0.32888913, -0.11690682, -0.3642785 , -0.10314468, -0.38991532,\n",
              "        -0.6497916 ,  1.        ,  0.4150818 ,  0.0958517 , -0.9911577 ,\n",
              "        -0.3663818 , -0.9407654 ,  0.99993783,  0.8001298 , -0.8618673 ,\n",
              "         0.67786217,  0.49756384, -0.2194394 ,  0.78947586, -0.29233906,\n",
              "        -0.21743679,  0.21658178,  0.15785976,  0.9599662 , -0.3743163 ,\n",
              "        -0.96235096, -0.6062309 ,  0.49116257, -0.9469466 ,  0.98933697,\n",
              "        -0.5977411 , -0.2184851 , -0.42940506,  0.07729738,  0.74239767,\n",
              "         0.08667839, -0.9731522 , -0.2114522 ,  0.12912416,  0.9689953 ,\n",
              "         0.15584183, -0.453573  , -0.8930177 ,  0.12741211,  0.4990849 ,\n",
              "        -0.4215483 , -0.92307377,  0.9714079 , -0.9764722 ,  0.44235817,\n",
              "         1.        ,  0.28985366, -0.21183352,  0.31959414, -0.40221897,\n",
              "         0.27781153, -0.10861211,  0.6424018 , -0.9436863 , -0.24156044,\n",
              "        -0.22865318,  0.37379542, -0.19939569,  0.11933587,  0.73330057,\n",
              "         0.1614421 , -0.4720517 , -0.62860864, -0.08953501,  0.4893076 ,\n",
              "         0.8338317 , -0.3206171 , -0.17903116,  0.14280055, -0.0945738 ,\n",
              "        -0.9080844 , -0.37475318, -0.32600224, -0.99906254,  0.6590926 ,\n",
              "        -1.        , -0.02606872, -0.45827737, -0.24424891,  0.81367487,\n",
              "         0.06376682,  0.01773081, -0.7784566 , -0.21551986,  0.67345226,\n",
              "         0.77597314, -0.38556924, -0.339291  , -0.7867492 ,  0.2876172 ,\n",
              "        -0.03032243,  0.27631882,  0.09404691,  0.688648  , -0.19239053,\n",
              "         1.        ,  0.18683842, -0.4824506 , -0.9698815 ,  0.2967151 ,\n",
              "        -0.23974861,  0.99999684, -0.9156187 , -0.9542667 ,  0.20888837,\n",
              "        -0.5708265 , -0.77917796,  0.2591669 ,  0.0150504 , -0.7686246 ,\n",
              "        -0.6695496 ,  0.9337598 ,  0.8574602 , -0.44939855,  0.34365937,\n",
              "        -0.38299245, -0.5015019 ,  0.11287943,  0.22465111,  0.9877274 ,\n",
              "         0.34462848,  0.91329396,  0.60034966,  0.06236668,  0.9468413 ,\n",
              "         0.21188697,  0.7168208 ,  0.1950046 ,  1.        ,  0.41971987,\n",
              "        -0.9368021 ,  0.10388914, -0.9809368 , -0.28871405, -0.9529049 ,\n",
              "         0.36339048,  0.15870112,  0.8684827 , -0.30663225,  0.966575  ,\n",
              "        -0.0807992 ,  0.16011316, -0.32100022,  0.26502535,  0.34816647,\n",
              "        -0.9200895 , -0.98405296, -0.9877913 ,  0.44501054, -0.46282196,\n",
              "        -0.14444482,  0.3310218 ,  0.23371406,  0.46099555,  0.36955753,\n",
              "        -1.        ,  0.9363515 ,  0.45181158,  0.16269381,  0.97080845,\n",
              "         0.44143826,  0.3527616 ,  0.3408717 , -0.9883036 , -0.95689917,\n",
              "        -0.3907358 , -0.38511318,  0.86353844,  0.6762575 ,  0.83845276,\n",
              "         0.5181929 , -0.5169774 , -0.36892712,  0.22535896, -0.19227773,\n",
              "        -0.9918848 ,  0.5183844 , -0.01700044, -0.9631066 ,  0.95588225,\n",
              "        -0.5961118 , -0.15458855,  0.5159969 , -0.23837705,  0.95078653,\n",
              "         0.8231765 ,  0.5233307 ,  0.131669  ,  0.67017156,  0.8993408 ,\n",
              "         0.952218  ,  0.98866916, -0.24716191,  0.7830964 , -0.14533803,\n",
              "         0.42448112,  0.52095133, -0.9412151 ,  0.16642052,  0.07136156,\n",
              "        -0.16461903,  0.38191378, -0.2403136 , -0.96317303,  0.59710824,\n",
              "        -0.22665937,  0.6903001 , -0.29876986,  0.04490124, -0.4235254 ,\n",
              "        -0.21655524, -0.7865258 , -0.6301843 ,  0.5564856 ,  0.34820235,\n",
              "         0.9252997 ,  0.44425708, -0.07813069, -0.7197524 , -0.28300893,\n",
              "         0.07330877, -0.92724204,  0.9497222 , -0.1570439 ,  0.46199873,\n",
              "         0.18908036,  0.1287595 ,  0.6515861 , -0.14639127, -0.37575722,\n",
              "        -0.37318572, -0.7817202 ,  0.84965795, -0.3233909 , -0.56378514,\n",
              "        -0.590561  ,  0.778898  ,  0.39669397,  0.9983365 , -0.13050073,\n",
              "        -0.43761402, -0.22788237, -0.2986489 ,  0.37204438, -0.30817947,\n",
              "        -1.        ,  0.508476  , -0.0747482 ,  0.15902705, -0.37602606,\n",
              "         0.26966947, -0.42962044, -0.9806704 , -0.24719349,  0.12603502,\n",
              "         0.17500348, -0.49989596, -0.71170396,  0.4523558 ,  0.03364016,\n",
              "         0.7811131 ,  0.88810474, -0.23920195,  0.5557046 ,  0.54100114,\n",
              "        -0.19524473, -0.6291098 ,  0.88740003]], dtype=float32)>"
            ]
          },
          "metadata": {},
          "execution_count": 51
        }
      ]
    },
    {
      "cell_type": "markdown",
      "source": [
        "**Model**"
      ],
      "metadata": {
        "id": "uNsS8zGNEnbi"
      }
    },
    {
      "cell_type": "code",
      "source": [
        "import tensorflow as tf\n",
        "from tensorflow import keras\n",
        "inputs = keras.layers.Input(shape=(), dtype=tf.string, name=\"inputs\")\n",
        "preprocess = pre_process(inputs)\n",
        "encoder = encode_input(preprocess)\n",
        "\n",
        "#NN\n",
        "nn1 = keras.layers.Dropout(0.1, name=\"dropout\")(encoder[\"pooled_output\"])\n",
        "nn1 = keras.layers.Dense(9, activation=\"softmax\", name=\"output\")(nn1)\n",
        "\n",
        "#Final Model\n",
        "model = keras.Model(inputs=[inputs], outputs=[nn1])"
      ],
      "metadata": {
        "id": "hQCMc-UQEpHa"
      },
      "execution_count": 28,
      "outputs": []
    },
    {
      "cell_type": "code",
      "source": [
        "model.summary()"
      ],
      "metadata": {
        "colab": {
          "base_uri": "https://localhost:8080/"
        },
        "id": "gRae2D5KRgdI",
        "outputId": "7c03e781-e00e-47ed-db82-c7644cb5ccfc"
      },
      "execution_count": 29,
      "outputs": [
        {
          "output_type": "stream",
          "name": "stdout",
          "text": [
            "Model: \"model\"\n",
            "__________________________________________________________________________________________________\n",
            " Layer (type)                   Output Shape         Param #     Connected to                     \n",
            "==================================================================================================\n",
            " inputs (InputLayer)            [(None,)]            0           []                               \n",
            "                                                                                                  \n",
            " keras_layer (KerasLayer)       {'input_mask': (Non  0           ['inputs[0][0]']                 \n",
            "                                e, 128),                                                          \n",
            "                                 'input_word_ids':                                                \n",
            "                                (None, 128),                                                      \n",
            "                                 'input_type_ids':                                                \n",
            "                                (None, 128)}                                                      \n",
            "                                                                                                  \n",
            " keras_layer_1 (KerasLayer)     {'default': (None,   109482241   ['keras_layer[0][0]',            \n",
            "                                768),                             'keras_layer[0][1]',            \n",
            "                                 'pooled_output': (               'keras_layer[0][2]']            \n",
            "                                None, 768),                                                       \n",
            "                                 'sequence_output':                                               \n",
            "                                 (None, 128, 768),                                                \n",
            "                                 'encoder_outputs':                                               \n",
            "                                 [(None, 128, 768),                                               \n",
            "                                 (None, 128, 768),                                                \n",
            "                                 (None, 128, 768),                                                \n",
            "                                 (None, 128, 768),                                                \n",
            "                                 (None, 128, 768),                                                \n",
            "                                 (None, 128, 768),                                                \n",
            "                                 (None, 128, 768),                                                \n",
            "                                 (None, 128, 768),                                                \n",
            "                                 (None, 128, 768),                                                \n",
            "                                 (None, 128, 768),                                                \n",
            "                                 (None, 128, 768),                                                \n",
            "                                 (None, 128, 768)]}                                               \n",
            "                                                                                                  \n",
            " dropout (Dropout)              (None, 768)          0           ['keras_layer_1[0][13]']         \n",
            "                                                                                                  \n",
            " output (Dense)                 (None, 9)            6921        ['dropout[0][0]']                \n",
            "                                                                                                  \n",
            "==================================================================================================\n",
            "Total params: 109,489,162\n",
            "Trainable params: 6,921\n",
            "Non-trainable params: 109,482,241\n",
            "__________________________________________________________________________________________________\n"
          ]
        }
      ]
    },
    {
      "cell_type": "code",
      "source": [
        "METRICS = [\n",
        "           tf.keras.metrics.BinaryAccuracy(name=\"Accuracy\"),\n",
        "           tf.keras.metrics.Precision(name=\"Precision\"),\n",
        "           tf.keras.metrics.Recall(name=\"Recall\"),\n",
        "]\n",
        "model.compile(optimizer=tf.keras.optimizers.Adam(learning_rate=0.001), \n",
        "              loss=tf.keras.losses.CategoricalCrossentropy(), \n",
        "              metrics=METRICS)"
      ],
      "metadata": {
        "id": "j1Wunx-1FhCv"
      },
      "execution_count": 38,
      "outputs": []
    },
    {
      "cell_type": "code",
      "source": [
        "model.fit(x_train, y_train, validation_data=(x_test, y_test), epochs=3)"
      ],
      "metadata": {
        "id": "VQqmajG1FvmY"
      },
      "execution_count": null,
      "outputs": []
    }
  ]
}